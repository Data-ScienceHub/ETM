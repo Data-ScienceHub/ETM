{
 "cells": [
  {
   "cell_type": "code",
   "execution_count": 1,
   "id": "16769ec5-6535-418a-81b8-34a010034f30",
   "metadata": {},
   "outputs": [],
   "source": [
    "import numpy as np\n",
    "import pandas as pd"
   ]
  },
  {
   "cell_type": "code",
   "execution_count": 3,
   "id": "9b16aac5-814a-41fc-b8ab-753066b2cc5b",
   "metadata": {},
   "outputs": [],
   "source": [
    "pred_seqs = pd.read_csv('pred_seqs.csv')\n",
    "class_labels = pd.read_csv('class_labels.csv')"
   ]
  },
  {
   "cell_type": "code",
   "execution_count": 4,
   "id": "bda9dd98-18d0-48e2-b963-60ef97138f7c",
   "metadata": {},
   "outputs": [
    {
     "data": {
      "text/html": [
       "<div>\n",
       "<style scoped>\n",
       "    .dataframe tbody tr th:only-of-type {\n",
       "        vertical-align: middle;\n",
       "    }\n",
       "\n",
       "    .dataframe tbody tr th {\n",
       "        vertical-align: top;\n",
       "    }\n",
       "\n",
       "    .dataframe thead th {\n",
       "        text-align: right;\n",
       "    }\n",
       "</style>\n",
       "<table border=\"1\" class=\"dataframe\">\n",
       "  <thead>\n",
       "    <tr style=\"text-align: right;\">\n",
       "      <th></th>\n",
       "      <th>Prediction Sequences</th>\n",
       "    </tr>\n",
       "  </thead>\n",
       "  <tbody>\n",
       "    <tr>\n",
       "      <th>0</th>\n",
       "      <td>[5330000.  220000.  240000.]</td>\n",
       "    </tr>\n",
       "    <tr>\n",
       "      <th>1</th>\n",
       "      <td>[5880000. 2180000. 1560000.]</td>\n",
       "    </tr>\n",
       "    <tr>\n",
       "      <th>2</th>\n",
       "      <td>[5.0900e+06 4.0000e+05 1.2000e+05 3.4783e+08 4...</td>\n",
       "    </tr>\n",
       "    <tr>\n",
       "      <th>3</th>\n",
       "      <td>[4960000.   40000.   30000.]</td>\n",
       "    </tr>\n",
       "    <tr>\n",
       "      <th>4</th>\n",
       "      <td>[1.4896e+08 1.2000e+05 1.4000e+05]</td>\n",
       "    </tr>\n",
       "    <tr>\n",
       "      <th>...</th>\n",
       "      <td>...</td>\n",
       "    </tr>\n",
       "    <tr>\n",
       "      <th>1701225</th>\n",
       "      <td>[4950000.  110000.  100000.]</td>\n",
       "    </tr>\n",
       "    <tr>\n",
       "      <th>1701226</th>\n",
       "      <td>[]</td>\n",
       "    </tr>\n",
       "    <tr>\n",
       "      <th>1701227</th>\n",
       "      <td>[4.8900000e+06 1.2000000e+05 1.7000000e+05 5.2...</td>\n",
       "    </tr>\n",
       "    <tr>\n",
       "      <th>1701228</th>\n",
       "      <td>[]</td>\n",
       "    </tr>\n",
       "    <tr>\n",
       "      <th>1701229</th>\n",
       "      <td>[]</td>\n",
       "    </tr>\n",
       "  </tbody>\n",
       "</table>\n",
       "<p>1701230 rows × 1 columns</p>\n",
       "</div>"
      ],
      "text/plain": [
       "                                      Prediction Sequences\n",
       "0                             [5330000.  220000.  240000.]\n",
       "1                             [5880000. 2180000. 1560000.]\n",
       "2        [5.0900e+06 4.0000e+05 1.2000e+05 3.4783e+08 4...\n",
       "3                             [4960000.   40000.   30000.]\n",
       "4                       [1.4896e+08 1.2000e+05 1.4000e+05]\n",
       "...                                                    ...\n",
       "1701225                       [4950000.  110000.  100000.]\n",
       "1701226                                                 []\n",
       "1701227  [4.8900000e+06 1.2000000e+05 1.7000000e+05 5.2...\n",
       "1701228                                                 []\n",
       "1701229                                                 []\n",
       "\n",
       "[1701230 rows x 1 columns]"
      ]
     },
     "execution_count": 4,
     "metadata": {},
     "output_type": "execute_result"
    }
   ],
   "source": [
    "pred_seqs"
   ]
  },
  {
   "cell_type": "code",
   "execution_count": 5,
   "id": "5f6ccc6b-44ef-486e-aea5-38a8c02c19d5",
   "metadata": {},
   "outputs": [],
   "source": [
    "combined = pd.concat([pred_seqs, class_labels], axis = 1)"
   ]
  },
  {
   "cell_type": "code",
   "execution_count": 6,
   "id": "743bedf0-5240-4a4d-a1ed-fd06be436305",
   "metadata": {},
   "outputs": [
    {
     "data": {
      "text/html": [
       "<div>\n",
       "<style scoped>\n",
       "    .dataframe tbody tr th:only-of-type {\n",
       "        vertical-align: middle;\n",
       "    }\n",
       "\n",
       "    .dataframe tbody tr th {\n",
       "        vertical-align: top;\n",
       "    }\n",
       "\n",
       "    .dataframe thead th {\n",
       "        text-align: right;\n",
       "    }\n",
       "</style>\n",
       "<table border=\"1\" class=\"dataframe\">\n",
       "  <thead>\n",
       "    <tr style=\"text-align: right;\">\n",
       "      <th></th>\n",
       "      <th>Prediction Sequences</th>\n",
       "      <th>Labels</th>\n",
       "    </tr>\n",
       "  </thead>\n",
       "  <tbody>\n",
       "    <tr>\n",
       "      <th>0</th>\n",
       "      <td>[5330000.  220000.  240000.]</td>\n",
       "      <td>0</td>\n",
       "    </tr>\n",
       "    <tr>\n",
       "      <th>1</th>\n",
       "      <td>[5880000. 2180000. 1560000.]</td>\n",
       "      <td>0</td>\n",
       "    </tr>\n",
       "    <tr>\n",
       "      <th>2</th>\n",
       "      <td>[5.0900e+06 4.0000e+05 1.2000e+05 3.4783e+08 4...</td>\n",
       "      <td>0</td>\n",
       "    </tr>\n",
       "    <tr>\n",
       "      <th>3</th>\n",
       "      <td>[4960000.   40000.   30000.]</td>\n",
       "      <td>0</td>\n",
       "    </tr>\n",
       "    <tr>\n",
       "      <th>4</th>\n",
       "      <td>[1.4896e+08 1.2000e+05 1.4000e+05]</td>\n",
       "      <td>0</td>\n",
       "    </tr>\n",
       "    <tr>\n",
       "      <th>...</th>\n",
       "      <td>...</td>\n",
       "      <td>...</td>\n",
       "    </tr>\n",
       "    <tr>\n",
       "      <th>1701225</th>\n",
       "      <td>[4950000.  110000.  100000.]</td>\n",
       "      <td>0</td>\n",
       "    </tr>\n",
       "    <tr>\n",
       "      <th>1701226</th>\n",
       "      <td>[]</td>\n",
       "      <td>0</td>\n",
       "    </tr>\n",
       "    <tr>\n",
       "      <th>1701227</th>\n",
       "      <td>[4.8900000e+06 1.2000000e+05 1.7000000e+05 5.2...</td>\n",
       "      <td>1</td>\n",
       "    </tr>\n",
       "    <tr>\n",
       "      <th>1701228</th>\n",
       "      <td>[]</td>\n",
       "      <td>0</td>\n",
       "    </tr>\n",
       "    <tr>\n",
       "      <th>1701229</th>\n",
       "      <td>[]</td>\n",
       "      <td>0</td>\n",
       "    </tr>\n",
       "  </tbody>\n",
       "</table>\n",
       "<p>1701230 rows × 2 columns</p>\n",
       "</div>"
      ],
      "text/plain": [
       "                                      Prediction Sequences  Labels\n",
       "0                             [5330000.  220000.  240000.]       0\n",
       "1                             [5880000. 2180000. 1560000.]       0\n",
       "2        [5.0900e+06 4.0000e+05 1.2000e+05 3.4783e+08 4...       0\n",
       "3                             [4960000.   40000.   30000.]       0\n",
       "4                       [1.4896e+08 1.2000e+05 1.4000e+05]       0\n",
       "...                                                    ...     ...\n",
       "1701225                       [4950000.  110000.  100000.]       0\n",
       "1701226                                                 []       0\n",
       "1701227  [4.8900000e+06 1.2000000e+05 1.7000000e+05 5.2...       1\n",
       "1701228                                                 []       0\n",
       "1701229                                                 []       0\n",
       "\n",
       "[1701230 rows x 2 columns]"
      ]
     },
     "execution_count": 6,
     "metadata": {},
     "output_type": "execute_result"
    }
   ],
   "source": [
    "combined"
   ]
  },
  {
   "cell_type": "code",
   "execution_count": 7,
   "id": "2f93076a-8780-462d-b27d-f5e49ad64dc7",
   "metadata": {},
   "outputs": [
    {
     "name": "stderr",
     "output_type": "stream",
     "text": [
      "2023-02-03 14:01:36.941374: I tensorflow/core/platform/cpu_feature_guard.cc:193] This TensorFlow binary is optimized with oneAPI Deep Neural Network Library (oneDNN) to use the following CPU instructions in performance-critical operations:  SSE4.1 SSE4.2\n",
      "To enable them in other operations, rebuild TensorFlow with the appropriate compiler flags.\n",
      "/Users/erictria/opt/anaconda3/envs/capstone/lib/python3.9/site-packages/scipy/__init__.py:146: UserWarning: A NumPy version >=1.16.5 and <1.23.0 is required for this version of SciPy (detected version 1.24.0\n",
      "  warnings.warn(f\"A NumPy version >={np_minversion} and <{np_maxversion}\"\n"
     ]
    }
   ],
   "source": [
    "from keras.models import Sequential\n",
    "from keras.layers import Dense, SimpleRNN\n",
    "from sklearn.preprocessing import MinMaxScaler\n",
    "from sklearn.metrics import mean_squared_error\n",
    "import math\n",
    "import matplotlib.pyplot as plt"
   ]
  },
  {
   "cell_type": "code",
   "execution_count": 9,
   "id": "bb01f593-d34e-43b0-937d-565c78731955",
   "metadata": {},
   "outputs": [],
   "source": [
    "def create_RNN(hidden_units, dense_units, input_shape, activation):\n",
    "    model = Sequential()\n",
    "    model.add(SimpleRNN(hidden_units, input_shape=input_shape, \n",
    "                        activation=activation[0]))\n",
    "    model.add(Dense(units=dense_units, activation=activation[1]))\n",
    "    model.compile(loss='mean_squared_error', optimizer='adam')\n",
    "    return model"
   ]
  },
  {
   "cell_type": "code",
   "execution_count": null,
   "id": "84108e6b-aa18-4a44-8173-8c970858fae2",
   "metadata": {},
   "outputs": [],
   "source": [
    "# Parameter split_percent defines the ratio of training examples\n",
    "def get_train_test(url, split_percent=0.8):\n",
    "    df = read_csv(url, usecols=[1], engine='python')\n",
    "    data = np.array(df.values.astype('float32'))\n",
    "    scaler = MinMaxScaler(feature_range=(0, 1))\n",
    "    data = scaler.fit_transform(data).flatten()\n",
    "    n = len(data)\n",
    "    # Point for splitting data into train and test\n",
    "    split = int(n*split_percent)\n",
    "    train_data = data[range(split)]\n",
    "    test_data = data[split:]\n",
    "    return train_data, test_data, data\n",
    "\n",
    "sunspots_url = 'https://raw.githubusercontent.com/jbrownlee/Datasets/master/monthly-sunspots.csv'\n",
    "train_data, test_data, data = get_train_test(sunspots_url)"
   ]
  },
  {
   "cell_type": "code",
   "execution_count": 10,
   "id": "803a20bb-944f-4211-a310-8c9640ffbb03",
   "metadata": {},
   "outputs": [],
   "source": [
    "from tensorflow.keras.datasets import imdb"
   ]
  },
  {
   "cell_type": "code",
   "execution_count": 12,
   "id": "3aebcab8-72d8-4540-881a-7065374e72f8",
   "metadata": {},
   "outputs": [
    {
     "name": "stdout",
     "output_type": "stream",
     "text": [
      "Downloading data from https://storage.googleapis.com/tensorflow/tf-keras-datasets/imdb.npz\n",
      "17464789/17464789 [==============================] - 1s 0us/step\n"
     ]
    }
   ],
   "source": [
    "(X_train, y_train), (X_test, y_test) = imdb.load_data(num_words=5000)"
   ]
  },
  {
   "cell_type": "code",
   "execution_count": 13,
   "id": "9b16c134-1885-4695-98d3-a94d6090ecda",
   "metadata": {},
   "outputs": [
    {
     "data": {
      "text/plain": [
       "array([list([1, 14, 22, 16, 43, 530, 973, 1622, 1385, 65, 458, 4468, 66, 3941, 4, 173, 36, 256, 5, 25, 100, 43, 838, 112, 50, 670, 2, 9, 35, 480, 284, 5, 150, 4, 172, 112, 167, 2, 336, 385, 39, 4, 172, 4536, 1111, 17, 546, 38, 13, 447, 4, 192, 50, 16, 6, 147, 2025, 19, 14, 22, 4, 1920, 4613, 469, 4, 22, 71, 87, 12, 16, 43, 530, 38, 76, 15, 13, 1247, 4, 22, 17, 515, 17, 12, 16, 626, 18, 2, 5, 62, 386, 12, 8, 316, 8, 106, 5, 4, 2223, 2, 16, 480, 66, 3785, 33, 4, 130, 12, 16, 38, 619, 5, 25, 124, 51, 36, 135, 48, 25, 1415, 33, 6, 22, 12, 215, 28, 77, 52, 5, 14, 407, 16, 82, 2, 8, 4, 107, 117, 2, 15, 256, 4, 2, 7, 3766, 5, 723, 36, 71, 43, 530, 476, 26, 400, 317, 46, 7, 4, 2, 1029, 13, 104, 88, 4, 381, 15, 297, 98, 32, 2071, 56, 26, 141, 6, 194, 2, 18, 4, 226, 22, 21, 134, 476, 26, 480, 5, 144, 30, 2, 18, 51, 36, 28, 224, 92, 25, 104, 4, 226, 65, 16, 38, 1334, 88, 12, 16, 283, 5, 16, 4472, 113, 103, 32, 15, 16, 2, 19, 178, 32]),\n",
       "       list([1, 194, 1153, 194, 2, 78, 228, 5, 6, 1463, 4369, 2, 134, 26, 4, 715, 8, 118, 1634, 14, 394, 20, 13, 119, 954, 189, 102, 5, 207, 110, 3103, 21, 14, 69, 188, 8, 30, 23, 7, 4, 249, 126, 93, 4, 114, 9, 2300, 1523, 5, 647, 4, 116, 9, 35, 2, 4, 229, 9, 340, 1322, 4, 118, 9, 4, 130, 4901, 19, 4, 1002, 5, 89, 29, 952, 46, 37, 4, 455, 9, 45, 43, 38, 1543, 1905, 398, 4, 1649, 26, 2, 5, 163, 11, 3215, 2, 4, 1153, 9, 194, 775, 7, 2, 2, 349, 2637, 148, 605, 2, 2, 15, 123, 125, 68, 2, 2, 15, 349, 165, 4362, 98, 5, 4, 228, 9, 43, 2, 1157, 15, 299, 120, 5, 120, 174, 11, 220, 175, 136, 50, 9, 4373, 228, 2, 5, 2, 656, 245, 2350, 5, 4, 2, 131, 152, 491, 18, 2, 32, 2, 1212, 14, 9, 6, 371, 78, 22, 625, 64, 1382, 9, 8, 168, 145, 23, 4, 1690, 15, 16, 4, 1355, 5, 28, 6, 52, 154, 462, 33, 89, 78, 285, 16, 145, 95]),\n",
       "       list([1, 14, 47, 8, 30, 31, 7, 4, 249, 108, 7, 4, 2, 54, 61, 369, 13, 71, 149, 14, 22, 112, 4, 2401, 311, 12, 16, 3711, 33, 75, 43, 1829, 296, 4, 86, 320, 35, 534, 19, 263, 4821, 1301, 4, 1873, 33, 89, 78, 12, 66, 16, 4, 360, 7, 4, 58, 316, 334, 11, 4, 1716, 43, 645, 662, 8, 257, 85, 1200, 42, 1228, 2578, 83, 68, 3912, 15, 36, 165, 1539, 278, 36, 69, 2, 780, 8, 106, 14, 2, 1338, 18, 6, 22, 12, 215, 28, 610, 40, 6, 87, 326, 23, 2300, 21, 23, 22, 12, 272, 40, 57, 31, 11, 4, 22, 47, 6, 2307, 51, 9, 170, 23, 595, 116, 595, 1352, 13, 191, 79, 638, 89, 2, 14, 9, 8, 106, 607, 624, 35, 534, 6, 227, 7, 129, 113]),\n",
       "       ...,\n",
       "       list([1, 11, 6, 230, 245, 2, 9, 6, 1225, 446, 2, 45, 2174, 84, 2, 4007, 21, 4, 912, 84, 2, 325, 725, 134, 2, 1715, 84, 5, 36, 28, 57, 1099, 21, 8, 140, 8, 703, 5, 2, 84, 56, 18, 1644, 14, 9, 31, 7, 4, 2, 1209, 2295, 2, 1008, 18, 6, 20, 207, 110, 563, 12, 8, 2901, 2, 8, 97, 6, 20, 53, 4767, 74, 4, 460, 364, 1273, 29, 270, 11, 960, 108, 45, 40, 29, 2961, 395, 11, 6, 4065, 500, 7, 2, 89, 364, 70, 29, 140, 4, 64, 4780, 11, 4, 2678, 26, 178, 4, 529, 443, 2, 5, 27, 710, 117, 2, 2, 165, 47, 84, 37, 131, 818, 14, 595, 10, 10, 61, 1242, 1209, 10, 10, 288, 2260, 1702, 34, 2901, 2, 4, 65, 496, 4, 231, 7, 790, 5, 6, 320, 234, 2766, 234, 1119, 1574, 7, 496, 4, 139, 929, 2901, 2, 2, 5, 4241, 18, 4, 2, 2, 250, 11, 1818, 2, 4, 4217, 2, 747, 1115, 372, 1890, 1006, 541, 2, 7, 4, 59, 2, 4, 3586, 2]),\n",
       "       list([1, 1446, 2, 69, 72, 3305, 13, 610, 930, 8, 12, 582, 23, 5, 16, 484, 685, 54, 349, 11, 4120, 2959, 45, 58, 1466, 13, 197, 12, 16, 43, 23, 2, 5, 62, 30, 145, 402, 11, 4131, 51, 575, 32, 61, 369, 71, 66, 770, 12, 1054, 75, 100, 2198, 8, 4, 105, 37, 69, 147, 712, 75, 3543, 44, 257, 390, 5, 69, 263, 514, 105, 50, 286, 1814, 23, 4, 123, 13, 161, 40, 5, 421, 4, 116, 16, 897, 13, 2, 40, 319, 2, 112, 2, 11, 4803, 121, 25, 70, 3468, 4, 719, 3798, 13, 18, 31, 62, 40, 8, 2, 4, 2, 7, 14, 123, 5, 942, 25, 8, 721, 12, 145, 5, 202, 12, 160, 580, 202, 12, 6, 52, 58, 2, 92, 401, 728, 12, 39, 14, 251, 8, 15, 251, 5, 2, 12, 38, 84, 80, 124, 12, 9, 23]),\n",
       "       list([1, 17, 6, 194, 337, 7, 4, 204, 22, 45, 254, 8, 106, 14, 123, 4, 2, 270, 2, 5, 2, 2, 732, 2098, 101, 405, 39, 14, 1034, 4, 1310, 9, 115, 50, 305, 12, 47, 4, 168, 5, 235, 7, 38, 111, 699, 102, 7, 4, 4039, 2, 9, 24, 6, 78, 1099, 17, 2345, 2, 21, 27, 2, 2, 5, 2, 1603, 92, 1183, 4, 1310, 7, 4, 204, 42, 97, 90, 35, 221, 109, 29, 127, 27, 118, 8, 97, 12, 157, 21, 2, 2, 9, 6, 66, 78, 1099, 4, 631, 1191, 5, 2642, 272, 191, 1070, 6, 2, 8, 2197, 2, 2, 544, 5, 383, 1271, 848, 1468, 2, 497, 2, 8, 1597, 2, 2, 21, 60, 27, 239, 9, 43, 2, 209, 405, 10, 10, 12, 764, 40, 4, 248, 20, 12, 16, 5, 174, 1791, 72, 7, 51, 6, 1739, 22, 4, 204, 131, 9])],\n",
       "      dtype=object)"
      ]
     },
     "execution_count": 13,
     "metadata": {},
     "output_type": "execute_result"
    }
   ],
   "source": [
    "X_train"
   ]
  },
  {
   "cell_type": "code",
   "execution_count": 14,
   "id": "f816f65e-419f-47eb-aa5b-40299699ae92",
   "metadata": {},
   "outputs": [],
   "source": [
    "from tensorflow.keras.models import Sequential\n",
    "from tensorflow.keras.layers import Dense\n",
    "from tensorflow.keras.layers import LSTM\n",
    "from tensorflow.keras.layers import Embedding\n",
    "from tensorflow.keras.preprocessing import sequence"
   ]
  },
  {
   "cell_type": "code",
   "execution_count": 16,
   "id": "457bb3fd-9d7f-4d3b-a0a8-9c4cbb0a0fea",
   "metadata": {},
   "outputs": [],
   "source": [
    "import tensorflow as tf\n",
    "tf.random.set_seed(7)"
   ]
  },
  {
   "cell_type": "code",
   "execution_count": 24,
   "id": "dd1f210c-349b-4be5-acc1-42406f7849e2",
   "metadata": {},
   "outputs": [
    {
     "data": {
      "text/plain": [
       "0                               [5330000.  220000.  240000.]\n",
       "1                               [5880000. 2180000. 1560000.]\n",
       "2          [5.0900e+06 4.0000e+05 1.2000e+05 3.4783e+08 4...\n",
       "3                               [4960000.   40000.   30000.]\n",
       "4                         [1.4896e+08 1.2000e+05 1.4000e+05]\n",
       "                                 ...                        \n",
       "1701225                         [4950000.  110000.  100000.]\n",
       "1701226                                                   []\n",
       "1701227    [4.8900000e+06 1.2000000e+05 1.7000000e+05 5.2...\n",
       "1701228                                                   []\n",
       "1701229                                                   []\n",
       "Name: Prediction Sequences, Length: 1701230, dtype: object"
      ]
     },
     "execution_count": 24,
     "metadata": {},
     "output_type": "execute_result"
    }
   ],
   "source": [
    "#pred_seqs_secs = pred_seqs / 1000000\n",
    "pred_seqs['Prediction Sequences']"
   ]
  },
  {
   "cell_type": "code",
   "execution_count": 45,
   "id": "5096a46f-6c07-4972-908b-b10d93a5b7f5",
   "metadata": {},
   "outputs": [
    {
     "data": {
      "text/plain": [
       "'[4.8900000e+06 1.2000000e+05 1.7000000e+05 5.2952378e+11]'"
      ]
     },
     "execution_count": 45,
     "metadata": {},
     "output_type": "execute_result"
    }
   ],
   "source": [
    "pred_seqs['Prediction Sequences'][1701227]"
   ]
  },
  {
   "cell_type": "code",
   "execution_count": 26,
   "id": "45b7241f-05fe-4de2-a0fb-b9a6fdd6bbfa",
   "metadata": {},
   "outputs": [
    {
     "data": {
      "text/plain": [
       "'[5.0900e+06 4.0000e+05 1.2000e+05 3.4783e+08 4.9700e+06 1.6590e+07\\n 2.8392e+08]'"
      ]
     },
     "execution_count": 26,
     "metadata": {},
     "output_type": "execute_result"
    }
   ],
   "source": [
    "test = pred_seqs['Prediction Sequences'][2]\n",
    "test"
   ]
  },
  {
   "cell_type": "code",
   "execution_count": 67,
   "id": "7e1b0462-1d60-46b5-be1c-cfde7c8fd2d0",
   "metadata": {},
   "outputs": [],
   "source": [
    "def clean_str(my_str):\n",
    "    test_clean = my_str.replace('[', '').replace(']', '')\n",
    "    test_arr = test_clean.split(' ')\n",
    "    test_arr = list(filter(lambda x: x != '' and x != '...', test_arr))\n",
    "    if len(test_arr) == 0:\n",
    "        return np.array(test_arr)\n",
    "    try:\n",
    "        final_arr = [float(t) for t in test_arr]\n",
    "    except Exception as e:\n",
    "        print(e)\n",
    "        print(test_arr)\n",
    "        return\n",
    "    return np.array(final_arr)"
   ]
  },
  {
   "cell_type": "code",
   "execution_count": 68,
   "id": "ce69fa1c-73a5-41f4-8a1b-3f9dc896e5d1",
   "metadata": {},
   "outputs": [],
   "source": [
    "pred_seqs_2 = pred_seqs['Prediction Sequences'].apply(clean_str)"
   ]
  },
  {
   "cell_type": "code",
   "execution_count": 69,
   "id": "421b17b2-73a7-4cec-9796-3306bee40ad0",
   "metadata": {},
   "outputs": [
    {
     "data": {
      "text/plain": [
       "0                            [5330000.0, 220000.0, 240000.0]\n",
       "1                          [5880000.0, 2180000.0, 1560000.0]\n",
       "2          [5090000.0, 400000.0, 120000.0, 347830000.0, 4...\n",
       "3                              [4960000.0, 40000.0, 30000.0]\n",
       "4                          [148960000.0, 120000.0, 140000.0]\n",
       "                                 ...                        \n",
       "1701225                      [4950000.0, 110000.0, 100000.0]\n",
       "1701226                                                   []\n",
       "1701227      [4890000.0, 120000.0, 170000.0, 529523780000.0]\n",
       "1701228                                                   []\n",
       "1701229                                                   []\n",
       "Name: Prediction Sequences, Length: 1701230, dtype: object"
      ]
     },
     "execution_count": 69,
     "metadata": {},
     "output_type": "execute_result"
    }
   ],
   "source": [
    "pred_seqs_2"
   ]
  },
  {
   "cell_type": "code",
   "execution_count": 77,
   "id": "5c5e695a-926d-4e2f-ac01-f54d67e81c59",
   "metadata": {},
   "outputs": [],
   "source": [
    "pred_time_seqs_arr = np.array(pred_seqs_2, dtype=object)\n",
    "class_labels_arr = np.array(class_labels, dtype=object)\n",
    "class_labels_arr = np.asarray(class_labels_arr).astype('float32')"
   ]
  },
  {
   "cell_type": "code",
   "execution_count": 78,
   "id": "e9f2dbf0-08a9-4a19-a89e-fa7567d589bd",
   "metadata": {},
   "outputs": [],
   "source": [
    "from sklearn.model_selection import train_test_split\n",
    "X_train, X_test, y_train, y_test = train_test_split(pred_time_seqs_arr, class_labels_arr, test_size=0.2, random_state=6013)\n",
    "\n"
   ]
  },
  {
   "cell_type": "code",
   "execution_count": 79,
   "id": "9d774766-529f-48a0-8237-84b315767226",
   "metadata": {},
   "outputs": [],
   "source": [
    "X_train = sequence.pad_sequences(X_train, maxlen=24, value=-1.)\n",
    "X_test = sequence.pad_sequences(X_test, maxlen=24, value=-1.)"
   ]
  },
  {
   "cell_type": "code",
   "execution_count": 84,
   "id": "d689eab5-5a13-4d32-af43-cf32d46799f4",
   "metadata": {},
   "outputs": [],
   "source": [
    "from tensorflow.keras.layers import Dropout"
   ]
  },
  {
   "cell_type": "code",
   "execution_count": 86,
   "id": "d4576f38-dd4f-42b6-a63a-c4baa052598b",
   "metadata": {},
   "outputs": [
    {
     "name": "stdout",
     "output_type": "stream",
     "text": [
      "Model: \"sequential_12\"\n",
      "_________________________________________________________________\n",
      " Layer (type)                Output Shape              Param #   \n",
      "=================================================================\n",
      " lstm_11 (LSTM)              (None, 50)                10400     \n",
      "                                                                 \n",
      " dropout_2 (Dropout)         (None, 50)                0         \n",
      "                                                                 \n",
      " dense_14 (Dense)            (None, 10)                510       \n",
      "                                                                 \n",
      " dropout_3 (Dropout)         (None, 10)                0         \n",
      "                                                                 \n",
      " dense_15 (Dense)            (None, 1)                 11        \n",
      "                                                                 \n",
      "=================================================================\n",
      "Total params: 10,921\n",
      "Trainable params: 10,921\n",
      "Non-trainable params: 0\n",
      "_________________________________________________________________\n",
      "None\n",
      "Epoch 1/10\n",
      "21266/21266 [==============================] - 180s 8ms/step - loss: 0.0669 - accuracy: 0.9791 - val_loss: 0.0640 - val_accuracy: 0.9796\n",
      "Epoch 2/10\n",
      "21266/21266 [==============================] - 180s 8ms/step - loss: 0.0654 - accuracy: 0.9794 - val_loss: 0.0638 - val_accuracy: 0.9796\n",
      "Epoch 3/10\n",
      "21266/21266 [==============================] - 178s 8ms/step - loss: 0.0654 - accuracy: 0.9794 - val_loss: 0.0639 - val_accuracy: 0.9796\n",
      "Epoch 4/10\n",
      "21266/21266 [==============================] - 179s 8ms/step - loss: 0.0654 - accuracy: 0.9794 - val_loss: 0.0640 - val_accuracy: 0.9796\n",
      "Epoch 5/10\n",
      "21266/21266 [==============================] - 179s 8ms/step - loss: 0.0655 - accuracy: 0.9794 - val_loss: 0.0641 - val_accuracy: 0.9796\n",
      "Epoch 6/10\n",
      "21266/21266 [==============================] - 179s 8ms/step - loss: 0.0655 - accuracy: 0.9794 - val_loss: 0.0641 - val_accuracy: 0.9796\n",
      "Epoch 7/10\n",
      "21266/21266 [==============================] - 266s 13ms/step - loss: 0.0655 - accuracy: 0.9794 - val_loss: 0.0640 - val_accuracy: 0.9796\n",
      "Epoch 8/10\n",
      "21266/21266 [==============================] - 180s 8ms/step - loss: 0.0653 - accuracy: 0.9794 - val_loss: 0.0640 - val_accuracy: 0.9796\n",
      "Epoch 9/10\n",
      "21266/21266 [==============================] - 181s 8ms/step - loss: 0.0653 - accuracy: 0.9794 - val_loss: 0.0641 - val_accuracy: 0.9796\n",
      "Epoch 10/10\n",
      "21266/21266 [==============================] - 180s 8ms/step - loss: 0.0654 - accuracy: 0.9794 - val_loss: 0.0640 - val_accuracy: 0.9796\n"
     ]
    },
    {
     "data": {
      "text/plain": [
       "<keras.callbacks.History at 0x7fc49120f700>"
      ]
     },
     "execution_count": 86,
     "metadata": {},
     "output_type": "execute_result"
    }
   ],
   "source": [
    "# create the model\n",
    "#embedding_vecor_length = 32\n",
    "#max_sequence_length = 24\n",
    "#top_words = 5000\n",
    "model = Sequential()\n",
    "#model.add(Embedding(top_words, embedding_vecor_length, input_length=max_sequence_length))\n",
    "#model.add(LSTM(100))\n",
    "#model.add(Dense(1, activation='sigmoid'))\n",
    "\n",
    "model.add(LSTM(50, input_shape = (24, 1)))\n",
    "model.add(Dropout(0.2))\n",
    "model.add(Dense(10, activation='relu'))\n",
    "model.add(Dropout(0.2))\n",
    "model.add(Dense(1, activation='sigmoid'))\n",
    "\n",
    "model.compile(loss='binary_crossentropy', optimizer='adam', metrics=['accuracy'])\n",
    "print(model.summary())\n",
    "model.fit(X_train, y_train, validation_data=(X_test, y_test), epochs=10, batch_size=64)"
   ]
  },
  {
   "cell_type": "code",
   "execution_count": null,
   "id": "f91e6880-756a-4b7f-a8b8-1bb91684e023",
   "metadata": {},
   "outputs": [],
   "source": []
  }
 ],
 "metadata": {
  "kernelspec": {
   "display_name": "Python 3 (ipykernel)",
   "language": "python",
   "name": "python3"
  },
  "language_info": {
   "codemirror_mode": {
    "name": "ipython",
    "version": 3
   },
   "file_extension": ".py",
   "mimetype": "text/x-python",
   "name": "python",
   "nbconvert_exporter": "python",
   "pygments_lexer": "ipython3",
   "version": "3.9.12"
  }
 },
 "nbformat": 4,
 "nbformat_minor": 5
}
