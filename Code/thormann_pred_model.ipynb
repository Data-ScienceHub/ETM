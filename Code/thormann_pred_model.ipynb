{
 "cells": [
  {
   "cell_type": "markdown",
   "id": "ff9a8e3b-4879-49ef-9217-94595b4fa383",
   "metadata": {
    "tags": []
   },
   "source": [
    "## Preliminary Prediction Model"
   ]
  },
  {
   "cell_type": "code",
   "execution_count": 1,
   "id": "6b34c446-3833-48c5-830c-4af2a09a488b",
   "metadata": {},
   "outputs": [
    {
     "name": "stderr",
     "output_type": "stream",
     "text": [
      "2023-02-03 15:22:26.110093: I tensorflow/core/platform/cpu_feature_guard.cc:193] This TensorFlow binary is optimized with oneAPI Deep Neural Network Library (oneDNN) to use the following CPU instructions in performance-critical operations:  AVX2 FMA\n",
      "To enable them in other operations, rebuild TensorFlow with the appropriate compiler flags.\n"
     ]
    }
   ],
   "source": [
    "from pandas import read_csv\n",
    "import pandas as pd\n",
    "import numpy as np\n",
    "from keras.models import Sequential\n",
    "from keras.layers import Dense, SimpleRNN\n",
    "from sklearn.preprocessing import MinMaxScaler\n",
    "from sklearn.metrics import mean_squared_error\n",
    "import math\n",
    "import matplotlib.pyplot as plt"
   ]
  },
  {
   "cell_type": "code",
   "execution_count": 2,
   "id": "65aecb32-a04c-4384-af12-328c450164e9",
   "metadata": {},
   "outputs": [],
   "source": [
    "import tensorflow as tf\n",
    "from tensorflow.keras.datasets import imdb\n",
    "from tensorflow.keras.models import Sequential\n",
    "from tensorflow.keras.layers import Dense\n",
    "from tensorflow.keras.layers import LSTM\n",
    "from tensorflow.keras.layers import Embedding\n",
    "from tensorflow.keras.preprocessing import sequence\n",
    "# fix random seed for reproducibility\n",
    "tf.random.set_seed(7)"
   ]
  },
  {
   "cell_type": "code",
   "execution_count": 3,
   "id": "153913d1-966d-4581-a80c-9bf0f0a169df",
   "metadata": {},
   "outputs": [],
   "source": [
    "pred_seqs = pd.read_csv('pred_seqs.csv')\n",
    "class_labels = pd.read_csv('class_labels.csv')\n",
    "\n",
    "combined = pd.concat([pred_seqs['Prediction Sequences'], class_labels['Labels']], axis=1, keys=['Prediction Sequences', 'Labels'])"
   ]
  },
  {
   "cell_type": "code",
   "execution_count": 4,
   "id": "9a0a297e-0fc0-43c1-906a-98bebbff9bcf",
   "metadata": {},
   "outputs": [],
   "source": [
    "def clean_str(my_str):\n",
    "    test_clean = my_str.replace('[', '').replace(']', '')\n",
    "    test_arr = test_clean.split(' ')\n",
    "    test_arr = list(filter(lambda x: x != '' and x != '...', test_arr))\n",
    "    if len(test_arr) == 0:\n",
    "        return np.array(test_arr)\n",
    "    try:\n",
    "        final_arr = [float(t)/100000 for t in test_arr]\n",
    "    except Exception as e:\n",
    "        print(e)\n",
    "        print(test_arr)\n",
    "        return\n",
    "    return np.array(final_arr)"
   ]
  },
  {
   "cell_type": "code",
   "execution_count": 5,
   "id": "47e285ac-9212-4c7b-b87c-851a9f0eb7b7",
   "metadata": {},
   "outputs": [],
   "source": [
    "pred_seqs_2 = pred_seqs['Prediction Sequences'].apply(clean_str)"
   ]
  },
  {
   "cell_type": "code",
   "execution_count": 6,
   "id": "dcb140cf-435e-45f6-aba5-508da7ce42e7",
   "metadata": {},
   "outputs": [],
   "source": [
    "combined['Prediction Sequences'] = pred_seqs_2"
   ]
  },
  {
   "cell_type": "code",
   "execution_count": 15,
   "id": "5a53be87-4dbe-4e14-85a6-fa83d7455fb1",
   "metadata": {},
   "outputs": [
    {
     "data": {
      "text/plain": [
       "0    1330908\n",
       "1     370322\n",
       "Name: Labels, dtype: int64"
      ]
     },
     "execution_count": 15,
     "metadata": {},
     "output_type": "execute_result"
    }
   ],
   "source": [
    "combined['Labels'].value_counts()"
   ]
  },
  {
   "cell_type": "code",
   "execution_count": 8,
   "id": "4e6f1b71-26a5-47b0-9417-49537276e50c",
   "metadata": {
    "tags": []
   },
   "outputs": [],
   "source": [
    "pred_time_seq_arr = np.array(combined['Prediction Sequences'], dtype=object)\n",
    "labels_time_seq_arr = np.array(combined['Labels'], dtype=object).astype('float32')"
   ]
  },
  {
   "cell_type": "code",
   "execution_count": 9,
   "id": "6721d5d1-27b3-4fd8-bc60-d07f5c332360",
   "metadata": {
    "tags": []
   },
   "outputs": [],
   "source": [
    "from sklearn.model_selection import train_test_split\n",
    "X_train, X_test, y_train, y_test = train_test_split(pred_time_seq_arr, labels_time_seq_arr, test_size=0.2, random_state=6013)"
   ]
  },
  {
   "cell_type": "code",
   "execution_count": 10,
   "id": "27b9f54e-a8e3-44ef-bd42-434b863b8a58",
   "metadata": {},
   "outputs": [],
   "source": [
    "X_train = sequence.pad_sequences(X_train, maxlen=24, value=-1.)\n",
    "X_test = sequence.pad_sequences(X_test, maxlen=24, value=-1.)"
   ]
  },
  {
   "cell_type": "code",
   "execution_count": 13,
   "id": "d9ae2e6a-390e-4b49-b213-48c80b7bc53e",
   "metadata": {},
   "outputs": [
    {
     "name": "stdout",
     "output_type": "stream",
     "text": [
      "Epoch 1/3\n",
      "21266/21266 [==============================] - 179s 8ms/step - loss: 0.1975 - accuracy: 0.9124 - val_loss: 0.1236 - val_accuracy: 0.9534\n",
      "Epoch 2/3\n",
      "21266/21266 [==============================] - 176s 8ms/step - loss: 0.1577 - accuracy: 0.9329 - val_loss: 0.1053 - val_accuracy: 0.9609\n",
      "Epoch 3/3\n",
      "21266/21266 [==============================] - 175s 8ms/step - loss: 0.1593 - accuracy: 0.9350 - val_loss: 0.1104 - val_accuracy: 0.9651\n"
     ]
    },
    {
     "data": {
      "text/plain": [
       "<keras.callbacks.History at 0x7fb2c5408580>"
      ]
     },
     "execution_count": 13,
     "metadata": {},
     "output_type": "execute_result"
    }
   ],
   "source": [
    "model = Sequential()\n",
    "model.add(LSTM(50, input_shape = (24,1)))\n",
    "model.add(Dense(1, activation='sigmoid'))\n",
    "model.compile(loss='binary_crossentropy', optimizer='adam', metrics=['accuracy'])\n",
    "model.fit(X_train, y_train, validation_data=(X_test, y_test), epochs=3, batch_size=64)"
   ]
  }
 ],
 "metadata": {
  "kernelspec": {
   "display_name": "Python 3 (ipykernel)",
   "language": "python",
   "name": "python3"
  },
  "language_info": {
   "codemirror_mode": {
    "name": "ipython",
    "version": 3
   },
   "file_extension": ".py",
   "mimetype": "text/x-python",
   "name": "python",
   "nbconvert_exporter": "python",
   "pygments_lexer": "ipython3",
   "version": "3.9.7"
  }
 },
 "nbformat": 4,
 "nbformat_minor": 5
}
