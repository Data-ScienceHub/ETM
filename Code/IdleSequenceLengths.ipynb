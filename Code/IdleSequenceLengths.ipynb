{
 "cells": [
  {
   "cell_type": "code",
   "execution_count": 2,
   "id": "3609bd4f-0c65-4b9f-8865-590999de7ab4",
   "metadata": {},
   "outputs": [],
   "source": [
    "import numpy as np\n",
    "import pandas as pd"
   ]
  },
  {
   "cell_type": "code",
   "execution_count": 3,
   "id": "ce52f939-0982-4f43-b81a-63194abcd79f",
   "metadata": {},
   "outputs": [
    {
     "data": {
      "text/html": [
       "<div>\n",
       "<style scoped>\n",
       "    .dataframe tbody tr th:only-of-type {\n",
       "        vertical-align: middle;\n",
       "    }\n",
       "\n",
       "    .dataframe tbody tr th {\n",
       "        vertical-align: top;\n",
       "    }\n",
       "\n",
       "    .dataframe thead th {\n",
       "        text-align: right;\n",
       "    }\n",
       "</style>\n",
       "<table border=\"1\" class=\"dataframe\">\n",
       "  <thead>\n",
       "    <tr style=\"text-align: right;\">\n",
       "      <th></th>\n",
       "      <th>VISITOR_ID</th>\n",
       "      <th>EVENT</th>\n",
       "      <th>CREATED</th>\n",
       "    </tr>\n",
       "  </thead>\n",
       "  <tbody>\n",
       "    <tr>\n",
       "      <th>3</th>\n",
       "      <td>44cf11c0-1916-4a7a-9742-733c37bad393</td>\n",
       "      <td>pageview</td>\n",
       "      <td>2022-09-27T18:40:29.089023696Z</td>\n",
       "    </tr>\n",
       "    <tr>\n",
       "      <th>4</th>\n",
       "      <td>ef91fa1c-bdf8-4464-b210-21476b641dcb</td>\n",
       "      <td>pageview</td>\n",
       "      <td>2022-09-27T17:55:05.283031715Z</td>\n",
       "    </tr>\n",
       "    <tr>\n",
       "      <th>5</th>\n",
       "      <td>cf1f040b-dcd5-4e7d-86ff-fe13f18bf267</td>\n",
       "      <td>post-read-mid</td>\n",
       "      <td>2022-09-27T17:19:24.532676373Z</td>\n",
       "    </tr>\n",
       "    <tr>\n",
       "      <th>6</th>\n",
       "      <td>5f2c6f11-0bef-4871-b2b8-4eb28a4d003b</td>\n",
       "      <td>pageview</td>\n",
       "      <td>2022-09-27T17:00:25.567739511Z</td>\n",
       "    </tr>\n",
       "    <tr>\n",
       "      <th>7</th>\n",
       "      <td>b25aac92-44ea-448b-9ce7-e2aff382a38a</td>\n",
       "      <td>post-read-start</td>\n",
       "      <td>2022-09-27T18:23:14.84872485Z</td>\n",
       "    </tr>\n",
       "    <tr>\n",
       "      <th>...</th>\n",
       "      <td>...</td>\n",
       "      <td>...</td>\n",
       "      <td>...</td>\n",
       "    </tr>\n",
       "    <tr>\n",
       "      <th>10720296</th>\n",
       "      <td>d8c3f190-d135-4845-8da6-eccfc1017c1e</td>\n",
       "      <td>post-read-end</td>\n",
       "      <td>2022-08-14T08:45:34.89919503Z</td>\n",
       "    </tr>\n",
       "    <tr>\n",
       "      <th>10720325</th>\n",
       "      <td>3e2723a0-5a00-47c7-9bba-f8930aef60e0</td>\n",
       "      <td>pageview</td>\n",
       "      <td>2022-06-14T11:57:50.559524056Z</td>\n",
       "    </tr>\n",
       "    <tr>\n",
       "      <th>10720326</th>\n",
       "      <td>9ec39687-7ab0-44ec-b1ad-944d6dc61bc2</td>\n",
       "      <td>pageview</td>\n",
       "      <td>2022-06-13T11:31:42.12646514Z</td>\n",
       "    </tr>\n",
       "    <tr>\n",
       "      <th>10720327</th>\n",
       "      <td>ffee41a2-795d-4625-bf1d-05ea6db26ff2</td>\n",
       "      <td>pageview</td>\n",
       "      <td>2022-06-15T06:17:35.644775696Z</td>\n",
       "    </tr>\n",
       "    <tr>\n",
       "      <th>10720328</th>\n",
       "      <td>6f7c9218-c954-4e8c-a993-fe5db2de3033</td>\n",
       "      <td>pageview</td>\n",
       "      <td>2022-06-15T05:56:15.389711261Z</td>\n",
       "    </tr>\n",
       "  </tbody>\n",
       "</table>\n",
       "<p>9080193 rows × 3 columns</p>\n",
       "</div>"
      ],
      "text/plain": [
       "                                    VISITOR_ID            EVENT  \\\n",
       "3         44cf11c0-1916-4a7a-9742-733c37bad393         pageview   \n",
       "4         ef91fa1c-bdf8-4464-b210-21476b641dcb         pageview   \n",
       "5         cf1f040b-dcd5-4e7d-86ff-fe13f18bf267    post-read-mid   \n",
       "6         5f2c6f11-0bef-4871-b2b8-4eb28a4d003b         pageview   \n",
       "7         b25aac92-44ea-448b-9ce7-e2aff382a38a  post-read-start   \n",
       "...                                        ...              ...   \n",
       "10720296  d8c3f190-d135-4845-8da6-eccfc1017c1e    post-read-end   \n",
       "10720325  3e2723a0-5a00-47c7-9bba-f8930aef60e0         pageview   \n",
       "10720326  9ec39687-7ab0-44ec-b1ad-944d6dc61bc2         pageview   \n",
       "10720327  ffee41a2-795d-4625-bf1d-05ea6db26ff2         pageview   \n",
       "10720328  6f7c9218-c954-4e8c-a993-fe5db2de3033         pageview   \n",
       "\n",
       "                                 CREATED  \n",
       "3         2022-09-27T18:40:29.089023696Z  \n",
       "4         2022-09-27T17:55:05.283031715Z  \n",
       "5         2022-09-27T17:19:24.532676373Z  \n",
       "6         2022-09-27T17:00:25.567739511Z  \n",
       "7          2022-09-27T18:23:14.84872485Z  \n",
       "...                                  ...  \n",
       "10720296   2022-08-14T08:45:34.89919503Z  \n",
       "10720325  2022-06-14T11:57:50.559524056Z  \n",
       "10720326   2022-06-13T11:31:42.12646514Z  \n",
       "10720327  2022-06-15T06:17:35.644775696Z  \n",
       "10720328  2022-06-15T05:56:15.389711261Z  \n",
       "\n",
       "[9080193 rows x 3 columns]"
      ]
     },
     "execution_count": 3,
     "metadata": {},
     "output_type": "execute_result"
    }
   ],
   "source": [
    "data = pd.read_csv('data.csv')\n",
    "data.dropna(inplace = True)\n",
    "data"
   ]
  },
  {
   "cell_type": "code",
   "execution_count": 4,
   "id": "5fefbb0e-2885-4b23-beaa-451ed2869b36",
   "metadata": {},
   "outputs": [
    {
     "data": {
      "text/plain": [
       "1422154"
      ]
     },
     "execution_count": 4,
     "metadata": {},
     "output_type": "execute_result"
    }
   ],
   "source": [
    "len(np.unique(data[['VISITOR_ID']]))"
   ]
  },
  {
   "cell_type": "code",
   "execution_count": 5,
   "id": "a7db1990-e79f-4070-bfce-b4b1d55026e3",
   "metadata": {
    "tags": []
   },
   "outputs": [],
   "source": [
    "user_seqs = data.sort_values('CREATED').groupby('VISITOR_ID')"
   ]
  },
  {
   "cell_type": "code",
   "execution_count": 6,
   "id": "0158a194-b140-4c30-ae82-7e9518205db9",
   "metadata": {},
   "outputs": [],
   "source": [
    "users = list(user_seqs.groups.keys())"
   ]
  },
  {
   "cell_type": "code",
   "execution_count": 7,
   "id": "8b806522-3079-4f0c-901b-26be0e91c940",
   "metadata": {},
   "outputs": [],
   "source": [
    "users_subset = users[:100000]"
   ]
  },
  {
   "cell_type": "markdown",
   "id": "04973109-c873-43da-a2df-168cd561fe79",
   "metadata": {},
   "source": [
    "## IDLE"
   ]
  },
  {
   "cell_type": "code",
   "execution_count": 6,
   "id": "a8e2e63d-a798-4a3a-b3ba-d42f9a6f0151",
   "metadata": {},
   "outputs": [],
   "source": [
    "from datetime import datetime\n",
    "\n",
    "diff_list = []\n",
    "for user in users:\n",
    "    event_times = user_seqs.get_group(user).CREATED\n",
    "    # Calculating difference list\n",
    "    for x, y in zip(event_times[0::], event_times[1::]):\n",
    "        xt = datetime.strptime(' '.join(x.split('T'))[:22], '%Y-%m-%d %H:%M:%S.%f')\n",
    "        yt = datetime.strptime(' '.join(y.split('T'))[:22], '%Y-%m-%d %H:%M:%S.%f')\n",
    "        diff_list.append(yt-xt)"
   ]
  },
  {
   "cell_type": "code",
   "execution_count": 7,
   "id": "ac4f0e05-b7a5-4108-959c-db4709a448a0",
   "metadata": {},
   "outputs": [],
   "source": [
    "time_gaps = pd.DataFrame({'Time': diff_list})"
   ]
  },
  {
   "cell_type": "code",
   "execution_count": 8,
   "id": "0568e630-b8b0-4ff5-8bf3-3042fbe6e38a",
   "metadata": {},
   "outputs": [
    {
     "data": {
      "image/png": "[encoded data removed]",
      "text/plain": [
       "<Figure size 432x288 with 1 Axes>"
      ]
     },
     "metadata": {
      "needs_background": "light"
     },
     "output_type": "display_data"
    }
   ],
   "source": [
    "import matplotlib.pyplot as plt\n",
    "time_gaps = time_gaps.Time.astype('timedelta64[us]')#[time_gaps.Time.astype('timedelta64[s]') > 60*60*24]\n",
    "time_gaps.plot.hist();"
   ]
  },
  {
   "cell_type": "code",
   "execution_count": 9,
   "id": "be22768f-f875-4341-bf93-7b9311597d31",
   "metadata": {},
   "outputs": [
    {
     "data": {
      "image/png": "[encoded data removed]",
      "text/plain": [
       "<Figure size 432x288 with 1 Axes>"
      ]
     },
     "metadata": {
      "needs_background": "light"
     },
     "output_type": "display_data"
    }
   ],
   "source": [
    "time_gaps.plot.kde();"
   ]
  },
  {
   "cell_type": "code",
   "execution_count": 10,
   "id": "cef7e96c-bdaa-4aec-a4cd-23b3891516c8",
   "metadata": {},
   "outputs": [
    {
     "name": "stdout",
     "output_type": "stream",
     "text": [
      "88228666236.78455\n"
     ]
    },
    {
     "data": {
      "text/plain": [
       "1.133418471176069e-11"
      ]
     },
     "execution_count": 10,
     "metadata": {},
     "output_type": "execute_result"
    }
   ],
   "source": [
    "exp_mean = time_gaps.mean()\n",
    "print(exp_mean)\n",
    "lam = 1/exp_mean\n",
    "lam"
   ]
  },
  {
   "cell_type": "code",
   "execution_count": 11,
   "id": "b1cf94b2-9240-461f-99d8-454cdce27e7a",
   "metadata": {},
   "outputs": [
    {
     "data": {
      "image/png": "[encoded data removed]",
      "text/plain": [
       "<Figure size 432x288 with 1 Axes>"
      ]
     },
     "metadata": {
      "needs_background": "light"
     },
     "output_type": "display_data"
    }
   ],
   "source": [
    "def f(x):\n",
    "    return lam*np.exp(-lam*x)\n",
    "\n",
    "x = np.linspace(0, 15000000000000, 1000)\n",
    "\n",
    "plt.plot(x, f(x), color='red');\n",
    "#plt.axvline(x = ...)"
   ]
  },
  {
   "cell_type": "code",
   "execution_count": 12,
   "id": "f462c142-9884-4c4a-8d4b-c8c388a3599d",
   "metadata": {},
   "outputs": [
    {
     "data": {
      "text/plain": [
       "264309462898.15878"
      ]
     },
     "execution_count": 12,
     "metadata": {},
     "output_type": "execute_result"
    }
   ],
   "source": [
    "idle = -exp_mean*np.log(0.05)\n",
    "idle"
   ]
  },
  {
   "cell_type": "markdown",
   "id": "55401100-904d-4b92-88d9-b7203ca6bcf5",
   "metadata": {},
   "source": [
    "Assuming the events behave as a Poisson random process (which might be a bit of a bold assumption here...), we can model the time between events as an exponential random variable and approximate its parameter lambda to be the mean of the event gaps. Then, in order to determine the idle period length, let us consider the value corresponding to the 95% quantile of the CDF to be an appropirate choice. This yield 264308.38230286376 as our threshold value for an idle period."
   ]
  },
  {
   "cell_type": "code",
   "execution_count": 13,
   "id": "9fd9d945-7143-4d2a-af64-57cc8a9f0253",
   "metadata": {},
   "outputs": [
    {
     "data": {
      "text/plain": [
       "73.41929524948856"
      ]
     },
     "execution_count": 13,
     "metadata": {},
     "output_type": "execute_result"
    }
   ],
   "source": [
    "hours = idle/(60*60*1000000)\n",
    "hours"
   ]
  },
  {
   "cell_type": "code",
   "execution_count": 14,
   "id": "5122991a-7e6c-41c4-a215-24659f1d44fd",
   "metadata": {},
   "outputs": [
    {
     "data": {
      "text/plain": [
       "246021834999.9998"
      ]
     },
     "execution_count": 14,
     "metadata": {},
     "output_type": "execute_result"
    }
   ],
   "source": [
    "time_gaps.quantile(0.95)"
   ]
  },
  {
   "cell_type": "markdown",
   "id": "42b70954-8e5a-48ff-831d-aa694f9c7faa",
   "metadata": {},
   "source": [
    "## QUIT"
   ]
  },
  {
   "cell_type": "code",
   "execution_count": 15,
   "id": "2d83f236-98d7-4b24-8de0-df2294c550ee",
   "metadata": {},
   "outputs": [],
   "source": [
    "#current_time = datetime.now()\n",
    "current_time = datetime.strptime('2022-12-31 23:59:59.999', '%Y-%m-%d %H:%M:%S.%f')\n",
    "gap_list = []\n",
    "for user in users:\n",
    "    x = user_seqs.get_group(user).CREATED.iloc[-1]\n",
    "    gap_list.append(current_time - datetime.strptime(' '.join(x.split('T'))[:22], '%Y-%m-%d %H:%M:%S.%f'))"
   ]
  },
  {
   "cell_type": "code",
   "execution_count": 16,
   "id": "66f7b98d-e4f0-42da-b20a-20c3921b177d",
   "metadata": {},
   "outputs": [],
   "source": [
    "qtime_gaps = pd.DataFrame({'Time': gap_list})"
   ]
  },
  {
   "cell_type": "code",
   "execution_count": 17,
   "id": "42322d02-d93c-4923-a379-ed243622eaec",
   "metadata": {},
   "outputs": [
    {
     "data": {
      "image/png": "[encoded data removed]",
      "text/plain": [
       "<Figure size 432x288 with 1 Axes>"
      ]
     },
     "metadata": {
      "needs_background": "light"
     },
     "output_type": "display_data"
    }
   ],
   "source": [
    "qtime_gaps = qtime_gaps.Time.astype('timedelta64[us]')#[time_gaps.Time.astype('timedelta64[s]') > 60*60*24]\n",
    "qtime_gaps.plot.hist();"
   ]
  },
  {
   "cell_type": "code",
   "execution_count": 18,
   "id": "c254095c-93ce-4b6b-a963-6206fea334d7",
   "metadata": {},
   "outputs": [],
   "source": [
    "maxdiff_list = []\n",
    "for user in users:\n",
    "    event_times = user_seqs.get_group(user).CREATED\n",
    "    # Calculating difference list\n",
    "    temp = []\n",
    "    for x, y in zip(event_times[0::], event_times[1::]):\n",
    "        xt = datetime.strptime(' '.join(x.split('T'))[:22], '%Y-%m-%d %H:%M:%S.%f')\n",
    "        yt = datetime.strptime(' '.join(y.split('T'))[:22], '%Y-%m-%d %H:%M:%S.%f')\n",
    "        temp.append(yt-xt)\n",
    "    if temp:\n",
    "        maxdiff_list.append(np.max(temp))"
   ]
  },
  {
   "cell_type": "code",
   "execution_count": 19,
   "id": "d45f464d-89f9-4f43-83df-34e227982ff3",
   "metadata": {},
   "outputs": [],
   "source": [
    "max_gaps = pd.DataFrame({'Time': maxdiff_list})"
   ]
  },
  {
   "cell_type": "code",
   "execution_count": 20,
   "id": "7463798d-42da-43ce-9c64-ec7a5eece486",
   "metadata": {},
   "outputs": [
    {
     "data": {
      "image/png": "[encoded data removed]",
      "text/plain": [
       "<Figure size 432x288 with 1 Axes>"
      ]
     },
     "metadata": {
      "needs_background": "light"
     },
     "output_type": "display_data"
    }
   ],
   "source": [
    "max_gaps = max_gaps.Time.astype('timedelta64[us]')#[time_gaps.Time.astype('timedelta64[s]') > 60*60*24]\n",
    "max_gaps.plot.hist();"
   ]
  },
  {
   "cell_type": "code",
   "execution_count": 21,
   "id": "c4cad47c-101d-4bf7-b945-3575a543bd0e",
   "metadata": {},
   "outputs": [
    {
     "name": "stdout",
     "output_type": "stream",
     "text": [
      "88228666236.78455\n"
     ]
    },
    {
     "data": {
      "text/plain": [
       "2.283312649124008e-12"
      ]
     },
     "execution_count": 21,
     "metadata": {},
     "output_type": "execute_result"
    }
   ],
   "source": [
    "maxexp_mean = max_gaps.mean()\n",
    "print(exp_mean)\n",
    "maxlam = 1/maxexp_mean\n",
    "maxlam"
   ]
  },
  {
   "cell_type": "markdown",
   "id": "bb60546e-a09f-4c12-ba40-be1ed714973e",
   "metadata": {},
   "source": [
    "if end in idle and have end greater than max... or if end is above certain threshold of max...\n",
    "\n",
    "exclude from training sequences not ending in idle and those final sequences ending in idle but not quit"
   ]
  },
  {
   "cell_type": "code",
   "execution_count": 22,
   "id": "cbdc535e-ca53-48f1-871f-341a4bb92aab",
   "metadata": {},
   "outputs": [
    {
     "data": {
      "text/plain": [
       "1008440562827.623"
      ]
     },
     "execution_count": 22,
     "metadata": {},
     "output_type": "execute_result"
    }
   ],
   "source": [
    "quit = -maxexp_mean*np.log(0.1)\n",
    "quit"
   ]
  },
  {
   "cell_type": "code",
   "execution_count": 23,
   "id": "650c9327-703b-457a-8148-cec331d2e4e9",
   "metadata": {},
   "outputs": [
    {
     "data": {
      "text/plain": [
       "280.1223785632286"
      ]
     },
     "execution_count": 23,
     "metadata": {},
     "output_type": "execute_result"
    }
   ],
   "source": [
    "hours = quit/(60*60*1000000)\n",
    "hours"
   ]
  },
  {
   "cell_type": "code",
   "execution_count": 24,
   "id": "008dec04-e16c-49a8-8c71-a4070ba1aec0",
   "metadata": {},
   "outputs": [
    {
     "data": {
      "text/plain": [
       "1228457027999.9995"
      ]
     },
     "execution_count": 24,
     "metadata": {},
     "output_type": "execute_result"
    }
   ],
   "source": [
    "max_gaps.quantile(0.9)"
   ]
  },
  {
   "cell_type": "code",
   "execution_count": 25,
   "id": "9a6fe019-7bf1-4308-86ef-f0f074ae1b84",
   "metadata": {},
   "outputs": [
    {
     "data": {
      "text/plain": [
       "0.11123626198519436"
      ]
     },
     "execution_count": 25,
     "metadata": {},
     "output_type": "execute_result"
    }
   ],
   "source": [
    "np.sum([max_gaps > quit])/len(max_gaps)"
   ]
  },
  {
   "cell_type": "markdown",
   "id": "802b71fa-064c-412d-927b-f0d71209ba96",
   "metadata": {},
   "source": [
    "## SEQ"
   ]
  },
  {
   "cell_type": "code",
   "execution_count": 185,
   "id": "39e41386-af59-466c-ada0-609ecac7ec29",
   "metadata": {},
   "outputs": [],
   "source": [
    "from itertools import compress\n",
    "\n",
    "# need to add paired array containing returns or quits boolean\n",
    "\n",
    "# heads up, this cell takes like 30 mins to run...\n",
    "\n",
    "seqs = []\n",
    "for user in users:\n",
    "    event_times = user_seqs.get_group(user).CREATED\n",
    "    event_seq = list(user_seqs.get_group(user).EVENT)\n",
    "    diff_list = []\n",
    "    for x, y in zip(event_times[0::], event_times[1::]):\n",
    "        xt = datetime.strptime(' '.join(x.split('T'))[:22], '%Y-%m-%d %H:%M:%S.%f')\n",
    "        yt = datetime.strptime(' '.join(y.split('T'))[:22], '%Y-%m-%d %H:%M:%S.%f')\n",
    "        diff_list.append(yt-xt)\n",
    "    \n",
    "    diff_list = np.array(diff_list, dtype='timedelta64[us]').astype(float)\n",
    "    idle_bool = diff_list > idle\n",
    "    idle_indices = list(compress(range(len(idle_bool)), idle_bool))\n",
    "    idle_indices = [x+1 for x in idle_indices]\n",
    "    \n",
    "    temp = []\n",
    "    s = idle_indices + [len(event_seq)]\n",
    "    temp.append([event_seq[i1:i2] for i1,i2 in zip([0]+s[:-1], s)])\n",
    "    \n",
    "    [seqs.append(np.array(item, dtype=object)) for item in temp[0]]\n",
    "    \n",
    "seqs = np.array(seqs, dtype=object)"
   ]
  },
  {
   "cell_type": "code",
   "execution_count": 86,
   "id": "1672c4ae-36a1-401d-b038-2d314a8a173e",
   "metadata": {},
   "outputs": [],
   "source": [
    "# something started going wrong here.... not sure why\n",
    "\n",
    "# Use vectorize function of numpy\n",
    "length_checker = np.vectorize(len)\n",
    " \n",
    "# Find the length of each element\n",
    "#seq_lens = length_checker(seqs)"
   ]
  },
  {
   "cell_type": "code",
   "execution_count": 187,
   "id": "1060118a-d4ab-430b-9034-76566c948683",
   "metadata": {},
   "outputs": [],
   "source": [
    "seq_lens = [len(seq) for seq in seqs]"
   ]
  },
  {
   "cell_type": "code",
   "execution_count": 188,
   "id": "60b69556-7c36-47e3-bfa7-5f2577aa5dfb",
   "metadata": {},
   "outputs": [],
   "source": [
    "lens = pd.DataFrame({'Lengths': seq_lens})"
   ]
  },
  {
   "cell_type": "code",
   "execution_count": 189,
   "id": "b180627a-2df1-484e-9351-0fa5a7c40f7b",
   "metadata": {},
   "outputs": [
    {
     "data": {
      "text/plain": [
       "1      393075\n",
       "2       79953\n",
       "3       65430\n",
       "4      868946\n",
       "5       58807\n",
       "6       23853\n",
       "7       16549\n",
       "8      131890\n",
       "9       21374\n",
       "10       9979\n",
       "11       7025\n",
       "12      36011\n",
       "13       8824\n",
       "14       4823\n",
       "15       3522\n",
       "16      13532\n",
       "17       4308\n",
       "18       2564\n",
       "19       2089\n",
       "20       6150\n",
       "21       2513\n",
       "22       1650\n",
       "23       1249\n",
       "24       3220\n",
       "25       1477\n",
       "26       1025\n",
       "27        785\n",
       "28       1868\n",
       "29        920\n",
       "30        647\n",
       "31        584\n",
       "32       1148\n",
       "33        650\n",
       "34        508\n",
       "35        396\n",
       "36        793\n",
       "37        466\n",
       "38        337\n",
       "39        295\n",
       "40        609\n",
       "41        352\n",
       "42        277\n",
       "43        237\n",
       "44        372\n",
       "45        266\n",
       "46        208\n",
       "47        188\n",
       "48        311\n",
       "49        191\n",
       "50        171\n",
       "51        146\n",
       "52        228\n",
       "53        162\n",
       "54        151\n",
       "55        119\n",
       "56        213\n",
       "57        120\n",
       "58        110\n",
       "59        107\n",
       "60        163\n",
       "61         96\n",
       "62         85\n",
       "63         74\n",
       "64        137\n",
       "65        103\n",
       "66         61\n",
       "67         55\n",
       "68         75\n",
       "69         66\n",
       "70         64\n",
       "71         34\n",
       "72         91\n",
       "73         67\n",
       "74         48\n",
       "75         35\n",
       "76         70\n",
       "77         53\n",
       "78         46\n",
       "79         30\n",
       "80         53\n",
       "81         34\n",
       "82         33\n",
       "83         36\n",
       "84         48\n",
       "85         26\n",
       "86         33\n",
       "87         22\n",
       "88         40\n",
       "89         32\n",
       "90         30\n",
       "91         26\n",
       "92         33\n",
       "93         26\n",
       "94         30\n",
       "95         17\n",
       "96         40\n",
       "97         28\n",
       "98         21\n",
       "99         18\n",
       "100        32\n",
       "Name: Lengths, dtype: int64"
      ]
     },
     "execution_count": 189,
     "metadata": {},
     "output_type": "execute_result"
    }
   ],
   "source": [
    "pd.set_option('display.max_rows', 100)\n",
    "lens.Lengths.value_counts().sort_index()[:100]"
   ]
  },
  {
   "cell_type": "code",
   "execution_count": 119,
   "id": "4bd333db-228c-4799-b453-34e5f846e9f4",
   "metadata": {},
   "outputs": [
    {
     "data": {
      "text/plain": [
       "count    1.787199e+06\n",
       "mean     5.080684e+00\n",
       "std      6.670149e+01\n",
       "min      1.000000e+00\n",
       "25%      2.000000e+00\n",
       "50%      4.000000e+00\n",
       "75%      4.000000e+00\n",
       "max      4.114600e+04\n",
       "Name: Lengths, dtype: float64"
      ]
     },
     "execution_count": 119,
     "metadata": {},
     "output_type": "execute_result"
    }
   ],
   "source": [
    "lens.Lengths.describe()"
   ]
  },
  {
   "cell_type": "code",
   "execution_count": 128,
   "id": "4eb568ec-1722-4280-a704-014695a9a4c3",
   "metadata": {},
   "outputs": [
    {
     "data": {
      "image/png": "[encoded data removed]",
      "text/plain": [
       "<Figure size 432x288 with 1 Axes>"
      ]
     },
     "metadata": {
      "needs_background": "light"
     },
     "output_type": "display_data"
    }
   ],
   "source": [
    "lens.Lengths[(lens.Lengths >= 16) & (lens.Lengths <= 48)].plot.hist(bins = 20);"
   ]
  },
  {
   "cell_type": "code",
   "execution_count": null,
   "id": "fc26a1fc-5cc3-49c8-b95b-051b741d4e01",
   "metadata": {},
   "outputs": [],
   "source": []
  },
  {
   "cell_type": "code",
   "execution_count": null,
   "id": "4bda3daa-28d8-4107-b3be-634b987a15e9",
   "metadata": {},
   "outputs": [
    {
     "data": {
      "text/plain": [
       "[[array([1, 2, 3, 4]), array([5, 6]), array([7]), array([8, 9])]]"
      ]
     },
     "execution_count": 33,
     "metadata": {},
     "output_type": "execute_result"
    }
   ],
   "source": [
    "seqs = []\n",
    "arry = [1,2,3,4,5,6,7,8,9]\n",
    "arr = np.array([1,2,3,40,5,60,70,8])\n",
    "bools = arr > 10\n",
    "splits = list(compress(range(len(bools)), bools))\n",
    "splits = [x+1 for x in splits]\n",
    "s = splits + [len(arry)]\n",
    "seqs.append([np.array(arry[i1:i2]) for i1,i2 in zip([0]+s[:-1], s)])\n",
    "seqs"
   ]
  },
  {
   "cell_type": "code",
   "execution_count": null,
   "id": "fa042d0b-ebce-4eda-9f61-648f0077d026",
   "metadata": {},
   "outputs": [],
   "source": [
    "seqs2 = []\n",
    "arry = [1,2,3,4,5,6,7,8,9]\n",
    "arr = np.array([1,2,3,40,5,60,70,8])\n",
    "bools = arr > 10\n",
    "splits = list(compress(range(len(bools)), bools))\n",
    "splits = [x+1 for x in splits]\n",
    "s = splits + [len(arry)]\n",
    "seqs2.append([np.array(arry[i1:i2]) for i1,i2 in zip([0]+s[:-1], s)])\n",
    "seqs2"
   ]
  },
  {
   "cell_type": "code",
   "execution_count": null,
   "id": "e884d2e9-4af2-4b7b-a7c8-9034290b903d",
   "metadata": {},
   "outputs": [],
   "source": [
    "seqss = np.concatenate((seqs[0], seqs2[0]))\n",
    "seqss"
   ]
  },
  {
   "cell_type": "code",
   "execution_count": null,
   "id": "79426d0e-ce1a-4099-8f3f-83998469689f",
   "metadata": {},
   "outputs": [],
   "source": [
    "seqss = np.concatenate((seqss, seqs[0]))\n",
    "seqss"
   ]
  },
  {
   "cell_type": "code",
   "execution_count": null,
   "id": "6c705b79-3d33-42d6-8ce5-6f2691c09933",
   "metadata": {},
   "outputs": [],
   "source": []
  },
  {
   "cell_type": "markdown",
   "id": "83e36d83-3089-4d79-b664-acbfcdf2db4e",
   "metadata": {},
   "source": [
    "## Data Organization"
   ]
  },
  {
   "cell_type": "code",
   "execution_count": 200,
   "id": "b69da6db-2390-4189-8a9a-8d838f0e3d37",
   "metadata": {},
   "outputs": [],
   "source": [
    "from datetime import datetime\n",
    "from itertools import compress\n",
    "\n",
    "# need to add paired array containing returns or quits boolean\n",
    "\n",
    "# heads up, this cell takes like 30 mins to run...\n",
    "\n",
    "# define hyperparameters\n",
    "idle = 264309462898.15878\n",
    "idle = 100000000000 # for experimentation purposes\n",
    "quit = 1008440562827.623\n",
    "\n",
    "#current_time = datetime.now()\n",
    "current_time = datetime.strptime('2022-12-31 23:59:59.999', '%Y-%m-%d %H:%M:%S.%f')\n",
    "\n",
    "seqs = []\n",
    "class_time_seqs = []\n",
    "pred_time_seqs = []\n",
    "class_labels = []\n",
    "for user in users_subset[:100000]:\n",
    "    # get event timestamps\n",
    "    event_times = user_seqs.get_group(user).CREATED\n",
    "    # get event sequence\n",
    "    event_seq = list(user_seqs.get_group(user).EVENT)\n",
    "    \n",
    "    # compute the time gaps between events\n",
    "    diff_list = []\n",
    "    for x, y in zip(event_times[0::], event_times[1::]):\n",
    "        xt = datetime.strptime(' '.join(x.split('T'))[:22], '%Y-%m-%d %H:%M:%S.%f')\n",
    "        yt = datetime.strptime(' '.join(y.split('T'))[:22], '%Y-%m-%d %H:%M:%S.%f')\n",
    "        diff_list.append(yt-xt)\n",
    "    diff_list = np.array(diff_list, dtype='timedelta64[us]').astype(float)\n",
    "    \n",
    "    # find where idles occur\n",
    "    idle_bool = diff_list > idle\n",
    "    idle_indices = list(compress(range(len(idle_bool)), idle_bool))\n",
    "    \n",
    "    # break whole time gaps sequence into subsequences\n",
    "    class_time_split = np.split(diff_list, idle_indices)\n",
    "    [class_time_seqs.append(item) for item in class_time_split]\n",
    "    idle_indices = [x+1 for x in idle_indices]\n",
    "    pred_time_split = np.split(diff_list, idle_indices)\n",
    "    [pred_time_seqs.append(item) for item in pred_time_split]\n",
    "    \n",
    "    # break whole event sequence into subsequences (convert this into the np.split form)\n",
    "    #temp = []\n",
    "    #s = idle_indices + [len(event_seq)]\n",
    "    #temp.append([event_seq[i1:i2] for i1,i2 in zip([0]+s[:-1], s)])\n",
    "    # store subsequences in seqs array\n",
    "    #[seqs.append(np.array(item, dtype=object)) for item in temp[0]]\n",
    "    event_split = np.split(event_seq, idle_indices)\n",
    "    [seqs.append(item) for item in event_split]\n",
    "    \n",
    "    x = event_times.iloc[-1]\n",
    "    end_gap = current_time - datetime.strptime(' '.join(x.split('T'))[:22], '%Y-%m-%d %H:%M:%S.%f')\n",
    "    end_gap = np.array(end_gap, dtype='timedelta64[us]').astype(float)\n",
    "    # determine subsequence class labels\n",
    "    if len(class_time_split) > 1:\n",
    "        [class_labels.append(1) for i in range(len(class_time_split)-1)]\n",
    "    if end_gap > quit:\n",
    "        class_labels.append(0)\n",
    "    else:\n",
    "        class_labels.append(2)\n",
    "    \n",
    "# covert lists into arrays\n",
    "class_time_seqs = np.array(class_time_seqs, dtype=object)\n",
    "pred_time_seqs = np.array(pred_time_seqs, dtype=object)\n",
    "seqs = np.array(seqs, dtype=object)\n",
    "class_labels = np.array(class_labels)"
   ]
  },
  {
   "cell_type": "code",
   "execution_count": 201,
   "id": "570b19e3-ac10-42a4-ac8a-4c36017f3423",
   "metadata": {},
   "outputs": [],
   "source": [
    "min_length_bool = length_checker(class_time_seqs) >= 12"
   ]
  },
  {
   "cell_type": "code",
   "execution_count": 206,
   "id": "d05d081f-2df2-405c-a54d-618279e147a7",
   "metadata": {},
   "outputs": [],
   "source": [
    "train_class_time_seqs = class_time_seqs[min_length_bool]\n",
    "#train_class_time_seqs"
   ]
  },
  {
   "cell_type": "code",
   "execution_count": 207,
   "id": "aa244514-8a9a-4450-ac1a-4896eab49c70",
   "metadata": {},
   "outputs": [],
   "source": [
    "train_class_labels = class_labels[min_length_bool]\n",
    "#train_class_labels"
   ]
  },
  {
   "cell_type": "code",
   "execution_count": 208,
   "id": "2998916f-6a7e-4cca-9f51-4d99b6469486",
   "metadata": {},
   "outputs": [
    {
     "name": "stdout",
     "output_type": "stream",
     "text": [
      "5424\n",
      "5424\n"
     ]
    }
   ],
   "source": [
    "print(len(train_class_time_seqs))\n",
    "print(len(train_class_labels))"
   ]
  },
  {
   "cell_type": "code",
   "execution_count": 209,
   "id": "449e1a70-6744-4fc2-bc97-dd177d90ae42",
   "metadata": {},
   "outputs": [
    {
     "data": {
      "text/plain": [
       "0    2363\n",
       "1    2864\n",
       "2     197\n",
       "Name: Labels, dtype: int64"
      ]
     },
     "execution_count": 209,
     "metadata": {},
     "output_type": "execute_result"
    }
   ],
   "source": [
    "labels = pd.DataFrame({'Labels': train_class_labels})\n",
    "labels.Labels.value_counts().sort_index()"
   ]
  },
  {
   "cell_type": "code",
   "execution_count": 212,
   "id": "1c5e796c-5db6-42d7-a4fd-04d05c06f6b3",
   "metadata": {},
   "outputs": [
    {
     "data": {
      "text/plain": [
       "5469"
      ]
     },
     "execution_count": 212,
     "metadata": {},
     "output_type": "execute_result"
    }
   ],
   "source": [
    "min_length_bool = length_checker(pred_time_seqs) >= 12\n",
    "train_pred_time_seqs = pred_time_seqs[min_length_bool]\n",
    "len(train_pred_time_seqs)"
   ]
  },
  {
   "cell_type": "markdown",
   "id": "2203e4e1-0fe6-45eb-a26a-2c16933ca00b",
   "metadata": {},
   "source": [
    "## Preliminary Prediction Model"
   ]
  },
  {
   "cell_type": "code",
   "execution_count": 213,
   "id": "f19e81c2-1a76-4a05-8932-e1b7890ace85",
   "metadata": {},
   "outputs": [
    {
     "name": "stderr",
     "output_type": "stream",
     "text": [
      "2023-01-29 14:20:58.213652: I tensorflow/core/platform/cpu_feature_guard.cc:193] This TensorFlow binary is optimized with oneAPI Deep Neural Network Library (oneDNN) to use the following CPU instructions in performance-critical operations:  AVX2 FMA\n",
      "To enable them in other operations, rebuild TensorFlow with the appropriate compiler flags.\n"
     ]
    }
   ],
   "source": [
    "from pandas import read_csv\n",
    "import numpy as np\n",
    "from keras.models import Sequential\n",
    "from keras.layers import Dense, SimpleRNN\n",
    "from sklearn.preprocessing import MinMaxScaler\n",
    "from sklearn.metrics import mean_squared_error\n",
    "import math\n",
    "import matplotlib.pyplot as plt"
   ]
  },
  {
   "cell_type": "code",
   "execution_count": 214,
   "id": "14405297-8ebc-4716-84c2-481653b8c42a",
   "metadata": {},
   "outputs": [],
   "source": [
    "def create_RNN(hidden_units, dense_units, input_shape, activation):\n",
    "    model = Sequential()\n",
    "    model.add(SimpleRNN(hidden_units, input_shape=input_shape, \n",
    "                        activation=activation[0]))\n",
    "    model.add(Dense(units=dense_units, activation=activation[1]))\n",
    "    model.compile(loss='mean_squared_error', optimizer='adam')\n",
    "    return model"
   ]
  },
  {
   "cell_type": "code",
   "execution_count": null,
   "id": "0f9e77f8-9aa3-4777-9607-6e1f0228325e",
   "metadata": {},
   "outputs": [],
   "source": [
    "# Parameter split_percent defines the ratio of training examples\n",
    "def get_train_test(url, split_percent=0.8):\n",
    "    df = read_csv(url, usecols=[1], engine='python')\n",
    "    data = np.array(df.values.astype('float32'))\n",
    "    scaler = MinMaxScaler(feature_range=(0, 1))\n",
    "    data = scaler.fit_transform(data).flatten()\n",
    "    n = len(data)\n",
    "    # Point for splitting data into train and test\n",
    "    split = int(n*split_percent)\n",
    "    train_data = data[range(split)]\n",
    "    test_data = data[split:]\n",
    "    return train_data, test_data, data\n",
    "\n",
    "sunspots_url = 'https://raw.githubusercontent.com/jbrownlee/Datasets/master/monthly-sunspots.csv'\n",
    "train_data, test_data, data = get_train_test(sunspots_url)"
   ]
  }
 ],
 "metadata": {
  "kernelspec": {
   "display_name": "Python 3 (ipykernel)",
   "language": "python",
   "name": "python3"
  },
  "language_info": {
   "codemirror_mode": {
    "name": "ipython",
    "version": 3
   },
   "file_extension": ".py",
   "mimetype": "text/x-python",
   "name": "python",
   "nbconvert_exporter": "python",
   "pygments_lexer": "ipython3",
   "version": "3.9.12"
  }
 },
 "nbformat": 4,
 "nbformat_minor": 5
}
