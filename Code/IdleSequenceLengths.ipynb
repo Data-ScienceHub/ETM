{
 "cells": [
  {
   "cell_type": "code",
   "execution_count": 1,
   "id": "3609bd4f-0c65-4b9f-8865-590999de7ab4",
   "metadata": {},
   "outputs": [],
   "source": [
    "import numpy as np\n",
    "import pandas as pd"
   ]
  },
  {
   "cell_type": "code",
   "execution_count": 2,
   "id": "ce52f939-0982-4f43-b81a-63194abcd79f",
   "metadata": {},
   "outputs": [
    {
     "data": {
      "text/html": [
       "<div>\n",
       "<style scoped>\n",
       "    .dataframe tbody tr th:only-of-type {\n",
       "        vertical-align: middle;\n",
       "    }\n",
       "\n",
       "    .dataframe tbody tr th {\n",
       "        vertical-align: top;\n",
       "    }\n",
       "\n",
       "    .dataframe thead th {\n",
       "        text-align: right;\n",
       "    }\n",
       "</style>\n",
       "<table border=\"1\" class=\"dataframe\">\n",
       "  <thead>\n",
       "    <tr style=\"text-align: right;\">\n",
       "      <th></th>\n",
       "      <th>VISITOR_ID</th>\n",
       "      <th>EVENT</th>\n",
       "      <th>CREATED</th>\n",
       "    </tr>\n",
       "  </thead>\n",
       "  <tbody>\n",
       "    <tr>\n",
       "      <th>3</th>\n",
       "      <td>44cf11c0-1916-4a7a-9742-733c37bad393</td>\n",
       "      <td>pageview</td>\n",
       "      <td>2022-09-27T18:40:29.089023696Z</td>\n",
       "    </tr>\n",
       "    <tr>\n",
       "      <th>4</th>\n",
       "      <td>ef91fa1c-bdf8-4464-b210-21476b641dcb</td>\n",
       "      <td>pageview</td>\n",
       "      <td>2022-09-27T17:55:05.283031715Z</td>\n",
       "    </tr>\n",
       "    <tr>\n",
       "      <th>5</th>\n",
       "      <td>cf1f040b-dcd5-4e7d-86ff-fe13f18bf267</td>\n",
       "      <td>post-read-mid</td>\n",
       "      <td>2022-09-27T17:19:24.532676373Z</td>\n",
       "    </tr>\n",
       "    <tr>\n",
       "      <th>6</th>\n",
       "      <td>5f2c6f11-0bef-4871-b2b8-4eb28a4d003b</td>\n",
       "      <td>pageview</td>\n",
       "      <td>2022-09-27T17:00:25.567739511Z</td>\n",
       "    </tr>\n",
       "    <tr>\n",
       "      <th>7</th>\n",
       "      <td>b25aac92-44ea-448b-9ce7-e2aff382a38a</td>\n",
       "      <td>post-read-start</td>\n",
       "      <td>2022-09-27T18:23:14.84872485Z</td>\n",
       "    </tr>\n",
       "    <tr>\n",
       "      <th>...</th>\n",
       "      <td>...</td>\n",
       "      <td>...</td>\n",
       "      <td>...</td>\n",
       "    </tr>\n",
       "    <tr>\n",
       "      <th>10720296</th>\n",
       "      <td>d8c3f190-d135-4845-8da6-eccfc1017c1e</td>\n",
       "      <td>post-read-end</td>\n",
       "      <td>2022-08-14T08:45:34.89919503Z</td>\n",
       "    </tr>\n",
       "    <tr>\n",
       "      <th>10720325</th>\n",
       "      <td>3e2723a0-5a00-47c7-9bba-f8930aef60e0</td>\n",
       "      <td>pageview</td>\n",
       "      <td>2022-06-14T11:57:50.559524056Z</td>\n",
       "    </tr>\n",
       "    <tr>\n",
       "      <th>10720326</th>\n",
       "      <td>9ec39687-7ab0-44ec-b1ad-944d6dc61bc2</td>\n",
       "      <td>pageview</td>\n",
       "      <td>2022-06-13T11:31:42.12646514Z</td>\n",
       "    </tr>\n",
       "    <tr>\n",
       "      <th>10720327</th>\n",
       "      <td>ffee41a2-795d-4625-bf1d-05ea6db26ff2</td>\n",
       "      <td>pageview</td>\n",
       "      <td>2022-06-15T06:17:35.644775696Z</td>\n",
       "    </tr>\n",
       "    <tr>\n",
       "      <th>10720328</th>\n",
       "      <td>6f7c9218-c954-4e8c-a993-fe5db2de3033</td>\n",
       "      <td>pageview</td>\n",
       "      <td>2022-06-15T05:56:15.389711261Z</td>\n",
       "    </tr>\n",
       "  </tbody>\n",
       "</table>\n",
       "<p>9080193 rows × 3 columns</p>\n",
       "</div>"
      ],
      "text/plain": [
       "                                    VISITOR_ID            EVENT  \\\n",
       "3         44cf11c0-1916-4a7a-9742-733c37bad393         pageview   \n",
       "4         ef91fa1c-bdf8-4464-b210-21476b641dcb         pageview   \n",
       "5         cf1f040b-dcd5-4e7d-86ff-fe13f18bf267    post-read-mid   \n",
       "6         5f2c6f11-0bef-4871-b2b8-4eb28a4d003b         pageview   \n",
       "7         b25aac92-44ea-448b-9ce7-e2aff382a38a  post-read-start   \n",
       "...                                        ...              ...   \n",
       "10720296  d8c3f190-d135-4845-8da6-eccfc1017c1e    post-read-end   \n",
       "10720325  3e2723a0-5a00-47c7-9bba-f8930aef60e0         pageview   \n",
       "10720326  9ec39687-7ab0-44ec-b1ad-944d6dc61bc2         pageview   \n",
       "10720327  ffee41a2-795d-4625-bf1d-05ea6db26ff2         pageview   \n",
       "10720328  6f7c9218-c954-4e8c-a993-fe5db2de3033         pageview   \n",
       "\n",
       "                                 CREATED  \n",
       "3         2022-09-27T18:40:29.089023696Z  \n",
       "4         2022-09-27T17:55:05.283031715Z  \n",
       "5         2022-09-27T17:19:24.532676373Z  \n",
       "6         2022-09-27T17:00:25.567739511Z  \n",
       "7          2022-09-27T18:23:14.84872485Z  \n",
       "...                                  ...  \n",
       "10720296   2022-08-14T08:45:34.89919503Z  \n",
       "10720325  2022-06-14T11:57:50.559524056Z  \n",
       "10720326   2022-06-13T11:31:42.12646514Z  \n",
       "10720327  2022-06-15T06:17:35.644775696Z  \n",
       "10720328  2022-06-15T05:56:15.389711261Z  \n",
       "\n",
       "[9080193 rows x 3 columns]"
      ]
     },
     "execution_count": 2,
     "metadata": {},
     "output_type": "execute_result"
    }
   ],
   "source": [
    "data = pd.read_csv('data.csv')\n",
    "data.dropna(inplace = True)\n",
    "data"
   ]
  },
  {
   "cell_type": "code",
   "execution_count": 96,
   "id": "5fefbb0e-2885-4b23-beaa-451ed2869b36",
   "metadata": {},
   "outputs": [
    {
     "data": {
      "text/plain": [
       "1422154"
      ]
     },
     "execution_count": 96,
     "metadata": {},
     "output_type": "execute_result"
    }
   ],
   "source": [
    "len(np.unique(data[['VISITOR_ID']]))"
   ]
  },
  {
   "cell_type": "code",
   "execution_count": 27,
   "id": "a7db1990-e79f-4070-bfce-b4b1d55026e3",
   "metadata": {
    "tags": []
   },
   "outputs": [],
   "source": [
    "user_seqs = data.sort_values('CREATED').groupby('VISITOR_ID')"
   ]
  },
  {
   "cell_type": "code",
   "execution_count": 28,
   "id": "0158a194-b140-4c30-ae82-7e9518205db9",
   "metadata": {},
   "outputs": [],
   "source": [
    "users = list(user_seqs.groups.keys())"
   ]
  },
  {
   "cell_type": "code",
   "execution_count": 99,
   "id": "a8e2e63d-a798-4a3a-b3ba-d42f9a6f0151",
   "metadata": {},
   "outputs": [],
   "source": [
    "from datetime import datetime\n",
    "\n",
    "diff_list = []\n",
    "for user in users:\n",
    "    event_times = user_seqs.get_group(user).CREATED\n",
    "    # Calculating difference list\n",
    "    for x, y in zip(event_times[0::], event_times[1::]):\n",
    "        xt = datetime.strptime(' '.join(x.split('T'))[:22], '%Y-%m-%d %H:%M:%S.%f')\n",
    "        yt = datetime.strptime(' '.join(y.split('T'))[:22], '%Y-%m-%d %H:%M:%S.%f')\n",
    "        diff_list.append(yt-xt)\n",
    "        "
   ]
  },
  {
   "cell_type": "code",
   "execution_count": 100,
   "id": "ac4f0e05-b7a5-4108-959c-db4709a448a0",
   "metadata": {},
   "outputs": [],
   "source": [
    "time_gaps = pd.DataFrame({'Time': diff_list})"
   ]
  },
  {
   "cell_type": "code",
   "execution_count": 101,
   "id": "0568e630-b8b0-4ff5-8bf3-3042fbe6e38a",
   "metadata": {},
   "outputs": [
    {
     "data": {
      "image/png": "[encoded data removed]",
      "text/plain": [
       "<Figure size 432x288 with 1 Axes>"
      ]
     },
     "metadata": {
      "needs_background": "light"
     },
     "output_type": "display_data"
    }
   ],
   "source": [
    "import matplotlib.pyplot as plt\n",
    "time_gaps = time_gaps.Time.astype('timedelta64[s]')#[time_gaps.Time.astype('timedelta64[s]') > 60*60*24]\n",
    "time_gaps.plot.hist();"
   ]
  },
  {
   "cell_type": "code",
   "execution_count": 102,
   "id": "be22768f-f875-4341-bf93-7b9311597d31",
   "metadata": {},
   "outputs": [
    {
     "data": {
      "image/png": "[encoded data removed]",
      "text/plain": [
       "<Figure size 432x288 with 1 Axes>"
      ]
     },
     "metadata": {
      "needs_background": "light"
     },
     "output_type": "display_data"
    }
   ],
   "source": [
    "time_gaps.plot.kde();"
   ]
  },
  {
   "cell_type": "code",
   "execution_count": 103,
   "id": "cef7e96c-bdaa-4aec-a4cd-23b3891516c8",
   "metadata": {},
   "outputs": [
    {
     "data": {
      "text/plain": [
       "1.1334231050308736e-05"
      ]
     },
     "execution_count": 103,
     "metadata": {},
     "output_type": "execute_result"
    }
   ],
   "source": [
    "exp_mean = time_gaps.mean()\n",
    "lam = 1/exp_mean\n",
    "lam"
   ]
  },
  {
   "cell_type": "code",
   "execution_count": 108,
   "id": "b1cf94b2-9240-461f-99d8-454cdce27e7a",
   "metadata": {},
   "outputs": [
    {
     "data": {
      "image/png": "[encoded data removed]",
      "text/plain": [
       "<Figure size 432x288 with 1 Axes>"
      ]
     },
     "metadata": {
      "needs_background": "light"
     },
     "output_type": "display_data"
    }
   ],
   "source": [
    "def f(x):\n",
    "    return lam*np.exp(-lam*x)\n",
    "\n",
    "x = np.linspace(0, 15000000, 1000)\n",
    "\n",
    "plt.plot(x, f(x), color='red');"
   ]
  },
  {
   "cell_type": "code",
   "execution_count": 106,
   "id": "f462c142-9884-4c4a-8d4b-c8c388a3599d",
   "metadata": {},
   "outputs": [
    {
     "data": {
      "text/plain": [
       "264308.38230286376"
      ]
     },
     "execution_count": 106,
     "metadata": {},
     "output_type": "execute_result"
    }
   ],
   "source": [
    "idle = -exp_mean*np.log(0.05)\n",
    "idle"
   ]
  },
  {
   "cell_type": "markdown",
   "id": "55401100-904d-4b92-88d9-b7203ca6bcf5",
   "metadata": {},
   "source": [
    "Assuming the events behave as a Poisson random process (which might be a bit of a bold assumption here...), we can model the time between events as an exponential random variable and approximate its parameter lambda to be the mean of the event gaps. Then, in order to determine the idle period length, let us consider the value corresponding to the 95% quantile of the CDF to be an appropirate choice. This yield 264308.38230286376 as our threshold value for an idle period."
   ]
  }
 ],
 "metadata": {
  "kernelspec": {
   "display_name": "Python 3 (ipykernel)",
   "language": "python",
   "name": "python3"
  },
  "language_info": {
   "codemirror_mode": {
    "name": "ipython",
    "version": 3
   },
   "file_extension": ".py",
   "mimetype": "text/x-python",
   "name": "python",
   "nbconvert_exporter": "python",
   "pygments_lexer": "ipython3",
   "version": "3.9.12"
  }
 },
 "nbformat": 4,
 "nbformat_minor": 5
}
