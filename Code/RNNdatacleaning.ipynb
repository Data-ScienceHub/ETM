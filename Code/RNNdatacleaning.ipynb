{
 "cells": [
  {
   "cell_type": "code",
   "execution_count": 1,
   "id": "57df8b52-7dae-4d4f-b550-8f83cff76c50",
   "metadata": {},
   "outputs": [],
   "source": [
    "import numpy as np\n",
    "import pandas as pd"
   ]
  },
  {
   "cell_type": "code",
   "execution_count": 2,
   "id": "b14d13b8-1946-4b0a-8d3b-d5225dcc330a",
   "metadata": {},
   "outputs": [
    {
     "data": {
      "text/html": [
       "<div>\n",
       "<style scoped>\n",
       "    .dataframe tbody tr th:only-of-type {\n",
       "        vertical-align: middle;\n",
       "    }\n",
       "\n",
       "    .dataframe tbody tr th {\n",
       "        vertical-align: top;\n",
       "    }\n",
       "\n",
       "    .dataframe thead th {\n",
       "        text-align: right;\n",
       "    }\n",
       "</style>\n",
       "<table border=\"1\" class=\"dataframe\">\n",
       "  <thead>\n",
       "    <tr style=\"text-align: right;\">\n",
       "      <th></th>\n",
       "      <th>VISITOR_ID</th>\n",
       "      <th>EVENT</th>\n",
       "      <th>CREATED</th>\n",
       "    </tr>\n",
       "  </thead>\n",
       "  <tbody>\n",
       "    <tr>\n",
       "      <th>0</th>\n",
       "      <td>6c0108d4-8369-47a7-b6ba-04885d0becf9</td>\n",
       "      <td>pageview</td>\n",
       "      <td>NaN</td>\n",
       "    </tr>\n",
       "    <tr>\n",
       "      <th>1</th>\n",
       "      <td>2f7c0c85-48db-4f9f-8f0f-94ee7d41bc55</td>\n",
       "      <td>post-read-mid</td>\n",
       "      <td>NaN</td>\n",
       "    </tr>\n",
       "    <tr>\n",
       "      <th>2</th>\n",
       "      <td>202725b9-782b-4491-9b23-72d58d4bd27c</td>\n",
       "      <td>pageview</td>\n",
       "      <td>NaN</td>\n",
       "    </tr>\n",
       "    <tr>\n",
       "      <th>3</th>\n",
       "      <td>44cf11c0-1916-4a7a-9742-733c37bad393</td>\n",
       "      <td>pageview</td>\n",
       "      <td>2022-09-27T18:40:29.089023696Z</td>\n",
       "    </tr>\n",
       "    <tr>\n",
       "      <th>4</th>\n",
       "      <td>ef91fa1c-bdf8-4464-b210-21476b641dcb</td>\n",
       "      <td>pageview</td>\n",
       "      <td>2022-09-27T17:55:05.283031715Z</td>\n",
       "    </tr>\n",
       "    <tr>\n",
       "      <th>...</th>\n",
       "      <td>...</td>\n",
       "      <td>...</td>\n",
       "      <td>...</td>\n",
       "    </tr>\n",
       "    <tr>\n",
       "      <th>10720389</th>\n",
       "      <td>b6170251-d842-458a-b1e8-1b2f9fc963f4</td>\n",
       "      <td>pageview</td>\n",
       "      <td>NaN</td>\n",
       "    </tr>\n",
       "    <tr>\n",
       "      <th>10720390</th>\n",
       "      <td>3e2ff3a6-e2c6-4d55-8ccf-583ab69d9579</td>\n",
       "      <td>post-read-start</td>\n",
       "      <td>NaN</td>\n",
       "    </tr>\n",
       "    <tr>\n",
       "      <th>10720391</th>\n",
       "      <td>bb6da936-e193-456e-9fe8-4de647208979</td>\n",
       "      <td>pageview</td>\n",
       "      <td>NaN</td>\n",
       "    </tr>\n",
       "    <tr>\n",
       "      <th>10720392</th>\n",
       "      <td>98afca95-eefb-4151-beac-6f2a4e93c0f0</td>\n",
       "      <td>pageview</td>\n",
       "      <td>NaN</td>\n",
       "    </tr>\n",
       "    <tr>\n",
       "      <th>10720393</th>\n",
       "      <td>265a15fc-1031-4940-9590-38d4941875f9</td>\n",
       "      <td>pageview</td>\n",
       "      <td>NaN</td>\n",
       "    </tr>\n",
       "  </tbody>\n",
       "</table>\n",
       "<p>10720394 rows × 3 columns</p>\n",
       "</div>"
      ],
      "text/plain": [
       "                                    VISITOR_ID            EVENT  \\\n",
       "0         6c0108d4-8369-47a7-b6ba-04885d0becf9         pageview   \n",
       "1         2f7c0c85-48db-4f9f-8f0f-94ee7d41bc55    post-read-mid   \n",
       "2         202725b9-782b-4491-9b23-72d58d4bd27c         pageview   \n",
       "3         44cf11c0-1916-4a7a-9742-733c37bad393         pageview   \n",
       "4         ef91fa1c-bdf8-4464-b210-21476b641dcb         pageview   \n",
       "...                                        ...              ...   \n",
       "10720389  b6170251-d842-458a-b1e8-1b2f9fc963f4         pageview   \n",
       "10720390  3e2ff3a6-e2c6-4d55-8ccf-583ab69d9579  post-read-start   \n",
       "10720391  bb6da936-e193-456e-9fe8-4de647208979         pageview   \n",
       "10720392  98afca95-eefb-4151-beac-6f2a4e93c0f0         pageview   \n",
       "10720393  265a15fc-1031-4940-9590-38d4941875f9         pageview   \n",
       "\n",
       "                                 CREATED  \n",
       "0                                    NaN  \n",
       "1                                    NaN  \n",
       "2                                    NaN  \n",
       "3         2022-09-27T18:40:29.089023696Z  \n",
       "4         2022-09-27T17:55:05.283031715Z  \n",
       "...                                  ...  \n",
       "10720389                             NaN  \n",
       "10720390                             NaN  \n",
       "10720391                             NaN  \n",
       "10720392                             NaN  \n",
       "10720393                             NaN  \n",
       "\n",
       "[10720394 rows x 3 columns]"
      ]
     },
     "execution_count": 2,
     "metadata": {},
     "output_type": "execute_result"
    }
   ],
   "source": [
    "data = pd.read_csv('data.csv')\n",
    "data"
   ]
  },
  {
   "cell_type": "code",
   "execution_count": 3,
   "id": "ecd11a00-23d0-4cc2-aad1-847ccc25b2e4",
   "metadata": {},
   "outputs": [
    {
     "data": {
      "text/html": [
       "<div>\n",
       "<style scoped>\n",
       "    .dataframe tbody tr th:only-of-type {\n",
       "        vertical-align: middle;\n",
       "    }\n",
       "\n",
       "    .dataframe tbody tr th {\n",
       "        vertical-align: top;\n",
       "    }\n",
       "\n",
       "    .dataframe thead th {\n",
       "        text-align: right;\n",
       "    }\n",
       "</style>\n",
       "<table border=\"1\" class=\"dataframe\">\n",
       "  <thead>\n",
       "    <tr style=\"text-align: right;\">\n",
       "      <th></th>\n",
       "      <th>VISITOR_ID</th>\n",
       "      <th>EVENT</th>\n",
       "      <th>CREATED</th>\n",
       "    </tr>\n",
       "  </thead>\n",
       "  <tbody>\n",
       "    <tr>\n",
       "      <th>3</th>\n",
       "      <td>44cf11c0-1916-4a7a-9742-733c37bad393</td>\n",
       "      <td>pageview</td>\n",
       "      <td>2022-09-27T18:40:29.089023696Z</td>\n",
       "    </tr>\n",
       "    <tr>\n",
       "      <th>4</th>\n",
       "      <td>ef91fa1c-bdf8-4464-b210-21476b641dcb</td>\n",
       "      <td>pageview</td>\n",
       "      <td>2022-09-27T17:55:05.283031715Z</td>\n",
       "    </tr>\n",
       "    <tr>\n",
       "      <th>5</th>\n",
       "      <td>cf1f040b-dcd5-4e7d-86ff-fe13f18bf267</td>\n",
       "      <td>post-read-mid</td>\n",
       "      <td>2022-09-27T17:19:24.532676373Z</td>\n",
       "    </tr>\n",
       "    <tr>\n",
       "      <th>6</th>\n",
       "      <td>5f2c6f11-0bef-4871-b2b8-4eb28a4d003b</td>\n",
       "      <td>pageview</td>\n",
       "      <td>2022-09-27T17:00:25.567739511Z</td>\n",
       "    </tr>\n",
       "    <tr>\n",
       "      <th>7</th>\n",
       "      <td>b25aac92-44ea-448b-9ce7-e2aff382a38a</td>\n",
       "      <td>post-read-start</td>\n",
       "      <td>2022-09-27T18:23:14.84872485Z</td>\n",
       "    </tr>\n",
       "    <tr>\n",
       "      <th>...</th>\n",
       "      <td>...</td>\n",
       "      <td>...</td>\n",
       "      <td>...</td>\n",
       "    </tr>\n",
       "    <tr>\n",
       "      <th>10720296</th>\n",
       "      <td>d8c3f190-d135-4845-8da6-eccfc1017c1e</td>\n",
       "      <td>post-read-end</td>\n",
       "      <td>2022-08-14T08:45:34.89919503Z</td>\n",
       "    </tr>\n",
       "    <tr>\n",
       "      <th>10720325</th>\n",
       "      <td>3e2723a0-5a00-47c7-9bba-f8930aef60e0</td>\n",
       "      <td>pageview</td>\n",
       "      <td>2022-06-14T11:57:50.559524056Z</td>\n",
       "    </tr>\n",
       "    <tr>\n",
       "      <th>10720326</th>\n",
       "      <td>9ec39687-7ab0-44ec-b1ad-944d6dc61bc2</td>\n",
       "      <td>pageview</td>\n",
       "      <td>2022-06-13T11:31:42.12646514Z</td>\n",
       "    </tr>\n",
       "    <tr>\n",
       "      <th>10720327</th>\n",
       "      <td>ffee41a2-795d-4625-bf1d-05ea6db26ff2</td>\n",
       "      <td>pageview</td>\n",
       "      <td>2022-06-15T06:17:35.644775696Z</td>\n",
       "    </tr>\n",
       "    <tr>\n",
       "      <th>10720328</th>\n",
       "      <td>6f7c9218-c954-4e8c-a993-fe5db2de3033</td>\n",
       "      <td>pageview</td>\n",
       "      <td>2022-06-15T05:56:15.389711261Z</td>\n",
       "    </tr>\n",
       "  </tbody>\n",
       "</table>\n",
       "<p>9080193 rows × 3 columns</p>\n",
       "</div>"
      ],
      "text/plain": [
       "                                    VISITOR_ID            EVENT  \\\n",
       "3         44cf11c0-1916-4a7a-9742-733c37bad393         pageview   \n",
       "4         ef91fa1c-bdf8-4464-b210-21476b641dcb         pageview   \n",
       "5         cf1f040b-dcd5-4e7d-86ff-fe13f18bf267    post-read-mid   \n",
       "6         5f2c6f11-0bef-4871-b2b8-4eb28a4d003b         pageview   \n",
       "7         b25aac92-44ea-448b-9ce7-e2aff382a38a  post-read-start   \n",
       "...                                        ...              ...   \n",
       "10720296  d8c3f190-d135-4845-8da6-eccfc1017c1e    post-read-end   \n",
       "10720325  3e2723a0-5a00-47c7-9bba-f8930aef60e0         pageview   \n",
       "10720326  9ec39687-7ab0-44ec-b1ad-944d6dc61bc2         pageview   \n",
       "10720327  ffee41a2-795d-4625-bf1d-05ea6db26ff2         pageview   \n",
       "10720328  6f7c9218-c954-4e8c-a993-fe5db2de3033         pageview   \n",
       "\n",
       "                                 CREATED  \n",
       "3         2022-09-27T18:40:29.089023696Z  \n",
       "4         2022-09-27T17:55:05.283031715Z  \n",
       "5         2022-09-27T17:19:24.532676373Z  \n",
       "6         2022-09-27T17:00:25.567739511Z  \n",
       "7          2022-09-27T18:23:14.84872485Z  \n",
       "...                                  ...  \n",
       "10720296   2022-08-14T08:45:34.89919503Z  \n",
       "10720325  2022-06-14T11:57:50.559524056Z  \n",
       "10720326   2022-06-13T11:31:42.12646514Z  \n",
       "10720327  2022-06-15T06:17:35.644775696Z  \n",
       "10720328  2022-06-15T05:56:15.389711261Z  \n",
       "\n",
       "[9080193 rows x 3 columns]"
      ]
     },
     "execution_count": 3,
     "metadata": {},
     "output_type": "execute_result"
    }
   ],
   "source": [
    "data.dropna(inplace = True)\n",
    "data"
   ]
  },
  {
   "cell_type": "code",
   "execution_count": 4,
   "id": "51a385cf-8043-4a83-a564-6408dfaafe2c",
   "metadata": {},
   "outputs": [
    {
     "data": {
      "text/plain": [
       "1422154"
      ]
     },
     "execution_count": 4,
     "metadata": {},
     "output_type": "execute_result"
    }
   ],
   "source": [
    "len(np.unique(data[['VISITOR_ID']]))"
   ]
  },
  {
   "cell_type": "code",
   "execution_count": 5,
   "id": "5e0856ba-4655-47ae-abef-b0f5ff6cc2ec",
   "metadata": {},
   "outputs": [
    {
     "data": {
      "text/plain": [
       "0        37e4eaca-a86a-4d97-a254-19a7bd6e5273\n",
       "1        e9c3a331-2b01-4709-8d72-71ea7e907097\n",
       "2        5f507221-13a6-40d4-8112-8addf87e207a\n",
       "3        25962f33-b8fb-4109-9916-bc11bacb26b7\n",
       "4        d1be6f22-0e08-4f76-9c56-33e5d9dd242b\n",
       "                         ...                 \n",
       "49513    3d8f144a-2cdc-477c-a5e0-8f2cd1e8a02a\n",
       "49514    fffb8a41-3ef6-4191-9680-f8cff8db4733\n",
       "49515    9e9a8d0e-507b-4d97-a5d6-b6bd2a919681\n",
       "49516    7cae14b9-b021-44a0-94dd-91e4c1f1b4e0\n",
       "49517    22cf2e23-ec37-4f8a-b241-cd16add2fbf0\n",
       "Name: index, Length: 49518, dtype: object"
      ]
     },
     "execution_count": 5,
     "metadata": {},
     "output_type": "execute_result"
    }
   ],
   "source": [
    "users = data.VISITOR_ID.value_counts().loc[lambda x: (x >= 20) & (x <= 50)].reset_index()['index']\n",
    "users"
   ]
  },
  {
   "cell_type": "code",
   "execution_count": null,
   "id": "ed78af78-d7a5-4443-8e0d-0c8ad522200d",
   "metadata": {
    "tags": []
   },
   "outputs": [],
   "source": [
    "# this code works properly but currently runs for an infeasible duration... will try to get it to complete overnight\n",
    "df = pd.DataFrame()\n",
    "for user in users:\n",
    "    temp = data[data.VISITOR_ID == user]\n",
    "    arr = list(temp.sort_values('CREATED').iloc[:,1:].itertuples(index=False, name=None))\n",
    "    dat = pd.DataFrame({'user': user, 'engagement': [arr]})\n",
    "    df = pd.concat([df,dat])\n",
    "    \n",
    "df"
   ]
  },
  {
   "cell_type": "code",
   "execution_count": null,
   "id": "47f79be1-43d5-46f1-9807-18ceed430132",
   "metadata": {},
   "outputs": [],
   "source": [
    "# will use this format to add interval betweeen events to the tuple of data\n",
    "from datetime import datetime\n",
    "\n",
    "print(datetime.strptime(' '.join(data.CREATED.iloc[1].split('T'))[:19], '%Y-%m-%d %H:%M:%S') - \\\n",
    "     datetime.strptime(' '.join(data.CREATED.iloc[0].split('T'))[:19], '%Y-%m-%d %H:%M:%S'))"
   ]
  },
  {
   "cell_type": "code",
   "execution_count": null,
   "id": "ce35f443-b189-418a-afb1-219d67fca5ba",
   "metadata": {},
   "outputs": [],
   "source": [
    "df.to_csv('/Users/griffinmccauley/Desktop/RNNdata.csv', index = False)"
   ]
  },
  {
   "cell_type": "code",
   "execution_count": null,
   "id": "4c101204-4a6f-4f32-96aa-ffdb4ef4ac73",
   "metadata": {},
   "outputs": [],
   "source": [
    "reread = pd.read_csv('/Users/griffinmccauley/Desktop/RNNdata.csv')\n",
    "reread"
   ]
  }
 ],
 "metadata": {
  "kernelspec": {
   "display_name": "Python 3 (ipykernel)",
   "language": "python",
   "name": "python3"
  },
  "language_info": {
   "codemirror_mode": {
    "name": "ipython",
    "version": 3
   },
   "file_extension": ".py",
   "mimetype": "text/x-python",
   "name": "python",
   "nbconvert_exporter": "python",
   "pygments_lexer": "ipython3",
   "version": "3.9.12"
  }
 },
 "nbformat": 4,
 "nbformat_minor": 5
}
