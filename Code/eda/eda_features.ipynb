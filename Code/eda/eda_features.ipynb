{
 "cells": [
  {
   "cell_type": "code",
   "execution_count": 1,
   "id": "137f00ac-ec3c-49ee-b76b-42098174d6e1",
   "metadata": {},
   "outputs": [],
   "source": [
    "import os\n",
    "import pandas as pd\n",
    "from dotenv import load_dotenv\n",
    "from snowflake.snowpark import Session"
   ]
  },
  {
   "cell_type": "code",
   "execution_count": 2,
   "id": "5621998a-d8c3-49b3-80a8-4ba2cc7024aa",
   "metadata": {},
   "outputs": [
    {
     "data": {
      "text/plain": [
       "True"
      ]
     },
     "execution_count": 2,
     "metadata": {},
     "output_type": "execute_result"
    }
   ],
   "source": [
    "load_dotenv()"
   ]
  },
  {
   "cell_type": "code",
   "execution_count": 3,
   "id": "8bdb6a37-941a-4223-85e8-bcd399b24c9a",
   "metadata": {},
   "outputs": [
    {
     "name": "stdout",
     "output_type": "stream",
     "text": [
      "hum.us-east-2.aws ericatuva RUP UVARND_WH CORE CLIENT\n"
     ]
    }
   ],
   "source": [
    "ACCOUNT = os.getenv('ACCOUNT')\n",
    "USER = os.getenv('SP_USER')\n",
    "PASSWORD = os.getenv('PASSWORD')\n",
    "ROLE = os.getenv('ROLE')\n",
    "WAREHOUSE = os.getenv('WAREHOUSE')\n",
    "DATABASE = os.getenv('DATABASE')\n",
    "SCHEMA = os.getenv('SCHEMA')\n",
    "\n",
    "print(ACCOUNT, USER, ROLE, WAREHOUSE, DATABASE, SCHEMA)"
   ]
  },
  {
   "cell_type": "code",
   "execution_count": 4,
   "id": "502f9d47-7bec-46b0-9249-72ffd08b9008",
   "metadata": {},
   "outputs": [],
   "source": [
    "connection_parameters = {\n",
    "    'account': os.getenv('ACCOUNT'),\n",
    "    'user': USER,\n",
    "    'password': os.getenv('PASSWORD'),\n",
    "    'role': os.getenv('ROLE'),\n",
    "    'warehouse': os.getenv('WAREHOUSE'),\n",
    "    'database': os.getenv('DATABASE'),\n",
    "    'schema': os.getenv('SCHEMA')\n",
    "}"
   ]
  },
  {
   "cell_type": "code",
   "execution_count": 5,
   "id": "380126ed-c234-4e07-b31a-b085220961f3",
   "metadata": {},
   "outputs": [],
   "source": [
    "test_session = Session.builder.configs(connection_parameters).create()"
   ]
  },
  {
   "cell_type": "code",
   "execution_count": 6,
   "id": "1a07c907-6377-436b-8aa6-2aeb1642ad04",
   "metadata": {},
   "outputs": [],
   "source": [
    "def query_snowpark(query, test_session=test_session):\n",
    "    print('querying...')\n",
    "    query_results = test_session.sql(query).collect()\n",
    "    print('query done')\n",
    "    \n",
    "    query_json = list(map(lambda x: x.as_dict(), query_results))\n",
    "    query_df = pd.DataFrame(query_json)\n",
    "    \n",
    "    return query_df"
   ]
  },
  {
   "cell_type": "code",
   "execution_count": 7,
   "id": "6b1f83e1-04fb-4dab-996a-28b7787b7337",
   "metadata": {},
   "outputs": [
    {
     "name": "stdout",
     "output_type": "stream",
     "text": [
      "querying...\n",
      "query done\n"
     ]
    }
   ],
   "source": [
    "# EVENT META\n",
    "\n",
    "event_meta_query = \"\"\"\n",
    "SELECT\n",
    "    e.id\n",
    "    , em.name AS meta_name\n",
    "    , em.value AS meta_value\n",
    "FROM event e\n",
    "LEFT JOIN event_meta em ON e.id = em.event_id\n",
    "WHERE DATE_TRUNC('year', e.day) = DATE('2022-01-01')\n",
    "\"\"\"\n",
    "event_meta_df = query_snowpark(event_meta_query)"
   ]
  },
  {
   "cell_type": "code",
   "execution_count": 8,
   "id": "9f7d50ee-e151-4053-9755-cbfb861700c7",
   "metadata": {},
   "outputs": [
    {
     "data": {
      "text/plain": [
       "array([None, 'referer', 'tags', 'day', 'description', 'title', 'image',\n",
       "       'content_type', 'utm_campaign', 'utm_content', 'utm_medium',\n",
       "       'utm_term', 'utm_source'], dtype=object)"
      ]
     },
     "execution_count": 8,
     "metadata": {},
     "output_type": "execute_result"
    }
   ],
   "source": [
    "event_meta_df.META_NAME.unique()"
   ]
  },
  {
   "cell_type": "code",
   "execution_count": 9,
   "id": "235144a3-c736-427d-9d81-2c72701a7e7a",
   "metadata": {},
   "outputs": [],
   "source": [
    "unique_events = len(event_meta_df.ID.unique())"
   ]
  },
  {
   "cell_type": "code",
   "execution_count": 10,
   "id": "071fa82f-f192-4f98-9182-a7740e6fd3bb",
   "metadata": {},
   "outputs": [
    {
     "data": {
      "text/plain": [
       "10863469"
      ]
     },
     "execution_count": 10,
     "metadata": {},
     "output_type": "execute_result"
    }
   ],
   "source": [
    "unique_events"
   ]
  },
  {
   "cell_type": "markdown",
   "id": "ff36db89-45e1-4c91-aa0c-5fc668d18128",
   "metadata": {},
   "source": [
    "### Content Type"
   ]
  },
  {
   "cell_type": "code",
   "execution_count": 11,
   "id": "67f08d39-3592-482d-9660-b51bd66b86d0",
   "metadata": {},
   "outputs": [
    {
     "data": {
      "text/plain": [
       "META_VALUE\n",
       "journal_article    1068966\n",
       "microsite_home           4\n",
       "Name: ID, dtype: int64"
      ]
     },
     "execution_count": 11,
     "metadata": {},
     "output_type": "execute_result"
    }
   ],
   "source": [
    "event_meta_df[event_meta_df['META_NAME'] == 'content_type']\\\n",
    "    .groupby('META_VALUE')['ID'].nunique()"
   ]
  },
  {
   "cell_type": "markdown",
   "id": "70698bea-0e82-4fa5-94dd-2edc193350d1",
   "metadata": {},
   "source": [
    "- Total Events: 10,863,469\n",
    "- Journal Articles: 1,068,966\n",
    "- Microsite Home: 4"
   ]
  },
  {
   "cell_type": "markdown",
   "id": "a9a742b5-1f3b-46f6-a878-5210a0f9516c",
   "metadata": {},
   "source": [
    "### Other Event Meta Types"
   ]
  },
  {
   "cell_type": "code",
   "execution_count": 12,
   "id": "48e5d323-3f0f-4013-b639-f88f7e950cfe",
   "metadata": {},
   "outputs": [
    {
     "data": {
      "text/plain": [
       "META_NAME\n",
       "content_type    1068970\n",
       "day             2011605\n",
       "description     1886980\n",
       "image            279918\n",
       "referer         2011605\n",
       "tags             642979\n",
       "title           1886909\n",
       "utm_campaign      10174\n",
       "utm_content       10174\n",
       "utm_medium        10174\n",
       "utm_source        10174\n",
       "utm_term          10174\n",
       "Name: ID, dtype: int64"
      ]
     },
     "execution_count": 12,
     "metadata": {},
     "output_type": "execute_result"
    }
   ],
   "source": [
    "event_meta_df.groupby('META_NAME')['ID'].nunique()"
   ]
  },
  {
   "cell_type": "code",
   "execution_count": 13,
   "id": "17268d1f-ddc1-4d8d-ac9a-dce46ca7e475",
   "metadata": {},
   "outputs": [
    {
     "name": "stdout",
     "output_type": "stream",
     "text": [
      "querying...\n",
      "query done\n"
     ]
    }
   ],
   "source": [
    "content_query = \"\"\"\n",
    "SELECT \n",
    "    c.type\n",
    "    , COUNT(DISTINCT e.id) AS events\n",
    "FROM event e\n",
    "LEFT JOIN content c ON CONCAT(e.source, '_', e.content_id) = c.id\n",
    "WHERE DATE_TRUNC('year', e.day) = DATE('2022-01-01')\n",
    "GROUP BY 1\n",
    "\"\"\"\n",
    "content_df = query_snowpark(content_query)"
   ]
  },
  {
   "cell_type": "code",
   "execution_count": 24,
   "id": "ae6413c8-1750-4b0e-a15b-3df892cc62a7",
   "metadata": {},
   "outputs": [
    {
     "data": {
      "text/html": [
       "<div>\n",
       "<style scoped>\n",
       "    .dataframe tbody tr th:only-of-type {\n",
       "        vertical-align: middle;\n",
       "    }\n",
       "\n",
       "    .dataframe tbody tr th {\n",
       "        vertical-align: top;\n",
       "    }\n",
       "\n",
       "    .dataframe thead th {\n",
       "        text-align: right;\n",
       "    }\n",
       "</style>\n",
       "<table border=\"1\" class=\"dataframe\">\n",
       "  <thead>\n",
       "    <tr style=\"text-align: right;\">\n",
       "      <th></th>\n",
       "      <th>TYPE</th>\n",
       "      <th>EVENTS</th>\n",
       "    </tr>\n",
       "  </thead>\n",
       "  <tbody>\n",
       "    <tr>\n",
       "      <th>0</th>\n",
       "      <td>issue</td>\n",
       "      <td>125641</td>\n",
       "    </tr>\n",
       "    <tr>\n",
       "      <th>1</th>\n",
       "      <td>journal_article</td>\n",
       "      <td>8012589</td>\n",
       "    </tr>\n",
       "    <tr>\n",
       "      <th>2</th>\n",
       "      <td>account_management</td>\n",
       "      <td>179789</td>\n",
       "    </tr>\n",
       "    <tr>\n",
       "      <th>3</th>\n",
       "      <td>search</td>\n",
       "      <td>197223</td>\n",
       "    </tr>\n",
       "    <tr>\n",
       "      <th>4</th>\n",
       "      <td>None</td>\n",
       "      <td>1623851</td>\n",
       "    </tr>\n",
       "    <tr>\n",
       "      <th>5</th>\n",
       "      <td>in-brief</td>\n",
       "      <td>39</td>\n",
       "    </tr>\n",
       "    <tr>\n",
       "      <th>6</th>\n",
       "      <td>self-serve</td>\n",
       "      <td>129483</td>\n",
       "    </tr>\n",
       "    <tr>\n",
       "      <th>7</th>\n",
       "      <td>cross-ref-citation</td>\n",
       "      <td>12</td>\n",
       "    </tr>\n",
       "    <tr>\n",
       "      <th>8</th>\n",
       "      <td>microsite_home</td>\n",
       "      <td>594842</td>\n",
       "    </tr>\n",
       "  </tbody>\n",
       "</table>\n",
       "</div>"
      ],
      "text/plain": [
       "                 TYPE   EVENTS\n",
       "0               issue   125641\n",
       "1     journal_article  8012589\n",
       "2  account_management   179789\n",
       "3              search   197223\n",
       "4                None  1623851\n",
       "5            in-brief       39\n",
       "6          self-serve   129483\n",
       "7  cross-ref-citation       12\n",
       "8      microsite_home   594842"
      ]
     },
     "execution_count": 24,
     "metadata": {},
     "output_type": "execute_result"
    }
   ],
   "source": [
    "content_df"
   ]
  },
  {
   "cell_type": "markdown",
   "id": "79271124-653e-46e8-afad-b17925e37e9c",
   "metadata": {},
   "source": [
    "### Referer & URL"
   ]
  },
  {
   "cell_type": "code",
   "execution_count": 14,
   "id": "b9f56f89-1210-441c-baf9-d5a26fd8b472",
   "metadata": {},
   "outputs": [
    {
     "name": "stdout",
     "output_type": "stream",
     "text": [
      "querying...\n",
      "query done\n"
     ]
    }
   ],
   "source": [
    "referer_query = \"\"\"\n",
    "SELECT\n",
    "    CASE\n",
    "        WHEN referer IS NULL THEN 'NULL'\n",
    "        WHEN referer LIKE '%rupress.org%' THEN 'RUPRESS'\n",
    "        WHEN referer LIKE '%scholar.google%' THEN 'GOOGLE SCHOLAR'\n",
    "        WHEN referer LIKE '%google%' THEN 'GOOGLE'\n",
    "        WHEN referer LIKE '%pubmed%' THEN 'PUBMED'\n",
    "        ELSE 'OTHER'\n",
    "    END AS referer_group\n",
    "    , COUNT(DISTINCT id) AS events\n",
    "FROM event\n",
    "WHERE DATE_TRUNC('year', day) = DATE('2022-01-01')\n",
    "GROUP BY 1\n",
    "ORDER BY 2 DESC\n",
    "\"\"\"\n",
    "\n",
    "referer_df = query_snowpark(referer_query)"
   ]
  },
  {
   "cell_type": "code",
   "execution_count": 15,
   "id": "c000a3d1-f836-4269-990e-ba229a336eb4",
   "metadata": {},
   "outputs": [
    {
     "data": {
      "text/html": [
       "<div>\n",
       "<style scoped>\n",
       "    .dataframe tbody tr th:only-of-type {\n",
       "        vertical-align: middle;\n",
       "    }\n",
       "\n",
       "    .dataframe tbody tr th {\n",
       "        vertical-align: top;\n",
       "    }\n",
       "\n",
       "    .dataframe thead th {\n",
       "        text-align: right;\n",
       "    }\n",
       "</style>\n",
       "<table border=\"1\" class=\"dataframe\">\n",
       "  <thead>\n",
       "    <tr style=\"text-align: right;\">\n",
       "      <th></th>\n",
       "      <th>REFERER_GROUP</th>\n",
       "      <th>EVENTS</th>\n",
       "    </tr>\n",
       "  </thead>\n",
       "  <tbody>\n",
       "    <tr>\n",
       "      <th>0</th>\n",
       "      <td>OTHER</td>\n",
       "      <td>4166569</td>\n",
       "    </tr>\n",
       "    <tr>\n",
       "      <th>1</th>\n",
       "      <td>GOOGLE</td>\n",
       "      <td>2933301</td>\n",
       "    </tr>\n",
       "    <tr>\n",
       "      <th>2</th>\n",
       "      <td>PUBMED</td>\n",
       "      <td>1428813</td>\n",
       "    </tr>\n",
       "    <tr>\n",
       "      <th>3</th>\n",
       "      <td>RUPRESS</td>\n",
       "      <td>1355904</td>\n",
       "    </tr>\n",
       "    <tr>\n",
       "      <th>4</th>\n",
       "      <td>GOOGLE SCHOLAR</td>\n",
       "      <td>978882</td>\n",
       "    </tr>\n",
       "  </tbody>\n",
       "</table>\n",
       "</div>"
      ],
      "text/plain": [
       "    REFERER_GROUP   EVENTS\n",
       "0           OTHER  4166569\n",
       "1          GOOGLE  2933301\n",
       "2          PUBMED  1428813\n",
       "3         RUPRESS  1355904\n",
       "4  GOOGLE SCHOLAR   978882"
      ]
     },
     "execution_count": 15,
     "metadata": {},
     "output_type": "execute_result"
    }
   ],
   "source": [
    "referer_df"
   ]
  },
  {
   "cell_type": "code",
   "execution_count": 16,
   "id": "bb794bc6-75f9-43c5-ad90-da35710da3c3",
   "metadata": {},
   "outputs": [
    {
     "name": "stdout",
     "output_type": "stream",
     "text": [
      "querying...\n",
      "query done\n"
     ]
    }
   ],
   "source": [
    "url_query = \"\"\"\n",
    "SELECT\n",
    "    CASE\n",
    "        WHEN url LIKE '%article%' THEN 'ARTICLE'\n",
    "        ELSE 'OTHER'\n",
    "    END AS url_type\n",
    "    , COUNT(DISTINCT id) AS events\n",
    "FROM event\n",
    "WHERE DATE_TRUNC('year', day) = DATE('2022-01-01')\n",
    "GROUP BY 1\n",
    "ORDER BY 2 DESC\n",
    "\"\"\"\n",
    "\n",
    "url_df = query_snowpark(url_query)"
   ]
  },
  {
   "cell_type": "code",
   "execution_count": 17,
   "id": "0aa451a3-308b-46ff-80a5-7fd0900fb304",
   "metadata": {},
   "outputs": [
    {
     "data": {
      "text/html": [
       "<div>\n",
       "<style scoped>\n",
       "    .dataframe tbody tr th:only-of-type {\n",
       "        vertical-align: middle;\n",
       "    }\n",
       "\n",
       "    .dataframe tbody tr th {\n",
       "        vertical-align: top;\n",
       "    }\n",
       "\n",
       "    .dataframe thead th {\n",
       "        text-align: right;\n",
       "    }\n",
       "</style>\n",
       "<table border=\"1\" class=\"dataframe\">\n",
       "  <thead>\n",
       "    <tr style=\"text-align: right;\">\n",
       "      <th></th>\n",
       "      <th>URL_TYPE</th>\n",
       "      <th>EVENTS</th>\n",
       "    </tr>\n",
       "  </thead>\n",
       "  <tbody>\n",
       "    <tr>\n",
       "      <th>0</th>\n",
       "      <td>ARTICLE</td>\n",
       "      <td>9516546</td>\n",
       "    </tr>\n",
       "    <tr>\n",
       "      <th>1</th>\n",
       "      <td>OTHER</td>\n",
       "      <td>1346923</td>\n",
       "    </tr>\n",
       "  </tbody>\n",
       "</table>\n",
       "</div>"
      ],
      "text/plain": [
       "  URL_TYPE   EVENTS\n",
       "0  ARTICLE  9516546\n",
       "1    OTHER  1346923"
      ]
     },
     "execution_count": 17,
     "metadata": {},
     "output_type": "execute_result"
    }
   ],
   "source": [
    "url_df"
   ]
  },
  {
   "cell_type": "markdown",
   "id": "ca02e043-3a2e-44e6-8f03-30bde49b0aff",
   "metadata": {},
   "source": [
    "### Tags & Keywords"
   ]
  },
  {
   "cell_type": "code",
   "execution_count": 18,
   "id": "79c62253-97b0-4bcb-bcaf-1cbaaaf6dea3",
   "metadata": {},
   "outputs": [
    {
     "name": "stdout",
     "output_type": "stream",
     "text": [
      "querying...\n",
      "query done\n"
     ]
    }
   ],
   "source": [
    "tag_query = \"\"\"\n",
    "WITH tag_table AS (\n",
    "    SELECT \n",
    "        e.id\n",
    "        , value AS tag\n",
    "    FROM event e,\n",
    "    LATERAL FLATTEN(input => e.tags) f\n",
    "    WHERE DATE_TRUNC('year', e.day) = DATE('2022-01-01')\n",
    ")\n",
    "\n",
    "SELECT\n",
    "    tag\n",
    "    , COUNT(DISTINCT id) AS events\n",
    "FROM tag_table\n",
    "GROUP BY 1\n",
    "ORDER BY 2 DESC\n",
    "\"\"\"\n",
    "\n",
    "tag_df = query_snowpark(tag_query)"
   ]
  },
  {
   "cell_type": "code",
   "execution_count": 19,
   "id": "150f8601-673c-4f85-b840-a37f84eaacaa",
   "metadata": {},
   "outputs": [
    {
     "data": {
      "text/html": [
       "<div>\n",
       "<style scoped>\n",
       "    .dataframe tbody tr th:only-of-type {\n",
       "        vertical-align: middle;\n",
       "    }\n",
       "\n",
       "    .dataframe tbody tr th {\n",
       "        vertical-align: top;\n",
       "    }\n",
       "\n",
       "    .dataframe thead th {\n",
       "        text-align: right;\n",
       "    }\n",
       "</style>\n",
       "<table border=\"1\" class=\"dataframe\">\n",
       "  <thead>\n",
       "    <tr style=\"text-align: right;\">\n",
       "      <th></th>\n",
       "      <th>TAG</th>\n",
       "      <th>EVENTS</th>\n",
       "    </tr>\n",
       "  </thead>\n",
       "  <tbody>\n",
       "    <tr>\n",
       "      <th>0</th>\n",
       "      <td>\"mice\"</td>\n",
       "      <td>2216857</td>\n",
       "    </tr>\n",
       "    <tr>\n",
       "      <th>1</th>\n",
       "      <td>\"t-lymphocytes\"</td>\n",
       "      <td>996746</td>\n",
       "    </tr>\n",
       "    <tr>\n",
       "      <th>2</th>\n",
       "      <td>\"tissue membrane\"</td>\n",
       "      <td>698284</td>\n",
       "    </tr>\n",
       "    <tr>\n",
       "      <th>3</th>\n",
       "      <td>\"signal transduction\"</td>\n",
       "      <td>619142</td>\n",
       "    </tr>\n",
       "    <tr>\n",
       "      <th>4</th>\n",
       "      <td>\"antibodies\"</td>\n",
       "      <td>585891</td>\n",
       "    </tr>\n",
       "    <tr>\n",
       "      <th>...</th>\n",
       "      <td>...</td>\n",
       "      <td>...</td>\n",
       "    </tr>\n",
       "    <tr>\n",
       "      <th>34604</th>\n",
       "      <td>\"N-formylated peptides\"</td>\n",
       "      <td>1</td>\n",
       "    </tr>\n",
       "    <tr>\n",
       "      <th>34605</th>\n",
       "      <td>\"ciguatoxins\"</td>\n",
       "      <td>1</td>\n",
       "    </tr>\n",
       "    <tr>\n",
       "      <th>34606</th>\n",
       "      <td>\"osteoclast; islet amyloid polypeptide; CTR; C...</td>\n",
       "      <td>1</td>\n",
       "    </tr>\n",
       "    <tr>\n",
       "      <th>34607</th>\n",
       "      <td>\"forehead hematoma\"</td>\n",
       "      <td>1</td>\n",
       "    </tr>\n",
       "    <tr>\n",
       "      <th>34608</th>\n",
       "      <td>\"C-X-C chemokine receptor 3\"</td>\n",
       "      <td>1</td>\n",
       "    </tr>\n",
       "  </tbody>\n",
       "</table>\n",
       "<p>34609 rows × 2 columns</p>\n",
       "</div>"
      ],
      "text/plain": [
       "                                                     TAG   EVENTS\n",
       "0                                                 \"mice\"  2216857\n",
       "1                                        \"t-lymphocytes\"   996746\n",
       "2                                      \"tissue membrane\"   698284\n",
       "3                                  \"signal transduction\"   619142\n",
       "4                                           \"antibodies\"   585891\n",
       "...                                                  ...      ...\n",
       "34604                            \"N-formylated peptides\"        1\n",
       "34605                                      \"ciguatoxins\"        1\n",
       "34606  \"osteoclast; islet amyloid polypeptide; CTR; C...        1\n",
       "34607                                \"forehead hematoma\"        1\n",
       "34608                       \"C-X-C chemokine receptor 3\"        1\n",
       "\n",
       "[34609 rows x 2 columns]"
      ]
     },
     "execution_count": 19,
     "metadata": {},
     "output_type": "execute_result"
    }
   ],
   "source": [
    "tag_df"
   ]
  },
  {
   "cell_type": "code",
   "execution_count": 20,
   "id": "ceafcad3-8b2e-44f8-8696-bfd533254d38",
   "metadata": {},
   "outputs": [
    {
     "data": {
      "text/html": [
       "<div>\n",
       "<style scoped>\n",
       "    .dataframe tbody tr th:only-of-type {\n",
       "        vertical-align: middle;\n",
       "    }\n",
       "\n",
       "    .dataframe tbody tr th {\n",
       "        vertical-align: top;\n",
       "    }\n",
       "\n",
       "    .dataframe thead th {\n",
       "        text-align: right;\n",
       "    }\n",
       "</style>\n",
       "<table border=\"1\" class=\"dataframe\">\n",
       "  <thead>\n",
       "    <tr style=\"text-align: right;\">\n",
       "      <th></th>\n",
       "      <th>TAG</th>\n",
       "      <th>EVENTS</th>\n",
       "    </tr>\n",
       "  </thead>\n",
       "  <tbody>\n",
       "    <tr>\n",
       "      <th>0</th>\n",
       "      <td>\"mice\"</td>\n",
       "      <td>2216857</td>\n",
       "    </tr>\n",
       "    <tr>\n",
       "      <th>1</th>\n",
       "      <td>\"t-lymphocytes\"</td>\n",
       "      <td>996746</td>\n",
       "    </tr>\n",
       "    <tr>\n",
       "      <th>2</th>\n",
       "      <td>\"tissue membrane\"</td>\n",
       "      <td>698284</td>\n",
       "    </tr>\n",
       "    <tr>\n",
       "      <th>3</th>\n",
       "      <td>\"signal transduction\"</td>\n",
       "      <td>619142</td>\n",
       "    </tr>\n",
       "    <tr>\n",
       "      <th>4</th>\n",
       "      <td>\"antibodies\"</td>\n",
       "      <td>585891</td>\n",
       "    </tr>\n",
       "    <tr>\n",
       "      <th>5</th>\n",
       "      <td>\"neoplasms\"</td>\n",
       "      <td>581571</td>\n",
       "    </tr>\n",
       "    <tr>\n",
       "      <th>6</th>\n",
       "      <td>\"infections\"</td>\n",
       "      <td>499700</td>\n",
       "    </tr>\n",
       "    <tr>\n",
       "      <th>7</th>\n",
       "      <td>\"genes\"</td>\n",
       "      <td>425608</td>\n",
       "    </tr>\n",
       "    <tr>\n",
       "      <th>8</th>\n",
       "      <td>\"hum_immunopathogenesis\"</td>\n",
       "      <td>414480</td>\n",
       "    </tr>\n",
       "    <tr>\n",
       "      <th>9</th>\n",
       "      <td>\"mitochondria\"</td>\n",
       "      <td>365549</td>\n",
       "    </tr>\n",
       "    <tr>\n",
       "      <th>10</th>\n",
       "      <td>\"actins\"</td>\n",
       "      <td>359561</td>\n",
       "    </tr>\n",
       "    <tr>\n",
       "      <th>11</th>\n",
       "      <td>\"antigens\"</td>\n",
       "      <td>352000</td>\n",
       "    </tr>\n",
       "    <tr>\n",
       "      <th>12</th>\n",
       "      <td>\"macrophages\"</td>\n",
       "      <td>351873</td>\n",
       "    </tr>\n",
       "    <tr>\n",
       "      <th>13</th>\n",
       "      <td>\"cytokine\"</td>\n",
       "      <td>350997</td>\n",
       "    </tr>\n",
       "    <tr>\n",
       "      <th>14</th>\n",
       "      <td>\"cancer\"</td>\n",
       "      <td>318076</td>\n",
       "    </tr>\n",
       "    <tr>\n",
       "      <th>15</th>\n",
       "      <td>\"lipids\"</td>\n",
       "      <td>317910</td>\n",
       "    </tr>\n",
       "    <tr>\n",
       "      <th>16</th>\n",
       "      <td>\"diagnostic imaging\"</td>\n",
       "      <td>310891</td>\n",
       "    </tr>\n",
       "    <tr>\n",
       "      <th>17</th>\n",
       "      <td>\"b-lymphocytes\"</td>\n",
       "      <td>308574</td>\n",
       "    </tr>\n",
       "    <tr>\n",
       "      <th>18</th>\n",
       "      <td>\"molecule\"</td>\n",
       "      <td>294433</td>\n",
       "    </tr>\n",
       "    <tr>\n",
       "      <th>19</th>\n",
       "      <td>\"hum_immunogenesis\"</td>\n",
       "      <td>291492</td>\n",
       "    </tr>\n",
       "  </tbody>\n",
       "</table>\n",
       "</div>"
      ],
      "text/plain": [
       "                         TAG   EVENTS\n",
       "0                     \"mice\"  2216857\n",
       "1            \"t-lymphocytes\"   996746\n",
       "2          \"tissue membrane\"   698284\n",
       "3      \"signal transduction\"   619142\n",
       "4               \"antibodies\"   585891\n",
       "5                \"neoplasms\"   581571\n",
       "6               \"infections\"   499700\n",
       "7                    \"genes\"   425608\n",
       "8   \"hum_immunopathogenesis\"   414480\n",
       "9             \"mitochondria\"   365549\n",
       "10                  \"actins\"   359561\n",
       "11                \"antigens\"   352000\n",
       "12             \"macrophages\"   351873\n",
       "13                \"cytokine\"   350997\n",
       "14                  \"cancer\"   318076\n",
       "15                  \"lipids\"   317910\n",
       "16      \"diagnostic imaging\"   310891\n",
       "17           \"b-lymphocytes\"   308574\n",
       "18                \"molecule\"   294433\n",
       "19       \"hum_immunogenesis\"   291492"
      ]
     },
     "execution_count": 20,
     "metadata": {},
     "output_type": "execute_result"
    }
   ],
   "source": [
    "tag_df.head(20)"
   ]
  },
  {
   "cell_type": "code",
   "execution_count": 21,
   "id": "b916f257-c9e4-402e-a0a6-7235e6e8fa4a",
   "metadata": {},
   "outputs": [
    {
     "name": "stdout",
     "output_type": "stream",
     "text": [
      "querying...\n",
      "query done\n"
     ]
    }
   ],
   "source": [
    "keyword_query = \"\"\"\n",
    "SELECT\n",
    "    ck.keyword\n",
    "    , COUNT(DISTINCT e.id) AS EVENTS\n",
    "FROM event e\n",
    "LEFT JOIN content_keyword ck ON CONCAT(e.source, '_', e.content_id) = ck.content_id\n",
    "WHERE DATE_TRUNC('year', e.day) = DATE('2022-01-01')\n",
    "GROUP BY 1\n",
    "ORDER BY 2 DESC\n",
    "\"\"\"\n",
    "\n",
    "keyword_df = query_snowpark(keyword_query)"
   ]
  },
  {
   "cell_type": "code",
   "execution_count": 22,
   "id": "12aa2a04-93e7-456c-a3e0-b912e1a5f9d7",
   "metadata": {},
   "outputs": [
    {
     "data": {
      "text/html": [
       "<div>\n",
       "<style scoped>\n",
       "    .dataframe tbody tr th:only-of-type {\n",
       "        vertical-align: middle;\n",
       "    }\n",
       "\n",
       "    .dataframe tbody tr th {\n",
       "        vertical-align: top;\n",
       "    }\n",
       "\n",
       "    .dataframe thead th {\n",
       "        text-align: right;\n",
       "    }\n",
       "</style>\n",
       "<table border=\"1\" class=\"dataframe\">\n",
       "  <thead>\n",
       "    <tr style=\"text-align: right;\">\n",
       "      <th></th>\n",
       "      <th>KEYWORD</th>\n",
       "      <th>EVENTS</th>\n",
       "    </tr>\n",
       "  </thead>\n",
       "  <tbody>\n",
       "    <tr>\n",
       "      <th>0</th>\n",
       "      <td>mice</td>\n",
       "      <td>2500110</td>\n",
       "    </tr>\n",
       "    <tr>\n",
       "      <th>1</th>\n",
       "      <td>None</td>\n",
       "      <td>2125695</td>\n",
       "    </tr>\n",
       "    <tr>\n",
       "      <th>2</th>\n",
       "      <td>t-lymphocytes</td>\n",
       "      <td>1133698</td>\n",
       "    </tr>\n",
       "    <tr>\n",
       "      <th>3</th>\n",
       "      <td>tissue membrane</td>\n",
       "      <td>768383</td>\n",
       "    </tr>\n",
       "    <tr>\n",
       "      <th>4</th>\n",
       "      <td>signal transduction</td>\n",
       "      <td>703489</td>\n",
       "    </tr>\n",
       "    <tr>\n",
       "      <th>...</th>\n",
       "      <td>...</td>\n",
       "      <td>...</td>\n",
       "    </tr>\n",
       "    <tr>\n",
       "      <th>23662</th>\n",
       "      <td>cochlear implants</td>\n",
       "      <td>1</td>\n",
       "    </tr>\n",
       "    <tr>\n",
       "      <th>23663</th>\n",
       "      <td>phosphorylases</td>\n",
       "      <td>1</td>\n",
       "    </tr>\n",
       "    <tr>\n",
       "      <th>23664</th>\n",
       "      <td>confidence interval</td>\n",
       "      <td>1</td>\n",
       "    </tr>\n",
       "    <tr>\n",
       "      <th>23665</th>\n",
       "      <td>supraoptic nucleus</td>\n",
       "      <td>1</td>\n",
       "    </tr>\n",
       "    <tr>\n",
       "      <th>23666</th>\n",
       "      <td>hum_eleetrophoresis</td>\n",
       "      <td>1</td>\n",
       "    </tr>\n",
       "  </tbody>\n",
       "</table>\n",
       "<p>23667 rows × 2 columns</p>\n",
       "</div>"
      ],
      "text/plain": [
       "                   KEYWORD   EVENTS\n",
       "0                     mice  2500110\n",
       "1                     None  2125695\n",
       "2            t-lymphocytes  1133698\n",
       "3          tissue membrane   768383\n",
       "4      signal transduction   703489\n",
       "...                    ...      ...\n",
       "23662    cochlear implants        1\n",
       "23663       phosphorylases        1\n",
       "23664  confidence interval        1\n",
       "23665   supraoptic nucleus        1\n",
       "23666  hum_eleetrophoresis        1\n",
       "\n",
       "[23667 rows x 2 columns]"
      ]
     },
     "execution_count": 22,
     "metadata": {},
     "output_type": "execute_result"
    }
   ],
   "source": [
    "keyword_df"
   ]
  },
  {
   "cell_type": "markdown",
   "id": "7c285780-449b-4a9c-a2cf-bca17accb1ab",
   "metadata": {},
   "source": [
    "Are tag or keyword groups available in the data?"
   ]
  },
  {
   "cell_type": "code",
   "execution_count": 23,
   "id": "40f47f8b-0274-440d-9c72-f842ea58a048",
   "metadata": {},
   "outputs": [
    {
     "name": "stdout",
     "output_type": "stream",
     "text": [
      "session closed\n"
     ]
    }
   ],
   "source": [
    "test_session.close()\n",
    "print('session closed')"
   ]
  },
  {
   "cell_type": "code",
   "execution_count": null,
   "id": "93b895c9-11a7-46f5-b1d9-77b8cb5faf88",
   "metadata": {},
   "outputs": [],
   "source": []
  }
 ],
 "metadata": {
  "kernelspec": {
   "display_name": "Python 3 (ipykernel)",
   "language": "python",
   "name": "python3"
  },
  "language_info": {
   "codemirror_mode": {
    "name": "ipython",
    "version": 3
   },
   "file_extension": ".py",
   "mimetype": "text/x-python",
   "name": "python",
   "nbconvert_exporter": "python",
   "pygments_lexer": "ipython3",
   "version": "3.8.13"
  }
 },
 "nbformat": 4,
 "nbformat_minor": 5
}
