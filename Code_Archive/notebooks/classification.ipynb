{
 "cells": [
  {
   "cell_type": "markdown",
   "id": "8dd7c2c3-50b0-46c0-b090-26cefe76fa87",
   "metadata": {},
   "source": [
    "### If running on AWS SageMaker, download the required libraries:"
   ]
  },
  {
   "cell_type": "code",
   "execution_count": null,
   "id": "ab3b96d6-2698-4871-8653-0e98362b6ad5",
   "metadata": {},
   "outputs": [],
   "source": [
    "#!pip install -r classification_requirements.txt"
   ]
  },
  {
   "cell_type": "markdown",
   "id": "71446b27-80a7-48dd-a385-710d8a6c692b",
   "metadata": {},
   "source": [
    "# MLP-Based Classification"
   ]
  },
  {
   "cell_type": "code",
   "execution_count": 1,
   "id": "1bcd2a44-9a9f-4d8c-a053-faea8d2301aa",
   "metadata": {},
   "outputs": [
    {
     "name": "stderr",
     "output_type": "stream",
     "text": [
      "/Users/erictria/opt/anaconda3/envs/capstone/lib/python3.9/site-packages/scipy/__init__.py:146: UserWarning: A NumPy version >=1.16.5 and <1.23.0 is required for this version of SciPy (detected version 1.24.0\n",
      "  warnings.warn(f\"A NumPy version >={np_minversion} and <{np_maxversion}\"\n",
      "2023-04-04 20:44:52.845484: I tensorflow/core/platform/cpu_feature_guard.cc:193] This TensorFlow binary is optimized with oneAPI Deep Neural Network Library (oneDNN) to use the following CPU instructions in performance-critical operations:  SSE4.1 SSE4.2\n",
      "To enable them in other operations, rebuild TensorFlow with the appropriate compiler flags.\n"
     ]
    }
   ],
   "source": [
    "import os\n",
    "import sys\n",
    "import pandas as pd\n",
    "sys.path.append('..')\n",
    "import lib.models as mods\n",
    "\n",
    "from datetime import datetime"
   ]
  },
  {
   "cell_type": "code",
   "execution_count": 2,
   "id": "329f93fa-d347-4d94-98fe-0664b9bff717",
   "metadata": {},
   "outputs": [],
   "source": [
    "s3_path = 's3://hum-rnd-data/UVA/'\n",
    "\n",
    "date_today = datetime.now().strftime('%Y-%m-%d')\n",
    "# END_DATE = date_today\n",
    "END_DATE = '2023-03-31'\n",
    "\n",
    "classification_file_name = 'classification_data_{}.csv'.format(END_DATE)\n",
    "training_labels_file_name = 'training_labels_{}.csv'.format(END_DATE)\n",
    "\n",
    "# If running on AWS SageMaker / Reading from S3\n",
    "# classification_file_name = s3_path + classification_file_name\n",
    "# training_labels_file_name = s3_path + training_labels_file_name"
   ]
  },
  {
   "cell_type": "markdown",
   "id": "e801f6b1-9e52-4668-877c-1694c55c2b55",
   "metadata": {},
   "source": [
    "### Load in data and select features"
   ]
  },
  {
   "cell_type": "code",
   "execution_count": 3,
   "id": "af8b706a-619b-4406-97c3-14b35f634012",
   "metadata": {},
   "outputs": [
    {
     "data": {
      "text/html": [
       "<div>\n",
       "<style scoped>\n",
       "    .dataframe tbody tr th:only-of-type {\n",
       "        vertical-align: middle;\n",
       "    }\n",
       "\n",
       "    .dataframe tbody tr th {\n",
       "        vertical-align: top;\n",
       "    }\n",
       "\n",
       "    .dataframe thead th {\n",
       "        text-align: right;\n",
       "    }\n",
       "</style>\n",
       "<table border=\"1\" class=\"dataframe\">\n",
       "  <thead>\n",
       "    <tr style=\"text-align: right;\">\n",
       "      <th></th>\n",
       "      <th>PROFILE_ID</th>\n",
       "      <th>REACHED_16_EVENTS</th>\n",
       "      <th>RECENT_LAST_EVENT</th>\n",
       "      <th>EVENT_CYCLES_F16</th>\n",
       "      <th>DISTINCT_ARTICLES_F16</th>\n",
       "      <th>PERCENT_GOOGLE_ARTICLES_F16</th>\n",
       "      <th>PERCENT_ARTICLE_CONTENT_F16</th>\n",
       "      <th>AVERAGE_CONTENT_SCORE_F16</th>\n",
       "      <th>DAYS_TO_16_EVENTS</th>\n",
       "      <th>EVENTS</th>\n",
       "      <th>FIRST_EVENT_TIME</th>\n",
       "      <th>EVENT_TIME_16</th>\n",
       "      <th>DISTINCT_DAYS_F16</th>\n",
       "      <th>ARTICLES_PER_EVENT_F16</th>\n",
       "      <th>EVENT_DENSITY_F16</th>\n",
       "    </tr>\n",
       "  </thead>\n",
       "  <tbody>\n",
       "    <tr>\n",
       "      <th>0</th>\n",
       "      <td>--0p74IB28LFeUkXSg6b</td>\n",
       "      <td>1</td>\n",
       "      <td>0</td>\n",
       "      <td>2</td>\n",
       "      <td>2</td>\n",
       "      <td>0.000000</td>\n",
       "      <td>1.0</td>\n",
       "      <td>0.0</td>\n",
       "      <td>133</td>\n",
       "      <td>16</td>\n",
       "      <td>2022-08-30 14:30:38.171966</td>\n",
       "      <td>2023-01-10 16:43:55.720219</td>\n",
       "      <td>2</td>\n",
       "      <td>0.1250</td>\n",
       "      <td>8.000000</td>\n",
       "    </tr>\n",
       "    <tr>\n",
       "      <th>1</th>\n",
       "      <td>--6dYIIB8Tq1gs32cnxN</td>\n",
       "      <td>1</td>\n",
       "      <td>0</td>\n",
       "      <td>1</td>\n",
       "      <td>1</td>\n",
       "      <td>1.000000</td>\n",
       "      <td>1.0</td>\n",
       "      <td>0.0</td>\n",
       "      <td>7</td>\n",
       "      <td>16</td>\n",
       "      <td>2022-08-02 22:11:48.120981</td>\n",
       "      <td>2022-08-09 16:19:25.990118</td>\n",
       "      <td>4</td>\n",
       "      <td>0.0625</td>\n",
       "      <td>4.000000</td>\n",
       "    </tr>\n",
       "    <tr>\n",
       "      <th>2</th>\n",
       "      <td>--7CGYYBRkWobPtw2Qjb</td>\n",
       "      <td>1</td>\n",
       "      <td>1</td>\n",
       "      <td>3</td>\n",
       "      <td>1</td>\n",
       "      <td>1.000000</td>\n",
       "      <td>1.0</td>\n",
       "      <td>0.0</td>\n",
       "      <td>27</td>\n",
       "      <td>29</td>\n",
       "      <td>2023-02-04 00:10:45.911994</td>\n",
       "      <td>2023-03-03 04:29:56.373198</td>\n",
       "      <td>3</td>\n",
       "      <td>0.0625</td>\n",
       "      <td>5.333333</td>\n",
       "    </tr>\n",
       "    <tr>\n",
       "      <th>3</th>\n",
       "      <td>--7egIIBGoM3uBpFKICG</td>\n",
       "      <td>1</td>\n",
       "      <td>0</td>\n",
       "      <td>1</td>\n",
       "      <td>4</td>\n",
       "      <td>1.000000</td>\n",
       "      <td>1.0</td>\n",
       "      <td>0.0</td>\n",
       "      <td>5</td>\n",
       "      <td>63</td>\n",
       "      <td>2022-08-09 04:30:20.132357</td>\n",
       "      <td>2022-08-14 21:53:19.151456</td>\n",
       "      <td>3</td>\n",
       "      <td>0.2500</td>\n",
       "      <td>5.333333</td>\n",
       "    </tr>\n",
       "    <tr>\n",
       "      <th>4</th>\n",
       "      <td>--7xtoIBGoM3uBpFf0FV</td>\n",
       "      <td>1</td>\n",
       "      <td>0</td>\n",
       "      <td>3</td>\n",
       "      <td>2</td>\n",
       "      <td>0.000000</td>\n",
       "      <td>1.0</td>\n",
       "      <td>0.0</td>\n",
       "      <td>103</td>\n",
       "      <td>16</td>\n",
       "      <td>2022-08-19 16:30:57.064488</td>\n",
       "      <td>2022-11-30 19:41:43.155668</td>\n",
       "      <td>4</td>\n",
       "      <td>0.1250</td>\n",
       "      <td>4.000000</td>\n",
       "    </tr>\n",
       "    <tr>\n",
       "      <th>...</th>\n",
       "      <td>...</td>\n",
       "      <td>...</td>\n",
       "      <td>...</td>\n",
       "      <td>...</td>\n",
       "      <td>...</td>\n",
       "      <td>...</td>\n",
       "      <td>...</td>\n",
       "      <td>...</td>\n",
       "      <td>...</td>\n",
       "      <td>...</td>\n",
       "      <td>...</td>\n",
       "      <td>...</td>\n",
       "      <td>...</td>\n",
       "      <td>...</td>\n",
       "      <td>...</td>\n",
       "    </tr>\n",
       "    <tr>\n",
       "      <th>135540</th>\n",
       "      <td>zzlKjIIBGoM3uBpFBagQ</td>\n",
       "      <td>1</td>\n",
       "      <td>1</td>\n",
       "      <td>3</td>\n",
       "      <td>3</td>\n",
       "      <td>0.666667</td>\n",
       "      <td>1.0</td>\n",
       "      <td>0.0</td>\n",
       "      <td>133</td>\n",
       "      <td>40</td>\n",
       "      <td>2022-08-11 09:43:58.953482</td>\n",
       "      <td>2022-12-22 09:37:29.844389</td>\n",
       "      <td>4</td>\n",
       "      <td>0.1875</td>\n",
       "      <td>4.000000</td>\n",
       "    </tr>\n",
       "    <tr>\n",
       "      <th>135541</th>\n",
       "      <td>zzpjDYQBEEdskq5qGMuW</td>\n",
       "      <td>1</td>\n",
       "      <td>0</td>\n",
       "      <td>2</td>\n",
       "      <td>1</td>\n",
       "      <td>0.000000</td>\n",
       "      <td>1.0</td>\n",
       "      <td>0.0</td>\n",
       "      <td>17</td>\n",
       "      <td>28</td>\n",
       "      <td>2022-10-25 04:25:09.614383</td>\n",
       "      <td>2022-11-11 13:42:32.907519</td>\n",
       "      <td>7</td>\n",
       "      <td>0.0625</td>\n",
       "      <td>2.285714</td>\n",
       "    </tr>\n",
       "    <tr>\n",
       "      <th>135542</th>\n",
       "      <td>zzrPDIQBEEdskq5qZRER</td>\n",
       "      <td>1</td>\n",
       "      <td>1</td>\n",
       "      <td>5</td>\n",
       "      <td>3</td>\n",
       "      <td>0.333333</td>\n",
       "      <td>1.0</td>\n",
       "      <td>0.0</td>\n",
       "      <td>129</td>\n",
       "      <td>18</td>\n",
       "      <td>2022-10-25 01:43:50.150416</td>\n",
       "      <td>2023-03-03 07:59:42.533219</td>\n",
       "      <td>4</td>\n",
       "      <td>0.1875</td>\n",
       "      <td>4.000000</td>\n",
       "    </tr>\n",
       "    <tr>\n",
       "      <th>135543</th>\n",
       "      <td>zzsQPYQBwWEOklUHCNVJ</td>\n",
       "      <td>1</td>\n",
       "      <td>0</td>\n",
       "      <td>1</td>\n",
       "      <td>0</td>\n",
       "      <td>0.000000</td>\n",
       "      <td>0.0</td>\n",
       "      <td>0.0</td>\n",
       "      <td>2</td>\n",
       "      <td>56</td>\n",
       "      <td>2022-11-03 10:36:12.009305</td>\n",
       "      <td>2022-11-05 03:42:30.198338</td>\n",
       "      <td>3</td>\n",
       "      <td>0.0000</td>\n",
       "      <td>5.333333</td>\n",
       "    </tr>\n",
       "    <tr>\n",
       "      <th>135544</th>\n",
       "      <td>zzuRaIIB8Tq1gs32yc5C</td>\n",
       "      <td>1</td>\n",
       "      <td>1</td>\n",
       "      <td>4</td>\n",
       "      <td>1</td>\n",
       "      <td>0.000000</td>\n",
       "      <td>1.0</td>\n",
       "      <td>0.0</td>\n",
       "      <td>27</td>\n",
       "      <td>68</td>\n",
       "      <td>2022-08-04 11:16:06.076958</td>\n",
       "      <td>2022-08-31 12:39:50.767883</td>\n",
       "      <td>3</td>\n",
       "      <td>0.0625</td>\n",
       "      <td>5.333333</td>\n",
       "    </tr>\n",
       "  </tbody>\n",
       "</table>\n",
       "<p>135545 rows × 15 columns</p>\n",
       "</div>"
      ],
      "text/plain": [
       "                  PROFILE_ID  REACHED_16_EVENTS  RECENT_LAST_EVENT  \\\n",
       "0       --0p74IB28LFeUkXSg6b                  1                  0   \n",
       "1       --6dYIIB8Tq1gs32cnxN                  1                  0   \n",
       "2       --7CGYYBRkWobPtw2Qjb                  1                  1   \n",
       "3       --7egIIBGoM3uBpFKICG                  1                  0   \n",
       "4       --7xtoIBGoM3uBpFf0FV                  1                  0   \n",
       "...                      ...                ...                ...   \n",
       "135540  zzlKjIIBGoM3uBpFBagQ                  1                  1   \n",
       "135541  zzpjDYQBEEdskq5qGMuW                  1                  0   \n",
       "135542  zzrPDIQBEEdskq5qZRER                  1                  1   \n",
       "135543  zzsQPYQBwWEOklUHCNVJ                  1                  0   \n",
       "135544  zzuRaIIB8Tq1gs32yc5C                  1                  1   \n",
       "\n",
       "        EVENT_CYCLES_F16  DISTINCT_ARTICLES_F16  PERCENT_GOOGLE_ARTICLES_F16  \\\n",
       "0                      2                      2                     0.000000   \n",
       "1                      1                      1                     1.000000   \n",
       "2                      3                      1                     1.000000   \n",
       "3                      1                      4                     1.000000   \n",
       "4                      3                      2                     0.000000   \n",
       "...                  ...                    ...                          ...   \n",
       "135540                 3                      3                     0.666667   \n",
       "135541                 2                      1                     0.000000   \n",
       "135542                 5                      3                     0.333333   \n",
       "135543                 1                      0                     0.000000   \n",
       "135544                 4                      1                     0.000000   \n",
       "\n",
       "        PERCENT_ARTICLE_CONTENT_F16  AVERAGE_CONTENT_SCORE_F16  \\\n",
       "0                               1.0                        0.0   \n",
       "1                               1.0                        0.0   \n",
       "2                               1.0                        0.0   \n",
       "3                               1.0                        0.0   \n",
       "4                               1.0                        0.0   \n",
       "...                             ...                        ...   \n",
       "135540                          1.0                        0.0   \n",
       "135541                          1.0                        0.0   \n",
       "135542                          1.0                        0.0   \n",
       "135543                          0.0                        0.0   \n",
       "135544                          1.0                        0.0   \n",
       "\n",
       "        DAYS_TO_16_EVENTS  EVENTS            FIRST_EVENT_TIME  \\\n",
       "0                     133      16  2022-08-30 14:30:38.171966   \n",
       "1                       7      16  2022-08-02 22:11:48.120981   \n",
       "2                      27      29  2023-02-04 00:10:45.911994   \n",
       "3                       5      63  2022-08-09 04:30:20.132357   \n",
       "4                     103      16  2022-08-19 16:30:57.064488   \n",
       "...                   ...     ...                         ...   \n",
       "135540                133      40  2022-08-11 09:43:58.953482   \n",
       "135541                 17      28  2022-10-25 04:25:09.614383   \n",
       "135542                129      18  2022-10-25 01:43:50.150416   \n",
       "135543                  2      56  2022-11-03 10:36:12.009305   \n",
       "135544                 27      68  2022-08-04 11:16:06.076958   \n",
       "\n",
       "                     EVENT_TIME_16  DISTINCT_DAYS_F16  ARTICLES_PER_EVENT_F16  \\\n",
       "0       2023-01-10 16:43:55.720219                  2                  0.1250   \n",
       "1       2022-08-09 16:19:25.990118                  4                  0.0625   \n",
       "2       2023-03-03 04:29:56.373198                  3                  0.0625   \n",
       "3       2022-08-14 21:53:19.151456                  3                  0.2500   \n",
       "4       2022-11-30 19:41:43.155668                  4                  0.1250   \n",
       "...                            ...                ...                     ...   \n",
       "135540  2022-12-22 09:37:29.844389                  4                  0.1875   \n",
       "135541  2022-11-11 13:42:32.907519                  7                  0.0625   \n",
       "135542  2023-03-03 07:59:42.533219                  4                  0.1875   \n",
       "135543  2022-11-05 03:42:30.198338                  3                  0.0000   \n",
       "135544  2022-08-31 12:39:50.767883                  3                  0.0625   \n",
       "\n",
       "        EVENT_DENSITY_F16  \n",
       "0                8.000000  \n",
       "1                4.000000  \n",
       "2                5.333333  \n",
       "3                5.333333  \n",
       "4                4.000000  \n",
       "...                   ...  \n",
       "135540           4.000000  \n",
       "135541           2.285714  \n",
       "135542           4.000000  \n",
       "135543           5.333333  \n",
       "135544           5.333333  \n",
       "\n",
       "[135545 rows x 15 columns]"
      ]
     },
     "execution_count": 3,
     "metadata": {},
     "output_type": "execute_result"
    }
   ],
   "source": [
    "classification_df = pd.read_csv(classification_file_name)\n",
    "classification_df.sort_values(by = 'PROFILE_ID', inplace= True)\n",
    "classification_df"
   ]
  },
  {
   "cell_type": "code",
   "execution_count": 5,
   "id": "304a36f3-8cac-4c0e-80e2-656f91788706",
   "metadata": {},
   "outputs": [
    {
     "data": {
      "text/plain": [
       "array([1, 1, 1, ..., 1, 0, 1])"
      ]
     },
     "execution_count": 5,
     "metadata": {},
     "output_type": "execute_result"
    }
   ],
   "source": [
    "labels = pd.read_csv(training_labels_file_name)\n",
    "labels = labels.to_numpy().T[0]\n",
    "labels"
   ]
  },
  {
   "cell_type": "code",
   "execution_count": 6,
   "id": "985b2247-cd9a-44fd-a092-63658b310d49",
   "metadata": {},
   "outputs": [
    {
     "data": {
      "text/html": [
       "<div>\n",
       "<style scoped>\n",
       "    .dataframe tbody tr th:only-of-type {\n",
       "        vertical-align: middle;\n",
       "    }\n",
       "\n",
       "    .dataframe tbody tr th {\n",
       "        vertical-align: top;\n",
       "    }\n",
       "\n",
       "    .dataframe thead th {\n",
       "        text-align: right;\n",
       "    }\n",
       "</style>\n",
       "<table border=\"1\" class=\"dataframe\">\n",
       "  <thead>\n",
       "    <tr style=\"text-align: right;\">\n",
       "      <th></th>\n",
       "      <th>ARTICLES_PER_EVENT_F16</th>\n",
       "      <th>PERCENT_GOOGLE_ARTICLES_F16</th>\n",
       "      <th>PERCENT_ARTICLE_CONTENT_F16</th>\n",
       "      <th>EVENT_DENSITY_F16</th>\n",
       "    </tr>\n",
       "  </thead>\n",
       "  <tbody>\n",
       "    <tr>\n",
       "      <th>0</th>\n",
       "      <td>0.1250</td>\n",
       "      <td>0.000000</td>\n",
       "      <td>1.0</td>\n",
       "      <td>8.000000</td>\n",
       "    </tr>\n",
       "    <tr>\n",
       "      <th>1</th>\n",
       "      <td>0.0625</td>\n",
       "      <td>1.000000</td>\n",
       "      <td>1.0</td>\n",
       "      <td>4.000000</td>\n",
       "    </tr>\n",
       "    <tr>\n",
       "      <th>2</th>\n",
       "      <td>0.0625</td>\n",
       "      <td>1.000000</td>\n",
       "      <td>1.0</td>\n",
       "      <td>5.333333</td>\n",
       "    </tr>\n",
       "    <tr>\n",
       "      <th>3</th>\n",
       "      <td>0.2500</td>\n",
       "      <td>1.000000</td>\n",
       "      <td>1.0</td>\n",
       "      <td>5.333333</td>\n",
       "    </tr>\n",
       "    <tr>\n",
       "      <th>4</th>\n",
       "      <td>0.1250</td>\n",
       "      <td>0.000000</td>\n",
       "      <td>1.0</td>\n",
       "      <td>4.000000</td>\n",
       "    </tr>\n",
       "    <tr>\n",
       "      <th>...</th>\n",
       "      <td>...</td>\n",
       "      <td>...</td>\n",
       "      <td>...</td>\n",
       "      <td>...</td>\n",
       "    </tr>\n",
       "    <tr>\n",
       "      <th>135540</th>\n",
       "      <td>0.1875</td>\n",
       "      <td>0.666667</td>\n",
       "      <td>1.0</td>\n",
       "      <td>4.000000</td>\n",
       "    </tr>\n",
       "    <tr>\n",
       "      <th>135541</th>\n",
       "      <td>0.0625</td>\n",
       "      <td>0.000000</td>\n",
       "      <td>1.0</td>\n",
       "      <td>2.285714</td>\n",
       "    </tr>\n",
       "    <tr>\n",
       "      <th>135542</th>\n",
       "      <td>0.1875</td>\n",
       "      <td>0.333333</td>\n",
       "      <td>1.0</td>\n",
       "      <td>4.000000</td>\n",
       "    </tr>\n",
       "    <tr>\n",
       "      <th>135543</th>\n",
       "      <td>0.0000</td>\n",
       "      <td>0.000000</td>\n",
       "      <td>0.0</td>\n",
       "      <td>5.333333</td>\n",
       "    </tr>\n",
       "    <tr>\n",
       "      <th>135544</th>\n",
       "      <td>0.0625</td>\n",
       "      <td>0.000000</td>\n",
       "      <td>1.0</td>\n",
       "      <td>5.333333</td>\n",
       "    </tr>\n",
       "  </tbody>\n",
       "</table>\n",
       "<p>135545 rows × 4 columns</p>\n",
       "</div>"
      ],
      "text/plain": [
       "        ARTICLES_PER_EVENT_F16  PERCENT_GOOGLE_ARTICLES_F16  \\\n",
       "0                       0.1250                     0.000000   \n",
       "1                       0.0625                     1.000000   \n",
       "2                       0.0625                     1.000000   \n",
       "3                       0.2500                     1.000000   \n",
       "4                       0.1250                     0.000000   \n",
       "...                        ...                          ...   \n",
       "135540                  0.1875                     0.666667   \n",
       "135541                  0.0625                     0.000000   \n",
       "135542                  0.1875                     0.333333   \n",
       "135543                  0.0000                     0.000000   \n",
       "135544                  0.0625                     0.000000   \n",
       "\n",
       "        PERCENT_ARTICLE_CONTENT_F16  EVENT_DENSITY_F16  \n",
       "0                               1.0           8.000000  \n",
       "1                               1.0           4.000000  \n",
       "2                               1.0           5.333333  \n",
       "3                               1.0           5.333333  \n",
       "4                               1.0           4.000000  \n",
       "...                             ...                ...  \n",
       "135540                          1.0           4.000000  \n",
       "135541                          1.0           2.285714  \n",
       "135542                          1.0           4.000000  \n",
       "135543                          0.0           5.333333  \n",
       "135544                          1.0           5.333333  \n",
       "\n",
       "[135545 rows x 4 columns]"
      ]
     },
     "execution_count": 6,
     "metadata": {},
     "output_type": "execute_result"
    }
   ],
   "source": [
    "feature_list = [\n",
    "    'ARTICLES_PER_EVENT_F16',\n",
    "    'PERCENT_GOOGLE_ARTICLES_F16',\n",
    "    'PERCENT_ARTICLE_CONTENT_F16',\n",
    "    'EVENT_DENSITY_F16'\n",
    "]\n",
    "data = classification_df[feature_list]\n",
    "data"
   ]
  },
  {
   "cell_type": "markdown",
   "id": "33eab0a0-7511-42f3-bc47-9c9c1b806c32",
   "metadata": {},
   "source": [
    "### Create MLP model"
   ]
  },
  {
   "cell_type": "code",
   "execution_count": 8,
   "id": "ffe83451-c36b-4672-8fe3-3658a011004f",
   "metadata": {},
   "outputs": [
    {
     "name": "stderr",
     "output_type": "stream",
     "text": [
      "/Users/erictria/opt/anaconda3/envs/capstone/lib/python3.9/site-packages/keras/initializers/initializers_v2.py:120: UserWarning: The initializer GlorotNormal is unseeded and being called multiple times, which will return identical values  each time (even if the initializer is unseeded). Please update your code to provide a seed to the initializer, or avoid using the same initalizer instance more than once.\n",
      "  warnings.warn(\n"
     ]
    },
    {
     "data": {
      "text/plain": [
       "<keras.engine.sequential.Sequential at 0x7f7d2edd6d00>"
      ]
     },
     "execution_count": 8,
     "metadata": {},
     "output_type": "execute_result"
    }
   ],
   "source": [
    "etm_mlp = mods.EtmMLP(data, labels)\n",
    "etm_mlp.generate_model(test_size = 0.2, random_state = 82113)"
   ]
  },
  {
   "cell_type": "code",
   "execution_count": 9,
   "id": "c377feeb-b0f5-4b71-9f18-7bb7bcbd69ba",
   "metadata": {},
   "outputs": [
    {
     "name": "stdout",
     "output_type": "stream",
     "text": [
      "Train: 0.94, Test: 0.94\n"
     ]
    }
   ],
   "source": [
    "etm_mlp.train_model(num_epochs = 10)"
   ]
  },
  {
   "cell_type": "markdown",
   "id": "f2d3c4db-553c-48e2-89fe-3102fbb291f4",
   "metadata": {},
   "source": [
    "### Plot training curve"
   ]
  },
  {
   "cell_type": "code",
   "execution_count": 10,
   "id": "21a0b005-994d-4dae-a5f8-69fb4b622ca7",
   "metadata": {},
   "outputs": [
    {
     "data": {
      "image/png": "[encoded data removed]",
      "text/plain": [
       "<Figure size 640x480 with 1 Axes>"
      ]
     },
     "metadata": {},
     "output_type": "display_data"
    }
   ],
   "source": [
    "etm_mlp.plot_training_curve()"
   ]
  },
  {
   "cell_type": "markdown",
   "id": "0314a1c4-42f9-4980-aec5-81fa2b313bef",
   "metadata": {},
   "source": [
    "### Compute test prediction scores"
   ]
  },
  {
   "cell_type": "code",
   "execution_count": 11,
   "id": "8c446452-bc24-4e05-b9d3-be638414ae47",
   "metadata": {},
   "outputs": [
    {
     "name": "stdout",
     "output_type": "stream",
     "text": [
      "848/848 [==============================] - 0s 381us/step\n"
     ]
    },
    {
     "data": {
      "text/plain": [
       "array([[0.9149595 ],\n",
       "       [0.9983645 ],\n",
       "       [0.09878451],\n",
       "       ...,\n",
       "       [0.9222283 ],\n",
       "       [0.9454212 ],\n",
       "       [0.9863347 ]], dtype=float32)"
      ]
     },
     "execution_count": 11,
     "metadata": {},
     "output_type": "execute_result"
    }
   ],
   "source": [
    "val_predicts = etm_mlp.predict_test_set()\n",
    "val_predicts"
   ]
  },
  {
   "cell_type": "markdown",
   "id": "f3ff1e7d-0e18-4d98-86da-5da8de6c50a3",
   "metadata": {},
   "source": [
    "### Plot ROC and compute AUROC score"
   ]
  },
  {
   "cell_type": "code",
   "execution_count": 12,
   "id": "79f8376f-5c8e-452b-a077-66c044da3f95",
   "metadata": {},
   "outputs": [
    {
     "data": {
      "image/png": "[encoded data removed]",
      "text/plain": [
       "<Figure size 640x480 with 1 Axes>"
      ]
     },
     "metadata": {},
     "output_type": "display_data"
    }
   ],
   "source": [
    "auroc = etm_mlp.get_auroc()"
   ]
  },
  {
   "cell_type": "markdown",
   "id": "7091c097-0e91-4a8e-b7a0-0f4026256e63",
   "metadata": {},
   "source": [
    "##### Find optimal cutoff threshold "
   ]
  },
  {
   "cell_type": "code",
   "execution_count": 13,
   "id": "fd9d6a19-33c3-4a9a-a8c7-40f33223f1c5",
   "metadata": {},
   "outputs": [
    {
     "data": {
      "text/plain": [
       "0.8975343108177185"
      ]
     },
     "execution_count": 13,
     "metadata": {},
     "output_type": "execute_result"
    }
   ],
   "source": [
    "cutoff_threshold = etm_mlp.find_optimal_roc_cutoff()\n",
    "cutoff_threshold"
   ]
  },
  {
   "cell_type": "markdown",
   "id": "c53b2bd2-eb7f-49f0-acb2-e6f202cfa0b0",
   "metadata": {},
   "source": [
    "### Produce confusion matrix"
   ]
  },
  {
   "cell_type": "code",
   "execution_count": 14,
   "id": "65016799-adc0-4ca9-bd01-7bf29f4a4fb1",
   "metadata": {},
   "outputs": [
    {
     "name": "stdout",
     "output_type": "stream",
     "text": [
      "True Postive Rate: 0.906274312388449\n",
      "True Negative Rate: 0.9030049448459491\n",
      "False Postive Rate: 0.09699505515405096\n",
      "False Negative Rate: 0.09372568761155096\n"
     ]
    },
    {
     "data": {
      "image/png": "[encoded data removed]",
      "text/plain": [
       "<Figure size 640x480 with 2 Axes>"
      ]
     },
     "metadata": {},
     "output_type": "display_data"
    }
   ],
   "source": [
    "cm = etm_mlp.produce_confusion_matrix()"
   ]
  },
  {
   "cell_type": "code",
   "execution_count": 15,
   "id": "3cf34c76-974e-4fb0-bb3b-db2e91eb3565",
   "metadata": {},
   "outputs": [
    {
     "data": {
      "text/plain": [
       "array([[ 4748,   510],\n",
       "       [ 2048, 19803]])"
      ]
     },
     "execution_count": 15,
     "metadata": {},
     "output_type": "execute_result"
    }
   ],
   "source": [
    "cm"
   ]
  },
  {
   "cell_type": "code",
   "execution_count": null,
   "id": "b19c8bc9-b64b-483b-80f7-1dd4312493ce",
   "metadata": {},
   "outputs": [],
   "source": []
  }
 ],
 "metadata": {
  "kernelspec": {
   "display_name": "Python 3 (ipykernel)",
   "language": "python",
   "name": "python3"
  },
  "language_info": {
   "codemirror_mode": {
    "name": "ipython",
    "version": 3
   },
   "file_extension": ".py",
   "mimetype": "text/x-python",
   "name": "python",
   "nbconvert_exporter": "python",
   "pygments_lexer": "ipython3",
   "version": "3.9.12"
  }
 },
 "nbformat": 4,
 "nbformat_minor": 5
}
