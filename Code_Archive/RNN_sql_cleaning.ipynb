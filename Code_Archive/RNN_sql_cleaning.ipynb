{
 "cells": [
  {
   "cell_type": "code",
   "execution_count": 1,
   "id": "76f20c6b-bd01-491a-91fe-59b639e78a2b",
   "metadata": {},
   "outputs": [],
   "source": [
    "import os\n",
    "import pandas as pd\n",
    "from dotenv import load_dotenv\n",
    "from snowflake.snowpark import Session"
   ]
  },
  {
   "cell_type": "code",
   "execution_count": 3,
   "id": "26adcae9-9ed2-41a8-9e7c-d57706125bed",
   "metadata": {},
   "outputs": [
    {
     "data": {
      "text/plain": [
       "True"
      ]
     },
     "execution_count": 3,
     "metadata": {},
     "output_type": "execute_result"
    }
   ],
   "source": [
    "load_dotenv()"
   ]
  },
  {
   "cell_type": "code",
   "execution_count": 4,
   "id": "40b478ae-02f1-4c6b-9c5b-a723960f1f6b",
   "metadata": {},
   "outputs": [
    {
     "name": "stdout",
     "output_type": "stream",
     "text": [
      "hum.us-east-2.aws ericatuva RUP UVARND_WH CORE CLIENT\n"
     ]
    }
   ],
   "source": [
    "ACCOUNT = os.getenv('ACCOUNT')\n",
    "USER = os.getenv('SP_USER')\n",
    "PASSWORD = os.getenv('PASSWORD')\n",
    "ROLE = os.getenv('ROLE')\n",
    "WAREHOUSE = os.getenv('WAREHOUSE')\n",
    "DATABASE = os.getenv('DATABASE')\n",
    "SCHEMA = os.getenv('SCHEMA')\n",
    "\n",
    "print(ACCOUNT, USER, ROLE, WAREHOUSE, DATABASE, SCHEMA)"
   ]
  },
  {
   "cell_type": "code",
   "execution_count": 5,
   "id": "18ded93b-3069-4b8b-af98-c7d3a71e0cdf",
   "metadata": {},
   "outputs": [],
   "source": [
    "connection_parameters = {\n",
    "    'account': os.getenv('ACCOUNT'),\n",
    "    'user': USER,\n",
    "    'password': os.getenv('PASSWORD'),\n",
    "    'role': os.getenv('ROLE'),\n",
    "    'warehouse': os.getenv('WAREHOUSE'),\n",
    "    'database': os.getenv('DATABASE'),\n",
    "    'schema': os.getenv('SCHEMA')\n",
    "}"
   ]
  },
  {
   "cell_type": "code",
   "execution_count": 6,
   "id": "643fc3fb-819f-4ff4-8bee-359554a3856a",
   "metadata": {},
   "outputs": [],
   "source": [
    "test_session = Session.builder.configs(connection_parameters).create()"
   ]
  },
  {
   "cell_type": "markdown",
   "id": "d4032fe8-2c6e-4b1f-912b-a81a9a59ca0f",
   "metadata": {},
   "source": [
    "**Snowflake function documentation:**\n",
    "- [COALESCE](https://docs.snowflake.com/en/sql-reference/functions/coalesce.html)\n",
    "- [DATEDIFF](https://docs.snowflake.com/en/sql-reference/functions/datediff.html)\n",
    "- [LAG](https://docs.snowflake.com/en/sql-reference/functions/lag.html) / [LEAD](https://docs.snowflake.com/en/sql-reference/functions/lead.html)\n",
    "- [ROW_NUMBER](https://docs.snowflake.com/en/sql-reference/functions/row_number.html)\n",
    "- [LISTAGG](https://docs.snowflake.com/en/sql-reference/functions/listagg.html) / [Additional LISTAGG](https://stephenallwright.com/snowflake-listagg/)"
   ]
  },
  {
   "cell_type": "code",
   "execution_count": 7,
   "id": "e0cab62f-ae7c-432e-89aa-72aadc3cd164",
   "metadata": {},
   "outputs": [],
   "source": [
    "events_query = \"\"\"\n",
    "WITH events_summary AS (\n",
    "    SELECT\n",
    "        visitor_id\n",
    "        , id\n",
    "        , event\n",
    "        -- use date if created is null\n",
    "        , COALESCE(created, date) AS created\n",
    "    FROM event\n",
    "    WHERE DATE_TRUNC('year', day) = DATE('2022-01-01')\n",
    "    ORDER BY 1, 3\n",
    ")\n",
    ", visitor_events AS (\n",
    "    SELECT\n",
    "        visitor_id\n",
    "        , COUNT(DISTINCT id) AS total_events\n",
    "    FROM events_summary\n",
    "    GROUP BY 1\n",
    ")\n",
    ", events_ranked AS (\n",
    "    SELECT \n",
    "        visitor_id\n",
    "        , event\n",
    "        , created\n",
    "        -- ranking of event per visitor based on created time\n",
    "        , ROW_NUMBER() OVER (PARTITION BY visitor_id ORDER BY created) AS event_rank\n",
    "    FROM events_summary\n",
    ")\n",
    ", events_with_diff AS (\n",
    "    SELECT \n",
    "        *\n",
    "        -- subtract created of next event in the list per each visitor\n",
    "        , DATEDIFF('second', created, LEAD(created) OVER(PARTITION BY visitor_id ORDER BY event_rank)) AS seconds_to_next_event\n",
    "    FROM events_ranked\n",
    "    ORDER BY visitor_id, event_rank\n",
    ")\n",
    "\n",
    "SELECT \n",
    "    e.visitor_id\n",
    "    , v.total_events\n",
    "    -- change seconds_to_next_event to 0 if null so that it is included in the listagg\n",
    "    , LISTAGG(CONCAT('(', e.event, ',', e.created, ',', COALESCE(e.seconds_to_next_event, 0), ',', e.event_rank, ')'), ';') \n",
    "    WITHIN GROUP (ORDER BY event_rank) AS events\n",
    "FROM events_with_diff e\n",
    "JOIN visitor_events v ON e.visitor_id = v.visitor_id\n",
    "GROUP BY e.visitor_id, v.total_events\n",
    "ORDER BY e.visitor_id\n",
    "\"\"\""
   ]
  },
  {
   "cell_type": "code",
   "execution_count": 8,
   "id": "53292488-0b4b-4f19-ba4d-40165de664d0",
   "metadata": {},
   "outputs": [
    {
     "name": "stdout",
     "output_type": "stream",
     "text": [
      "querying...\n",
      "query done\n",
      "session closed\n"
     ]
    }
   ],
   "source": [
    "print('querying...')\n",
    "query_results = test_session.sql(events_query).collect()\n",
    "print('query done')\n",
    "test_session.close()\n",
    "print('session closed')"
   ]
  },
  {
   "cell_type": "code",
   "execution_count": 10,
   "id": "8617ddcf-5e3f-41ed-a162-d169b42dc978",
   "metadata": {},
   "outputs": [],
   "source": [
    "# convert to pandas df\n",
    "query_json = list(map(lambda x: x.as_dict(), query_results))\n",
    "query_df = pd.DataFrame(query_json)\n",
    "query_df.to_csv('rnn_clean_data.csv', index = 0)\n",
    "# query_df = pd.read_csv('rnn_clean_data.csv')"
   ]
  },
  {
   "cell_type": "code",
   "execution_count": 11,
   "id": "484842cd-842f-4e5e-a9d2-f564e287f5f1",
   "metadata": {},
   "outputs": [
    {
     "data": {
      "text/html": [
       "<div>\n",
       "<style scoped>\n",
       "    .dataframe tbody tr th:only-of-type {\n",
       "        vertical-align: middle;\n",
       "    }\n",
       "\n",
       "    .dataframe tbody tr th {\n",
       "        vertical-align: top;\n",
       "    }\n",
       "\n",
       "    .dataframe thead th {\n",
       "        text-align: right;\n",
       "    }\n",
       "</style>\n",
       "<table border=\"1\" class=\"dataframe\">\n",
       "  <thead>\n",
       "    <tr style=\"text-align: right;\">\n",
       "      <th></th>\n",
       "      <th>VISITOR_ID</th>\n",
       "      <th>TOTAL_EVENTS</th>\n",
       "      <th>EVENTS</th>\n",
       "    </tr>\n",
       "  </thead>\n",
       "  <tbody>\n",
       "    <tr>\n",
       "      <th>0</th>\n",
       "      <td>00000404-5bf6-4798-89d8-1592758d661e</td>\n",
       "      <td>3</td>\n",
       "      <td>(pageview,2022-05-11 00:00:00.000,0,1);(pagevi...</td>\n",
       "    </tr>\n",
       "    <tr>\n",
       "      <th>1</th>\n",
       "      <td>000008b9-45d5-4ed2-8cfe-2463853d5640</td>\n",
       "      <td>4</td>\n",
       "      <td>(pageview,2022-12-28 03:01:23.498,5,1);(post-r...</td>\n",
       "    </tr>\n",
       "    <tr>\n",
       "      <th>2</th>\n",
       "      <td>00001624-b501-4b87-8cd6-a90760e47df8</td>\n",
       "      <td>4</td>\n",
       "      <td>(pageview,2022-09-02 10:22:19.588,5,1);(post-r...</td>\n",
       "    </tr>\n",
       "    <tr>\n",
       "      <th>3</th>\n",
       "      <td>00001e6f-ce60-4bf4-b356-4ab63181ccc3</td>\n",
       "      <td>4</td>\n",
       "      <td>(pageview,2022-10-11 06:36:42.247,6,1);(post-r...</td>\n",
       "    </tr>\n",
       "    <tr>\n",
       "      <th>4</th>\n",
       "      <td>00002124-5ca5-4a6f-9fd9-839062c866b3</td>\n",
       "      <td>8</td>\n",
       "      <td>(pageview,2022-10-26 10:04:59.893,5,1);(post-r...</td>\n",
       "    </tr>\n",
       "    <tr>\n",
       "      <th>...</th>\n",
       "      <td>...</td>\n",
       "      <td>...</td>\n",
       "      <td>...</td>\n",
       "    </tr>\n",
       "    <tr>\n",
       "      <th>1894585</th>\n",
       "      <td>ffffd7ea-c335-412e-a6f9-1676e2533cd5</td>\n",
       "      <td>12</td>\n",
       "      <td>(pageview,2022-09-09 20:15:09.686,5,1);(post-r...</td>\n",
       "    </tr>\n",
       "    <tr>\n",
       "      <th>1894586</th>\n",
       "      <td>ffffd8d1-e23e-49d4-9a1d-f24244edaeea</td>\n",
       "      <td>4</td>\n",
       "      <td>(pageview,2022-11-16 06:13:44.099,5,1);(post-r...</td>\n",
       "    </tr>\n",
       "    <tr>\n",
       "      <th>1894587</th>\n",
       "      <td>ffffe48e-5fde-4163-8e92-5d0d95bbc91a</td>\n",
       "      <td>1</td>\n",
       "      <td>(pageview,2022-08-20 23:55:37.560,0,1)</td>\n",
       "    </tr>\n",
       "    <tr>\n",
       "      <th>1894588</th>\n",
       "      <td>ffffe76a-5434-4064-9cc3-274504915aeb</td>\n",
       "      <td>5</td>\n",
       "      <td>(pageview,2022-07-21 09:53:01.046,4,1);(post-r...</td>\n",
       "    </tr>\n",
       "    <tr>\n",
       "      <th>1894589</th>\n",
       "      <td>ffffe97b-b957-436f-b4b2-b8c3a94385cf</td>\n",
       "      <td>1</td>\n",
       "      <td>(pageview,2022-06-29 06:23:31.338,0,1)</td>\n",
       "    </tr>\n",
       "  </tbody>\n",
       "</table>\n",
       "<p>1894590 rows × 3 columns</p>\n",
       "</div>"
      ],
      "text/plain": [
       "                                   VISITOR_ID  TOTAL_EVENTS  \\\n",
       "0        00000404-5bf6-4798-89d8-1592758d661e             3   \n",
       "1        000008b9-45d5-4ed2-8cfe-2463853d5640             4   \n",
       "2        00001624-b501-4b87-8cd6-a90760e47df8             4   \n",
       "3        00001e6f-ce60-4bf4-b356-4ab63181ccc3             4   \n",
       "4        00002124-5ca5-4a6f-9fd9-839062c866b3             8   \n",
       "...                                       ...           ...   \n",
       "1894585  ffffd7ea-c335-412e-a6f9-1676e2533cd5            12   \n",
       "1894586  ffffd8d1-e23e-49d4-9a1d-f24244edaeea             4   \n",
       "1894587  ffffe48e-5fde-4163-8e92-5d0d95bbc91a             1   \n",
       "1894588  ffffe76a-5434-4064-9cc3-274504915aeb             5   \n",
       "1894589  ffffe97b-b957-436f-b4b2-b8c3a94385cf             1   \n",
       "\n",
       "                                                    EVENTS  \n",
       "0        (pageview,2022-05-11 00:00:00.000,0,1);(pagevi...  \n",
       "1        (pageview,2022-12-28 03:01:23.498,5,1);(post-r...  \n",
       "2        (pageview,2022-09-02 10:22:19.588,5,1);(post-r...  \n",
       "3        (pageview,2022-10-11 06:36:42.247,6,1);(post-r...  \n",
       "4        (pageview,2022-10-26 10:04:59.893,5,1);(post-r...  \n",
       "...                                                    ...  \n",
       "1894585  (pageview,2022-09-09 20:15:09.686,5,1);(post-r...  \n",
       "1894586  (pageview,2022-11-16 06:13:44.099,5,1);(post-r...  \n",
       "1894587             (pageview,2022-08-20 23:55:37.560,0,1)  \n",
       "1894588  (pageview,2022-07-21 09:53:01.046,4,1);(post-r...  \n",
       "1894589             (pageview,2022-06-29 06:23:31.338,0,1)  \n",
       "\n",
       "[1894590 rows x 3 columns]"
      ]
     },
     "execution_count": 11,
     "metadata": {},
     "output_type": "execute_result"
    }
   ],
   "source": [
    "query_df"
   ]
  },
  {
   "cell_type": "markdown",
   "id": "7c8ddede-a640-45dd-8036-b9911f4791e1",
   "metadata": {},
   "source": [
    "**EVENTS** column format:\n",
    "\n",
    "(*event type*, *created time*, *seconds until next event*, *event rank based on time*)\n",
    "\n",
    "Each event is split by a *\";\"* delimeter"
   ]
  },
  {
   "cell_type": "code",
   "execution_count": 17,
   "id": "4a39d8d2-be60-477a-ad74-3d87c67800eb",
   "metadata": {},
   "outputs": [
    {
     "data": {
      "text/html": [
       "<div>\n",
       "<style scoped>\n",
       "    .dataframe tbody tr th:only-of-type {\n",
       "        vertical-align: middle;\n",
       "    }\n",
       "\n",
       "    .dataframe tbody tr th {\n",
       "        vertical-align: top;\n",
       "    }\n",
       "\n",
       "    .dataframe thead th {\n",
       "        text-align: right;\n",
       "    }\n",
       "</style>\n",
       "<table border=\"1\" class=\"dataframe\">\n",
       "  <thead>\n",
       "    <tr style=\"text-align: right;\">\n",
       "      <th></th>\n",
       "      <th>VISITOR_ID</th>\n",
       "      <th>TOTAL_EVENTS</th>\n",
       "      <th>EVENTS</th>\n",
       "    </tr>\n",
       "  </thead>\n",
       "  <tbody>\n",
       "    <tr>\n",
       "      <th>69</th>\n",
       "      <td>00029129-ebca-4282-b970-92cb271690e2</td>\n",
       "      <td>30.0</td>\n",
       "      <td>(post-read-start,2022-04-06 00:00:00.000,0,1);...</td>\n",
       "    </tr>\n",
       "    <tr>\n",
       "      <th>119</th>\n",
       "      <td>0004ccae-284b-4146-a697-b2b172365819</td>\n",
       "      <td>48.0</td>\n",
       "      <td>(pageview,2022-10-26 00:13:32.781,6,1);(post-r...</td>\n",
       "    </tr>\n",
       "    <tr>\n",
       "      <th>144</th>\n",
       "      <td>0005b34e-f539-4a7e-b399-abacd9f50460</td>\n",
       "      <td>36.0</td>\n",
       "      <td>(pageview,2022-08-04 20:46:27.645,5,1);(post-r...</td>\n",
       "    </tr>\n",
       "    <tr>\n",
       "      <th>181</th>\n",
       "      <td>0006bd67-88ad-4dcd-aff6-c6f75f7e982f</td>\n",
       "      <td>22.0</td>\n",
       "      <td>(pageview,2022-10-19 18:47:24.309,5,1);(post-r...</td>\n",
       "    </tr>\n",
       "    <tr>\n",
       "      <th>254</th>\n",
       "      <td>000908be-b690-43ce-8551-8dbff8c0c36b</td>\n",
       "      <td>22.0</td>\n",
       "      <td>(pageview,2022-09-12 08:01:45.222,17,1);(pagev...</td>\n",
       "    </tr>\n",
       "    <tr>\n",
       "      <th>...</th>\n",
       "      <td>...</td>\n",
       "      <td>...</td>\n",
       "      <td>...</td>\n",
       "    </tr>\n",
       "    <tr>\n",
       "      <th>1894468</th>\n",
       "      <td>fffb6b28-6f5e-4eba-b3c3-01f0566bc569</td>\n",
       "      <td>33.0</td>\n",
       "      <td>(pageview,2022-09-27 03:19:39.283,5,1);(post-r...</td>\n",
       "    </tr>\n",
       "    <tr>\n",
       "      <th>1894471</th>\n",
       "      <td>fffb8a41-3ef6-4191-9680-f8cff8db4733</td>\n",
       "      <td>20.0</td>\n",
       "      <td>(pageview,2022-10-21 06:52:53.263,5,1);(post-r...</td>\n",
       "    </tr>\n",
       "    <tr>\n",
       "      <th>1894476</th>\n",
       "      <td>fffba2e7-9038-482e-bdf2-ee4bcf4d443f</td>\n",
       "      <td>22.0</td>\n",
       "      <td>(pageview,2022-12-02 00:26:49.084,5,1);(post-r...</td>\n",
       "    </tr>\n",
       "    <tr>\n",
       "      <th>1894520</th>\n",
       "      <td>fffd1135-fb73-4ba5-87e9-6cec137fac04</td>\n",
       "      <td>33.0</td>\n",
       "      <td>(pageview,2022-09-25 09:21:10.723,5,1);(post-r...</td>\n",
       "    </tr>\n",
       "    <tr>\n",
       "      <th>1894549</th>\n",
       "      <td>fffe5d1a-aadc-464b-a468-35e057bc11e1</td>\n",
       "      <td>22.0</td>\n",
       "      <td>(pageview,2022-10-07 20:45:23.202,26,1);(pagev...</td>\n",
       "    </tr>\n",
       "  </tbody>\n",
       "</table>\n",
       "<p>53564 rows × 3 columns</p>\n",
       "</div>"
      ],
      "text/plain": [
       "                                   VISITOR_ID  TOTAL_EVENTS  \\\n",
       "69       00029129-ebca-4282-b970-92cb271690e2          30.0   \n",
       "119      0004ccae-284b-4146-a697-b2b172365819          48.0   \n",
       "144      0005b34e-f539-4a7e-b399-abacd9f50460          36.0   \n",
       "181      0006bd67-88ad-4dcd-aff6-c6f75f7e982f          22.0   \n",
       "254      000908be-b690-43ce-8551-8dbff8c0c36b          22.0   \n",
       "...                                       ...           ...   \n",
       "1894468  fffb6b28-6f5e-4eba-b3c3-01f0566bc569          33.0   \n",
       "1894471  fffb8a41-3ef6-4191-9680-f8cff8db4733          20.0   \n",
       "1894476  fffba2e7-9038-482e-bdf2-ee4bcf4d443f          22.0   \n",
       "1894520  fffd1135-fb73-4ba5-87e9-6cec137fac04          33.0   \n",
       "1894549  fffe5d1a-aadc-464b-a468-35e057bc11e1          22.0   \n",
       "\n",
       "                                                    EVENTS  \n",
       "69       (post-read-start,2022-04-06 00:00:00.000,0,1);...  \n",
       "119      (pageview,2022-10-26 00:13:32.781,6,1);(post-r...  \n",
       "144      (pageview,2022-08-04 20:46:27.645,5,1);(post-r...  \n",
       "181      (pageview,2022-10-19 18:47:24.309,5,1);(post-r...  \n",
       "254      (pageview,2022-09-12 08:01:45.222,17,1);(pagev...  \n",
       "...                                                    ...  \n",
       "1894468  (pageview,2022-09-27 03:19:39.283,5,1);(post-r...  \n",
       "1894471  (pageview,2022-10-21 06:52:53.263,5,1);(post-r...  \n",
       "1894476  (pageview,2022-12-02 00:26:49.084,5,1);(post-r...  \n",
       "1894520  (pageview,2022-09-25 09:21:10.723,5,1);(post-r...  \n",
       "1894549  (pageview,2022-10-07 20:45:23.202,26,1);(pagev...  \n",
       "\n",
       "[53564 rows x 3 columns]"
      ]
     },
     "execution_count": 17,
     "metadata": {},
     "output_type": "execute_result"
    }
   ],
   "source": [
    "test_data = query_df\\\n",
    "    .where(lambda x: (x.TOTAL_EVENTS >= 20) & (x.TOTAL_EVENTS <= 50)).dropna()\n",
    "test_data"
   ]
  },
  {
   "cell_type": "markdown",
   "id": "69006601-9f75-4640-98af-d7b6d70e0227",
   "metadata": {},
   "source": [
    "53k users with events between 20 and 50 for 2022"
   ]
  },
  {
   "cell_type": "code",
   "execution_count": null,
   "id": "8ed02e9e-6571-4201-b5d5-061163e79869",
   "metadata": {},
   "outputs": [],
   "source": []
  }
 ],
 "metadata": {
  "kernelspec": {
   "display_name": "Python 3 (ipykernel)",
   "language": "python",
   "name": "python3"
  },
  "language_info": {
   "codemirror_mode": {
    "name": "ipython",
    "version": 3
   },
   "file_extension": ".py",
   "mimetype": "text/x-python",
   "name": "python",
   "nbconvert_exporter": "python",
   "pygments_lexer": "ipython3",
   "version": "3.8.13"
  }
 },
 "nbformat": 4,
 "nbformat_minor": 5
}
