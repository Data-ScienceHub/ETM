{
 "cells": [
  {
   "cell_type": "code",
   "execution_count": 1,
   "id": "1619afe2-618f-4b40-8e89-16df7563c237",
   "metadata": {},
   "outputs": [],
   "source": [
    "import os\n",
    "import pandas as pd\n",
    "from dotenv import load_dotenv\n",
    "from snowflake.snowpark import Session"
   ]
  },
  {
   "cell_type": "code",
   "execution_count": 2,
   "id": "a9165fa8-91ce-4e34-affc-eccd6e65b2f7",
   "metadata": {},
   "outputs": [
    {
     "data": {
      "text/plain": [
       "True"
      ]
     },
     "execution_count": 2,
     "metadata": {},
     "output_type": "execute_result"
    }
   ],
   "source": [
    "load_dotenv()"
   ]
  },
  {
   "cell_type": "code",
   "execution_count": 3,
   "id": "9839aa6a-083d-4f75-86f5-f151e6de5e10",
   "metadata": {},
   "outputs": [
    {
     "name": "stdout",
     "output_type": "stream",
     "text": [
      "hum.us-east-2.aws ericatuva UVARND UVARND_WH CORE CLIENT\n"
     ]
    }
   ],
   "source": [
    "ACCOUNT = os.getenv('ACCOUNT')\n",
    "USER = os.getenv('SP_USER')\n",
    "PASSWORD = os.getenv('PASSWORD')\n",
    "ROLE = os.getenv('ROLE')\n",
    "WAREHOUSE = os.getenv('WAREHOUSE')\n",
    "DATABASE = os.getenv('DATABASE')\n",
    "SCHEMA = os.getenv('SCHEMA')\n",
    "\n",
    "print(ACCOUNT, USER, ROLE, WAREHOUSE, DATABASE, SCHEMA)"
   ]
  },
  {
   "cell_type": "code",
   "execution_count": 4,
   "id": "61393c32-89fd-405b-9d71-24ec3c72f74a",
   "metadata": {},
   "outputs": [],
   "source": [
    "connection_parameters = {\n",
    "    'account': os.getenv('ACCOUNT'),\n",
    "    'user': USER,\n",
    "    'password': os.getenv('PASSWORD'),\n",
    "    'role': os.getenv('ROLE'),\n",
    "    'warehouse': os.getenv('WAREHOUSE'),\n",
    "    'database': os.getenv('DATABASE'),\n",
    "    'schema': os.getenv('SCHEMA')\n",
    "}"
   ]
  },
  {
   "cell_type": "code",
   "execution_count": 5,
   "id": "6ed7560d-2b6b-4c70-a075-abe0bfd922d6",
   "metadata": {},
   "outputs": [],
   "source": [
    "test_session = Session.builder.configs(connection_parameters).create()"
   ]
  },
  {
   "cell_type": "code",
   "execution_count": 6,
   "id": "e13a4f42-6bb8-4a30-a276-3a3f456faf45",
   "metadata": {},
   "outputs": [],
   "source": [
    "events_query = \"\"\"\n",
    "SELECT \n",
    "    e.visitor_id\n",
    "    , COUNT(DISTINCT e.id) AS events\n",
    "    , COUNT(DISTINCT CASE WHEN e.event = 'cite' THEN e.id END) AS cite\n",
    "    , COUNT(DISTINCT CASE WHEN e.event = 'pageview' THEN e.id END) AS page_view\n",
    "    , COUNT(DISTINCT CASE WHEN e.event = 'pdf-click' THEN e.id END) AS pdf_click\n",
    "    , COUNT(DISTINCT CASE WHEN e.event = 'post-read-start' THEN e.id END) AS post_read_start\n",
    "    , COUNT(DISTINCT CASE WHEN e.event = 'post-read-mid' THEN e.id END) AS post_read_mid\n",
    "    , COUNT(DISTINCT CASE WHEN e.event = 'post-read-end' THEN e.id END) AS post_read_end\n",
    "FROM event e\n",
    "WHERE DATE_TRUNC('year', e.day) = DATE('2022-01-01')\n",
    "AND e.visitor_id IS NOT NULL\n",
    "GROUP BY 1\n",
    "ORDER BY 1\n",
    "\"\"\""
   ]
  },
  {
   "cell_type": "code",
   "execution_count": 7,
   "id": "0c04b11a-c237-4440-8a67-bb75853d95ec",
   "metadata": {},
   "outputs": [
    {
     "name": "stdout",
     "output_type": "stream",
     "text": [
      "querying...\n",
      "query done\n",
      "session closed\n"
     ]
    }
   ],
   "source": [
    "print('querying...')\n",
    "query_results = test_session.sql(events_query).collect()\n",
    "print('query done')\n",
    "test_session.close()\n",
    "print('session closed')"
   ]
  },
  {
   "cell_type": "code",
   "execution_count": 8,
   "id": "2be7f403-0ba9-4345-b83f-bf30e21842f8",
   "metadata": {},
   "outputs": [],
   "source": [
    "# convert to pandas df\n",
    "query_json = list(map(lambda x: x.as_dict(), query_results))\n",
    "query_df = pd.DataFrame(query_json)\n",
    "query_df.to_csv('hist_data.csv', index = 0)\n",
    "# query_df = pd.read_csv('events_data.csv')"
   ]
  },
  {
   "cell_type": "code",
   "execution_count": 2,
   "id": "89316ef0-ad48-46ff-91f9-71b4d0f66a46",
   "metadata": {},
   "outputs": [],
   "source": [
    "query_df = pd.read_csv('hist_data.csv')"
   ]
  },
  {
   "cell_type": "code",
   "execution_count": 3,
   "id": "27a8663a-2222-43c6-87f2-acbff1648b56",
   "metadata": {},
   "outputs": [
    {
     "data": {
      "text/html": [
       "<div>\n",
       "<style scoped>\n",
       "    .dataframe tbody tr th:only-of-type {\n",
       "        vertical-align: middle;\n",
       "    }\n",
       "\n",
       "    .dataframe tbody tr th {\n",
       "        vertical-align: top;\n",
       "    }\n",
       "\n",
       "    .dataframe thead th {\n",
       "        text-align: right;\n",
       "    }\n",
       "</style>\n",
       "<table border=\"1\" class=\"dataframe\">\n",
       "  <thead>\n",
       "    <tr style=\"text-align: right;\">\n",
       "      <th></th>\n",
       "      <th>VISITOR_ID</th>\n",
       "      <th>EVENTS</th>\n",
       "      <th>CITE</th>\n",
       "      <th>PAGE_VIEW</th>\n",
       "      <th>PDF_CLICK</th>\n",
       "      <th>POST_READ_START</th>\n",
       "      <th>POST_READ_MID</th>\n",
       "      <th>POST_READ_END</th>\n",
       "    </tr>\n",
       "  </thead>\n",
       "  <tbody>\n",
       "    <tr>\n",
       "      <th>0</th>\n",
       "      <td>00000404-5bf6-4798-89d8-1592758d661e</td>\n",
       "      <td>3</td>\n",
       "      <td>0</td>\n",
       "      <td>3</td>\n",
       "      <td>0</td>\n",
       "      <td>0</td>\n",
       "      <td>0</td>\n",
       "      <td>0</td>\n",
       "    </tr>\n",
       "    <tr>\n",
       "      <th>1</th>\n",
       "      <td>000008b9-45d5-4ed2-8cfe-2463853d5640</td>\n",
       "      <td>4</td>\n",
       "      <td>0</td>\n",
       "      <td>1</td>\n",
       "      <td>0</td>\n",
       "      <td>1</td>\n",
       "      <td>1</td>\n",
       "      <td>1</td>\n",
       "    </tr>\n",
       "    <tr>\n",
       "      <th>2</th>\n",
       "      <td>00001624-b501-4b87-8cd6-a90760e47df8</td>\n",
       "      <td>4</td>\n",
       "      <td>0</td>\n",
       "      <td>1</td>\n",
       "      <td>0</td>\n",
       "      <td>1</td>\n",
       "      <td>1</td>\n",
       "      <td>1</td>\n",
       "    </tr>\n",
       "    <tr>\n",
       "      <th>3</th>\n",
       "      <td>00001e6f-ce60-4bf4-b356-4ab63181ccc3</td>\n",
       "      <td>4</td>\n",
       "      <td>0</td>\n",
       "      <td>1</td>\n",
       "      <td>0</td>\n",
       "      <td>1</td>\n",
       "      <td>1</td>\n",
       "      <td>1</td>\n",
       "    </tr>\n",
       "    <tr>\n",
       "      <th>4</th>\n",
       "      <td>00002124-5ca5-4a6f-9fd9-839062c866b3</td>\n",
       "      <td>8</td>\n",
       "      <td>0</td>\n",
       "      <td>2</td>\n",
       "      <td>0</td>\n",
       "      <td>2</td>\n",
       "      <td>2</td>\n",
       "      <td>2</td>\n",
       "    </tr>\n",
       "    <tr>\n",
       "      <th>...</th>\n",
       "      <td>...</td>\n",
       "      <td>...</td>\n",
       "      <td>...</td>\n",
       "      <td>...</td>\n",
       "      <td>...</td>\n",
       "      <td>...</td>\n",
       "      <td>...</td>\n",
       "      <td>...</td>\n",
       "    </tr>\n",
       "    <tr>\n",
       "      <th>1894585</th>\n",
       "      <td>ffffd7ea-c335-412e-a6f9-1676e2533cd5</td>\n",
       "      <td>12</td>\n",
       "      <td>0</td>\n",
       "      <td>3</td>\n",
       "      <td>0</td>\n",
       "      <td>3</td>\n",
       "      <td>3</td>\n",
       "      <td>3</td>\n",
       "    </tr>\n",
       "    <tr>\n",
       "      <th>1894586</th>\n",
       "      <td>ffffd8d1-e23e-49d4-9a1d-f24244edaeea</td>\n",
       "      <td>4</td>\n",
       "      <td>0</td>\n",
       "      <td>1</td>\n",
       "      <td>0</td>\n",
       "      <td>1</td>\n",
       "      <td>1</td>\n",
       "      <td>1</td>\n",
       "    </tr>\n",
       "    <tr>\n",
       "      <th>1894587</th>\n",
       "      <td>ffffe48e-5fde-4163-8e92-5d0d95bbc91a</td>\n",
       "      <td>1</td>\n",
       "      <td>0</td>\n",
       "      <td>1</td>\n",
       "      <td>0</td>\n",
       "      <td>0</td>\n",
       "      <td>0</td>\n",
       "      <td>0</td>\n",
       "    </tr>\n",
       "    <tr>\n",
       "      <th>1894588</th>\n",
       "      <td>ffffe76a-5434-4064-9cc3-274504915aeb</td>\n",
       "      <td>5</td>\n",
       "      <td>0</td>\n",
       "      <td>2</td>\n",
       "      <td>0</td>\n",
       "      <td>1</td>\n",
       "      <td>1</td>\n",
       "      <td>1</td>\n",
       "    </tr>\n",
       "    <tr>\n",
       "      <th>1894589</th>\n",
       "      <td>ffffe97b-b957-436f-b4b2-b8c3a94385cf</td>\n",
       "      <td>1</td>\n",
       "      <td>0</td>\n",
       "      <td>1</td>\n",
       "      <td>0</td>\n",
       "      <td>0</td>\n",
       "      <td>0</td>\n",
       "      <td>0</td>\n",
       "    </tr>\n",
       "  </tbody>\n",
       "</table>\n",
       "<p>1894590 rows × 8 columns</p>\n",
       "</div>"
      ],
      "text/plain": [
       "                                   VISITOR_ID  EVENTS  CITE  PAGE_VIEW  \\\n",
       "0        00000404-5bf6-4798-89d8-1592758d661e       3     0          3   \n",
       "1        000008b9-45d5-4ed2-8cfe-2463853d5640       4     0          1   \n",
       "2        00001624-b501-4b87-8cd6-a90760e47df8       4     0          1   \n",
       "3        00001e6f-ce60-4bf4-b356-4ab63181ccc3       4     0          1   \n",
       "4        00002124-5ca5-4a6f-9fd9-839062c866b3       8     0          2   \n",
       "...                                       ...     ...   ...        ...   \n",
       "1894585  ffffd7ea-c335-412e-a6f9-1676e2533cd5      12     0          3   \n",
       "1894586  ffffd8d1-e23e-49d4-9a1d-f24244edaeea       4     0          1   \n",
       "1894587  ffffe48e-5fde-4163-8e92-5d0d95bbc91a       1     0          1   \n",
       "1894588  ffffe76a-5434-4064-9cc3-274504915aeb       5     0          2   \n",
       "1894589  ffffe97b-b957-436f-b4b2-b8c3a94385cf       1     0          1   \n",
       "\n",
       "         PDF_CLICK  POST_READ_START  POST_READ_MID  POST_READ_END  \n",
       "0                0                0              0              0  \n",
       "1                0                1              1              1  \n",
       "2                0                1              1              1  \n",
       "3                0                1              1              1  \n",
       "4                0                2              2              2  \n",
       "...            ...              ...            ...            ...  \n",
       "1894585          0                3              3              3  \n",
       "1894586          0                1              1              1  \n",
       "1894587          0                0              0              0  \n",
       "1894588          0                1              1              1  \n",
       "1894589          0                0              0              0  \n",
       "\n",
       "[1894590 rows x 8 columns]"
      ]
     },
     "execution_count": 3,
     "metadata": {},
     "output_type": "execute_result"
    }
   ],
   "source": [
    "query_df"
   ]
  },
  {
   "cell_type": "code",
   "execution_count": 5,
   "id": "97f06f24-81f1-43bb-8571-51f21bbfd3a2",
   "metadata": {},
   "outputs": [
    {
     "data": {
      "text/html": [
       "<div>\n",
       "<style scoped>\n",
       "    .dataframe tbody tr th:only-of-type {\n",
       "        vertical-align: middle;\n",
       "    }\n",
       "\n",
       "    .dataframe tbody tr th {\n",
       "        vertical-align: top;\n",
       "    }\n",
       "\n",
       "    .dataframe thead th {\n",
       "        text-align: right;\n",
       "    }\n",
       "</style>\n",
       "<table border=\"1\" class=\"dataframe\">\n",
       "  <thead>\n",
       "    <tr style=\"text-align: right;\">\n",
       "      <th></th>\n",
       "      <th>EVENTS</th>\n",
       "      <th>CITE</th>\n",
       "      <th>PAGE_VIEW</th>\n",
       "      <th>PDF_CLICK</th>\n",
       "      <th>POST_READ_START</th>\n",
       "      <th>POST_READ_MID</th>\n",
       "      <th>POST_READ_END</th>\n",
       "    </tr>\n",
       "  </thead>\n",
       "  <tbody>\n",
       "    <tr>\n",
       "      <th>count</th>\n",
       "      <td>1.894590e+06</td>\n",
       "      <td>1.894590e+06</td>\n",
       "      <td>1.894590e+06</td>\n",
       "      <td>1.894590e+06</td>\n",
       "      <td>1.894590e+06</td>\n",
       "      <td>1.894590e+06</td>\n",
       "      <td>1.894590e+06</td>\n",
       "    </tr>\n",
       "    <tr>\n",
       "      <th>mean</th>\n",
       "      <td>5.736532e+00</td>\n",
       "      <td>5.014277e-05</td>\n",
       "      <td>2.628142e+00</td>\n",
       "      <td>9.358225e-04</td>\n",
       "      <td>1.093936e+00</td>\n",
       "      <td>1.041909e+00</td>\n",
       "      <td>9.715585e-01</td>\n",
       "    </tr>\n",
       "    <tr>\n",
       "      <th>std</th>\n",
       "      <td>1.305868e+02</td>\n",
       "      <td>8.503451e-03</td>\n",
       "      <td>1.214370e+02</td>\n",
       "      <td>3.510893e-02</td>\n",
       "      <td>1.010269e+01</td>\n",
       "      <td>9.743132e+00</td>\n",
       "      <td>8.422191e+00</td>\n",
       "    </tr>\n",
       "    <tr>\n",
       "      <th>min</th>\n",
       "      <td>1.000000e+00</td>\n",
       "      <td>0.000000e+00</td>\n",
       "      <td>0.000000e+00</td>\n",
       "      <td>0.000000e+00</td>\n",
       "      <td>0.000000e+00</td>\n",
       "      <td>0.000000e+00</td>\n",
       "      <td>0.000000e+00</td>\n",
       "    </tr>\n",
       "    <tr>\n",
       "      <th>25%</th>\n",
       "      <td>1.000000e+00</td>\n",
       "      <td>0.000000e+00</td>\n",
       "      <td>1.000000e+00</td>\n",
       "      <td>0.000000e+00</td>\n",
       "      <td>0.000000e+00</td>\n",
       "      <td>0.000000e+00</td>\n",
       "      <td>0.000000e+00</td>\n",
       "    </tr>\n",
       "    <tr>\n",
       "      <th>50%</th>\n",
       "      <td>4.000000e+00</td>\n",
       "      <td>0.000000e+00</td>\n",
       "      <td>1.000000e+00</td>\n",
       "      <td>0.000000e+00</td>\n",
       "      <td>1.000000e+00</td>\n",
       "      <td>1.000000e+00</td>\n",
       "      <td>1.000000e+00</td>\n",
       "    </tr>\n",
       "    <tr>\n",
       "      <th>75%</th>\n",
       "      <td>4.000000e+00</td>\n",
       "      <td>0.000000e+00</td>\n",
       "      <td>2.000000e+00</td>\n",
       "      <td>0.000000e+00</td>\n",
       "      <td>1.000000e+00</td>\n",
       "      <td>1.000000e+00</td>\n",
       "      <td>1.000000e+00</td>\n",
       "    </tr>\n",
       "    <tr>\n",
       "      <th>max</th>\n",
       "      <td>6.795700e+04</td>\n",
       "      <td>6.000000e+00</td>\n",
       "      <td>6.641900e+04</td>\n",
       "      <td>9.000000e+00</td>\n",
       "      <td>4.689000e+03</td>\n",
       "      <td>4.564000e+03</td>\n",
       "      <td>4.053000e+03</td>\n",
       "    </tr>\n",
       "  </tbody>\n",
       "</table>\n",
       "</div>"
      ],
      "text/plain": [
       "             EVENTS          CITE     PAGE_VIEW     PDF_CLICK  \\\n",
       "count  1.894590e+06  1.894590e+06  1.894590e+06  1.894590e+06   \n",
       "mean   5.736532e+00  5.014277e-05  2.628142e+00  9.358225e-04   \n",
       "std    1.305868e+02  8.503451e-03  1.214370e+02  3.510893e-02   \n",
       "min    1.000000e+00  0.000000e+00  0.000000e+00  0.000000e+00   \n",
       "25%    1.000000e+00  0.000000e+00  1.000000e+00  0.000000e+00   \n",
       "50%    4.000000e+00  0.000000e+00  1.000000e+00  0.000000e+00   \n",
       "75%    4.000000e+00  0.000000e+00  2.000000e+00  0.000000e+00   \n",
       "max    6.795700e+04  6.000000e+00  6.641900e+04  9.000000e+00   \n",
       "\n",
       "       POST_READ_START  POST_READ_MID  POST_READ_END  \n",
       "count     1.894590e+06   1.894590e+06   1.894590e+06  \n",
       "mean      1.093936e+00   1.041909e+00   9.715585e-01  \n",
       "std       1.010269e+01   9.743132e+00   8.422191e+00  \n",
       "min       0.000000e+00   0.000000e+00   0.000000e+00  \n",
       "25%       0.000000e+00   0.000000e+00   0.000000e+00  \n",
       "50%       1.000000e+00   1.000000e+00   1.000000e+00  \n",
       "75%       1.000000e+00   1.000000e+00   1.000000e+00  \n",
       "max       4.689000e+03   4.564000e+03   4.053000e+03  "
      ]
     },
     "execution_count": 5,
     "metadata": {},
     "output_type": "execute_result"
    }
   ],
   "source": [
    "query_df.describe()"
   ]
  },
  {
   "cell_type": "code",
   "execution_count": 3,
   "id": "dd4490a1-341f-428e-969b-789582961f09",
   "metadata": {},
   "outputs": [],
   "source": [
    "hist_df = query_df[[\n",
    "    'EVENTS', \n",
    "    'CITE', \n",
    "    'PAGE_VIEW', \n",
    "    'PDF_CLICK',\n",
    "    'POST_READ_START',\n",
    "    'POST_READ_MID',\n",
    "    'POST_READ_END'\n",
    "]]"
   ]
  },
  {
   "cell_type": "code",
   "execution_count": 44,
   "id": "eccc0bca-69c2-4413-a25d-1e66e0de9e6f",
   "metadata": {},
   "outputs": [
    {
     "data": {
      "image/png": "[encoded data removed]",
      "text/plain": [
       "<Figure size 640x480 with 9 Axes>"
      ]
     },
     "metadata": {},
     "output_type": "display_data"
    }
   ],
   "source": [
    "hist = hist_df.hist()"
   ]
  },
  {
   "cell_type": "code",
   "execution_count": 6,
   "id": "ffebc908-fc53-4aec-91e5-c27717205e7b",
   "metadata": {},
   "outputs": [
    {
     "data": {
      "text/plain": [
       "<AxesSubplot: >"
      ]
     },
     "execution_count": 6,
     "metadata": {},
     "output_type": "execute_result"
    },
    {
     "data": {
      "image/png": "[encoded data removed]",
      "text/plain": [
       "<Figure size 640x480 with 1 Axes>"
      ]
     },
     "metadata": {},
     "output_type": "display_data"
    }
   ],
   "source": [
    "# remove outlier big events\n",
    "hist_df['EVENTS'].where(lambda x: (x < 50) & (x > 20)).hist(bins = 29)\n",
    "\n",
    "# spike every ~4 events, most users have ~4 events only\n",
    "# figure out:\n",
    "# 1. cyclicity\n",
    "# 2. 20-50 events is good range to use - 12 different events, need at least 10x that\n",
    "# each category should have >120 (more is better); 80-20 train-test split\n",
    "# try 20-50 range vs 40-50 range at some point"
   ]
  },
  {
   "cell_type": "code",
   "execution_count": 25,
   "id": "3dd844ef-476b-4f5d-868c-0a56ce4ad453",
   "metadata": {},
   "outputs": [
    {
     "data": {
      "text/plain": [
       "<AxesSubplot: >"
      ]
     },
     "execution_count": 25,
     "metadata": {},
     "output_type": "execute_result"
    },
    {
     "data": {
      "image/png": "[encoded data removed]",
      "text/plain": [
       "<Figure size 640x480 with 1 Axes>"
      ]
     },
     "metadata": {},
     "output_type": "display_data"
    }
   ],
   "source": [
    "# majority has 0 citations\n",
    "hist_df['CITE'].where(lambda x: x > 0).hist(bins = 5)"
   ]
  },
  {
   "cell_type": "code",
   "execution_count": 35,
   "id": "916d1e59-9401-4d34-a71d-9ab87103dc55",
   "metadata": {},
   "outputs": [
    {
     "data": {
      "text/plain": [
       "<AxesSubplot: >"
      ]
     },
     "execution_count": 35,
     "metadata": {},
     "output_type": "execute_result"
    },
    {
     "data": {
      "image/png": "[encoded data removed]",
      "text/plain": [
       "<Figure size 640x480 with 1 Axes>"
      ]
     },
     "metadata": {},
     "output_type": "display_data"
    }
   ],
   "source": [
    "hist_df['PAGE_VIEW'].where(lambda x: x < 25).hist(bins = 50)"
   ]
  },
  {
   "cell_type": "code",
   "execution_count": 54,
   "id": "cd65c3ef-a9dd-4d2d-8995-be8972b5351e",
   "metadata": {},
   "outputs": [
    {
     "data": {
      "text/plain": [
       "<AxesSubplot: >"
      ]
     },
     "execution_count": 54,
     "metadata": {},
     "output_type": "execute_result"
    },
    {
     "data": {
      "image/png": "[encoded data removed]",
      "text/plain": [
       "<Figure size 640x480 with 1 Axes>"
      ]
     },
     "metadata": {},
     "output_type": "display_data"
    }
   ],
   "source": [
    "hist_df['PDF_CLICK'].where(lambda x: (x < 5) & (x > 0)).hist(bins = 5)"
   ]
  },
  {
   "cell_type": "code",
   "execution_count": 56,
   "id": "1473dfe9-f736-4dd2-921d-1cf6fe790887",
   "metadata": {},
   "outputs": [
    {
     "data": {
      "text/plain": [
       "<AxesSubplot: >"
      ]
     },
     "execution_count": 56,
     "metadata": {},
     "output_type": "execute_result"
    },
    {
     "data": {
      "image/png": "[encoded data removed]",
      "text/plain": [
       "<Figure size 640x480 with 1 Axes>"
      ]
     },
     "metadata": {},
     "output_type": "display_data"
    }
   ],
   "source": [
    "hist_df['POST_READ_START'].where(lambda x: (x < 50) & (x > 0)).hist(bins = 25)"
   ]
  },
  {
   "cell_type": "code",
   "execution_count": 57,
   "id": "041323e4-8cb7-4f5e-944c-3ed79894dc05",
   "metadata": {},
   "outputs": [
    {
     "data": {
      "text/plain": [
       "<AxesSubplot: >"
      ]
     },
     "execution_count": 57,
     "metadata": {},
     "output_type": "execute_result"
    },
    {
     "data": {
      "image/png": "[encoded data removed]",
      "text/plain": [
       "<Figure size 640x480 with 1 Axes>"
      ]
     },
     "metadata": {},
     "output_type": "display_data"
    }
   ],
   "source": [
    "hist_df['POST_READ_MID'].where(lambda x: (x < 50) & (x > 0)).hist(bins = 25)"
   ]
  },
  {
   "cell_type": "code",
   "execution_count": 58,
   "id": "2fa4a8bf-0507-471a-938c-5e594b6b1221",
   "metadata": {},
   "outputs": [
    {
     "data": {
      "text/plain": [
       "<AxesSubplot: >"
      ]
     },
     "execution_count": 58,
     "metadata": {},
     "output_type": "execute_result"
    },
    {
     "data": {
      "image/png": "[encoded data removed]",
      "text/plain": [
       "<Figure size 640x480 with 1 Axes>"
      ]
     },
     "metadata": {},
     "output_type": "display_data"
    }
   ],
   "source": [
    "hist_df['POST_READ_END'].where(lambda x: (x < 50) & (x > 0)).hist(bins = 25)"
   ]
  },
  {
   "cell_type": "code",
   "execution_count": null,
   "id": "a6c3c30c-c3d0-4fa2-9e88-877f0357e307",
   "metadata": {},
   "outputs": [],
   "source": []
  }
 ],
 "metadata": {
  "kernelspec": {
   "display_name": "Python 3 (ipykernel)",
   "language": "python",
   "name": "python3"
  },
  "language_info": {
   "codemirror_mode": {
    "name": "ipython",
    "version": 3
   },
   "file_extension": ".py",
   "mimetype": "text/x-python",
   "name": "python",
   "nbconvert_exporter": "python",
   "pygments_lexer": "ipython3",
   "version": "3.8.13"
  }
 },
 "nbformat": 4,
 "nbformat_minor": 5
}
